{
 "cells": [
  {
   "cell_type": "markdown",
   "id": "d65e6ef4",
   "metadata": {},
   "source": [
    "# Understanding Contamination Bias"
   ]
  },
  {
   "cell_type": "markdown",
   "id": "56939826",
   "metadata": {},
   "source": [
    "*Problems and solutions of linear regression with multiple treatments*"
   ]
  },
  {
   "cell_type": "markdown",
   "id": "26f112fb",
   "metadata": {},
   "source": [
    "In many causal inference settings, we might be interested in the effect of not just one treatment, but **many mutually exclusive treatments**. For example, we might want to test alternative UX designs, or drugs, or policies. Depending on the context, there might be many reasons why we want to test different treatments at the same time, but generally it can help *reducing the sample size*, as we need just a single control group. A simple way to recover the different treatment effects is a linear regression of the outcome of interest on the different treatment indicators.\n",
    "\n",
    "However, in causal inference, we often **condition the analysis** on other observable variables (often called control variables), either to increase power or, especially in quasi-experimental settings, to identify a causal parameter instead of a simple correlation. There are [cases in which adding control variables can backfire](https://towardsdatascience.com/b63dc69e3d8c), but otherwise, we usually think that the regression framework is still able to recover the average treatment effect.\n",
    "\n",
    "In a breakthrough paper, [Goldsmith-Pinkham, Hull and Kolesár (2022)](https://www.nber.org/papers/w30108) have recently shown that in case of *multiple and mutually-exclusive* treatments with *control variables*, the **regression coefficients do not identify a causal effect**. However, not everything is lost: the authors propose a simple solution to this problem that still makes use of linear regression.\n",
    "\n",
    "In this blog post, I am going to go through a **simple example** illustrating the nature of the problem and the solution proposed by the authors. "
   ]
  },
  {
   "cell_type": "markdown",
   "id": "ea6c0991",
   "metadata": {},
   "source": [
    "## Multiple Treatments Example"
   ]
  },
  {
   "cell_type": "markdown",
   "id": "6977fd91",
   "metadata": {},
   "source": [
    "Suppose we are an online store and we are not satisfied with our current *checkout page*. In particular, we would like to change our **checkout button** to increase the probability of a purchase. Our UX designer comes up with two alternative checkout buttons, which are displayed below."
   ]
  },
  {
   "cell_type": "markdown",
   "id": "5cd7d010",
   "metadata": {},
   "source": [
    "<img src=\"fig/buttons.png\" width=\"800px\"/>"
   ]
  },
  {
   "cell_type": "markdown",
   "id": "99471cdf",
   "metadata": {},
   "source": [
    "In order to understand which button to use, we run an [**A/B test**](https://en.wikipedia.org/wiki/A/B_testing), or randomized control trial. In particular, when people arrive at the checkout page, we show them one of the three options, at random. Then, for each user, we record the revenue generated which is our outcome of interest.\n",
    "\n",
    "I generate a synthetic dataset using `dgp_buttons()` from [`src.dgp`](https://github.com/matteocourthoud/Blog-Posts/blob/main/notebooks/src/dgp.py) as data generating process. I also import plotting functions and standard libraries from [`src.utils`](https://github.com/matteocourthoud/Blog-Posts/blob/main/notebooks/src/utils.py)."
   ]
  },
  {
   "cell_type": "code",
   "execution_count": 1,
   "id": "78359868",
   "metadata": {
    "ExecuteTime": {
     "end_time": "2022-06-15T08:11:40.342986Z",
     "start_time": "2022-06-15T08:11:39.717956Z"
    }
   },
   "outputs": [],
   "source": [
    "%matplotlib inline\n",
    "%config InlineBackend.figure_format = 'retina'"
   ]
  },
  {
   "cell_type": "code",
   "execution_count": 2,
   "id": "9c6c717e",
   "metadata": {
    "ExecuteTime": {
     "end_time": "2022-06-15T08:12:07.499691Z",
     "start_time": "2022-06-15T08:11:40.344023Z"
    }
   },
   "outputs": [],
   "source": [
    "from src.utils import *\n",
    "from src.dgp import dgp_buttons"
   ]
  },
  {
   "cell_type": "code",
   "execution_count": 3,
   "id": "1ecdb895",
   "metadata": {
    "ExecuteTime": {
     "end_time": "2022-06-15T08:12:07.513853Z",
     "start_time": "2022-06-15T08:12:07.500843Z"
    }
   },
   "outputs": [
    {
     "data": {
      "text/html": [
       "<div>\n",
       "<style scoped>\n",
       "    .dataframe tbody tr th:only-of-type {\n",
       "        vertical-align: middle;\n",
       "    }\n",
       "\n",
       "    .dataframe tbody tr th {\n",
       "        vertical-align: top;\n",
       "    }\n",
       "\n",
       "    .dataframe thead th {\n",
       "        text-align: right;\n",
       "    }\n",
       "</style>\n",
       "<table border=\"1\" class=\"dataframe\">\n",
       "  <thead>\n",
       "    <tr style=\"text-align: right;\">\n",
       "      <th></th>\n",
       "      <th>group</th>\n",
       "      <th>revenue</th>\n",
       "      <th>mobile</th>\n",
       "    </tr>\n",
       "  </thead>\n",
       "  <tbody>\n",
       "    <tr>\n",
       "      <th>0</th>\n",
       "      <td>button1</td>\n",
       "      <td>8.927335</td>\n",
       "      <td>0</td>\n",
       "    </tr>\n",
       "    <tr>\n",
       "      <th>1</th>\n",
       "      <td>default</td>\n",
       "      <td>13.613456</td>\n",
       "      <td>1</td>\n",
       "    </tr>\n",
       "    <tr>\n",
       "      <th>2</th>\n",
       "      <td>button2</td>\n",
       "      <td>4.777628</td>\n",
       "      <td>0</td>\n",
       "    </tr>\n",
       "    <tr>\n",
       "      <th>3</th>\n",
       "      <td>default</td>\n",
       "      <td>8.909049</td>\n",
       "      <td>0</td>\n",
       "    </tr>\n",
       "    <tr>\n",
       "      <th>4</th>\n",
       "      <td>default</td>\n",
       "      <td>10.160347</td>\n",
       "      <td>0</td>\n",
       "    </tr>\n",
       "  </tbody>\n",
       "</table>\n",
       "</div>"
      ],
      "text/plain": [
       "      group    revenue  mobile\n",
       "0   button1   8.927335       0\n",
       "1   default  13.613456       1\n",
       "2   button2   4.777628       0\n",
       "3   default   8.909049       0\n",
       "4   default  10.160347       0"
      ]
     },
     "execution_count": 3,
     "metadata": {},
     "output_type": "execute_result"
    }
   ],
   "source": [
    "dgp = dgp_buttons()\n",
    "df = dgp.generate_data()\n",
    "df.head()"
   ]
  },
  {
   "cell_type": "markdown",
   "id": "46ac7b6e",
   "metadata": {},
   "source": [
    "We have information on 2000 users, for which we observe their checkout button (`default`, `button1` or `button2`), the `revenue` they generate and whether they connected from desktop or `mobile`. \n",
    "\n",
    "We notice too late that we have a **problem with randomization**. We showed `button1` more frequently to desktop users and `button2` more frequently to mobile users. The control group that sees the `default` button instead is balanced."
   ]
  },
  {
   "cell_type": "markdown",
   "id": "218e6b56",
   "metadata": {},
   "source": [
    "<img src=\"fig/randomization.png\" width=\"600px\"/>"
   ]
  },
  {
   "cell_type": "markdown",
   "id": "9ecb570d",
   "metadata": {},
   "source": [
    "What should we do? What happens if we simply compare `revenue` across `groups`? Let's do it by regressing `revenue` on `group` dummy variables."
   ]
  },
  {
   "cell_type": "code",
   "execution_count": 4,
   "id": "a6a360e2",
   "metadata": {
    "ExecuteTime": {
     "end_time": "2022-06-15T08:12:07.527384Z",
     "start_time": "2022-06-15T08:12:07.516969Z"
    },
    "scrolled": false
   },
   "outputs": [
    {
     "data": {
      "text/html": [
       "<table class=\"simpletable\">\n",
       "<tr>\n",
       "          <td></td>            <th>coef</th>     <th>std err</th>      <th>t</th>      <th>P>|t|</th>  <th>[0.025</th>    <th>0.975]</th>  \n",
       "</tr>\n",
       "<tr>\n",
       "  <th>Intercept</th>        <td>   11.6553</td> <td>    0.149</td> <td>   78.250</td> <td> 0.000</td> <td>   11.363</td> <td>   11.948</td>\n",
       "</tr>\n",
       "<tr>\n",
       "  <th>group[T.button1]</th> <td>   -0.5802</td> <td>    0.227</td> <td>   -2.556</td> <td> 0.011</td> <td>   -1.026</td> <td>   -0.135</td>\n",
       "</tr>\n",
       "<tr>\n",
       "  <th>group[T.button2]</th> <td>   -0.5958</td> <td>    0.218</td> <td>   -2.727</td> <td> 0.006</td> <td>   -1.024</td> <td>   -0.167</td>\n",
       "</tr>\n",
       "</table>"
      ],
      "text/plain": [
       "<class 'statsmodels.iolib.table.SimpleTable'>"
      ]
     },
     "execution_count": 4,
     "metadata": {},
     "output_type": "execute_result"
    }
   ],
   "source": [
    "smf.ols('revenue ~ group', data=df).fit().summary().tables[1]"
   ]
  },
  {
   "cell_type": "markdown",
   "id": "30135daa",
   "metadata": {},
   "source": [
    "From the regression results we estimate a negative and significant effect for both buttons. Should we believe these estimates? Are they **causal**?\n",
    "\n",
    "It is unlikely that what we have estimated are the true treatment effects. In fact, there might be substantial **differences in purchase attitudes** between desktop and mobile users. Since we do not have a comparable number of mobile and desktop users across treatment arms, it might be that the observed differences in `revenue` are due to the *device* used and not the *button design*.\n",
    "\n",
    "Because of this, we decide to **condition** our analysis on the device used and we include the `mobile` dummy variable in the regression."
   ]
  },
  {
   "cell_type": "code",
   "execution_count": 5,
   "id": "9e8173bc",
   "metadata": {
    "ExecuteTime": {
     "end_time": "2022-06-15T08:12:07.537675Z",
     "start_time": "2022-06-15T08:12:07.528057Z"
    }
   },
   "outputs": [
    {
     "data": {
      "text/html": [
       "<table class=\"simpletable\">\n",
       "<tr>\n",
       "          <td></td>            <th>coef</th>     <th>std err</th>      <th>t</th>      <th>P>|t|</th>  <th>[0.025</th>    <th>0.975]</th>  \n",
       "</tr>\n",
       "<tr>\n",
       "  <th>Intercept</th>        <td>    9.1414</td> <td>    0.110</td> <td>   82.905</td> <td> 0.000</td> <td>    8.925</td> <td>    9.358</td>\n",
       "</tr>\n",
       "<tr>\n",
       "  <th>group[T.button1]</th> <td>    0.3609</td> <td>    0.141</td> <td>    2.558</td> <td> 0.011</td> <td>    0.084</td> <td>    0.638</td>\n",
       "</tr>\n",
       "<tr>\n",
       "  <th>group[T.button2]</th> <td>   -1.0326</td> <td>    0.134</td> <td>   -7.684</td> <td> 0.000</td> <td>   -1.296</td> <td>   -0.769</td>\n",
       "</tr>\n",
       "<tr>\n",
       "  <th>mobile</th>           <td>    4.7181</td> <td>    0.116</td> <td>   40.691</td> <td> 0.000</td> <td>    4.491</td> <td>    4.946</td>\n",
       "</tr>\n",
       "</table>"
      ],
      "text/plain": [
       "<class 'statsmodels.iolib.table.SimpleTable'>"
      ]
     },
     "execution_count": 5,
     "metadata": {},
     "output_type": "execute_result"
    }
   ],
   "source": [
    "smf.ols('revenue ~ group + mobile', data=df).fit().summary().tables[1]"
   ]
  },
  {
   "cell_type": "markdown",
   "id": "fc81f7ef",
   "metadata": {},
   "source": [
    "Now the coefficient of `button1` is positive and significant. Should we recommend its implementation?\n",
    "\n",
    "The answer is **surprisingly no**. [Goldsmith-Pinkham, Hull, Kolesár (2022)](https://www.nber.org/papers/w30108) show that this type of regression does not identify the average treatment effect when:\n",
    "\n",
    "- there are mutually exclusive treatment arms (in our case, `groups`)\n",
    "- we are controlling for some variable $X$ (in our case, `mobile`)\n",
    "- there treatment effects are heterogeneous in $X$\n",
    "\n",
    "This is true **even if** the treatment is \"as good as random\" once we condition on $X$. \n",
    "\n",
    "Indeed, in our case, the true treatment effects are the ones reported in the following table."
   ]
  },
  {
   "cell_type": "markdown",
   "id": "20e03e06",
   "metadata": {},
   "source": [
    "<img src=\"fig/effects.png\" width=\"500px\"/>"
   ]
  },
  {
   "cell_type": "markdown",
   "id": "89f212bc",
   "metadata": {},
   "source": [
    "The first button has **no effect** on revenue, irrespectively of the device, while the second button has a **positive effect** for mobile users and a **negative effect** for desktop users. Our (wrong) regression specification instead estimates a positive effect of the first button.\n",
    "\n",
    "Let's now dig more in detail into the math, to understand why this is happening."
   ]
  },
  {
   "cell_type": "markdown",
   "id": "ed5a625e",
   "metadata": {},
   "source": [
    "## Theory"
   ]
  },
  {
   "cell_type": "markdown",
   "id": "d294504b",
   "metadata": {},
   "source": [
    "This section borrows heavily from [Goldsmith-Pinkham, Hull, Kolesár (2022)](https://www.nber.org/papers/w30108). For a great summary of the paper, I recommend this excellent Twitter thread by one of the authors, Paul Goldsmith-Pinkham.\n",
    "\n",
    "{{< tweet 1534169803388293120 >}}"
   ]
  },
  {
   "cell_type": "markdown",
   "id": "f478e7a9",
   "metadata": {},
   "source": [
    "### Single Treatment Arm"
   ]
  },
  {
   "cell_type": "markdown",
   "id": "ca4d2e2d",
   "metadata": {},
   "source": [
    "Suppose we are interested in the effect of a treatment $D$ on an outcome $Y$. First, let's consider the standard case of a **single treatment arm** so that the treatment variable is binary, $D \\in \\lbrace 0 , 1 \\rbrace$. Also consider a single **binary control variable** $X \\in \\lbrace 0 , 1 \\rbrace$. We also assume that treatment assignment is as good as random, conditionally on $X$. This means that there might be systematic differences between the treatment and control group, however, these differences are fully accounted for by $X$. Formally we write\n",
    "\n",
    "$$\n",
    "\\left( Y_i^{(0)}, Y_i^{(1)} \\right) \\ \\perp \\ D_i \\ | \\ X_i\n",
    "$$\n",
    "\n",
    "Where $Y_i^{(d)}$ denotes the potential outcome of individual $i$ when its treatment status is $d$. For example, $Y_i^{(0)}$ indicates the outcome of individual $i$ in case it is not treated. This notation comes from [Rubin's potential outcomes framework](https://www.tandfonline.com/doi/abs/10.1198/016214504000001880). We can write the **individual treatment effect** of individual $i$ as\n",
    "\n",
    "$$\n",
    "\\tau_i = Y_i^{(1)} - Y_i^{(0)}\n",
    "$$\n",
    "\n",
    "In this setting, the **regression of interest** is\n",
    "\n",
    "$$\n",
    "Y_i = \\alpha + \\beta D_i + \\gamma X_i + u_i\n",
    "$$\n",
    "\n",
    "The coefficient of interest is $\\beta$. \n",
    "\n",
    "[Angrist (1998)](https://www.jstor.org/stable/2998558) shows that **the regression coefficient $\\beta$ identifies the average treatment effect**. In particular, $\\beta$ identifies a weighted average of the within-group $x$ average treatment effect $\\tau (x)$ with convex weights. In this particular setting, we can write it as\n",
    "\n",
    "$$\n",
    "\\beta = \\lambda \\tau(0) + (1 - \\lambda) \\tau(1) \\qquad \\text{where} \\qquad \\tau (x) = \\mathbb E \\big[ Y_i^{(1)} - Y_i^{(0)} \\ \\big| \\ X_i = x \\big]\n",
    "$$\n",
    "\n",
    "The weights $\\lambda$ and $(1-\\lambda)$ are given by the within-group treatment variance. Hence, the OLS estimator gives **less weight to groups where we have less treatment variance**, i.e., where treatment is more imbalanced. Groups where treatment is distributed 50-50 get the most weight.\n",
    "\n",
    "$$\n",
    "\\lambda = \\frac{ \\text{Var} \\big(D_i \\ \\big| \\ X_i = 0 \\big) \\Pr \\big(X_i=0 \\big)}{\\sum_{x \\in \\lbrace 0 , 1 \\rbrace} \\text{Var} \\big(D_i \\ \\big| \\ X_i = x \\big) \\Pr \\big( X_i=x \\big)} \\in [0, 1]\n",
    "$$\n",
    "\n",
    "The weights can be derived using the [Frisch-Waugh-Lowell theorem](https://towardsdatascience.com/59f801eb3299) to express $\\beta_1$ as the OLS coefficient of a univariate regression of $Y$ on $D_{i, \\perp X}$, where $D_{i, \\perp X}$ are the residuals from regressing $D$ on $X$. If you are not familiar with the Frisch-Waugh-Lowell theorem, I wrote an [introductory blog post here](https://towardsdatascience.com/59f801eb3299).\n",
    "\n",
    "$$\n",
    "\\beta_1 = \\frac{ \\mathbb E \\big[ D_{i, \\perp X} Y_i \\big] }{ \\mathbb E \\big[ D_{i, \\perp X}^2 \\big] } = \n",
    "\\underbrace{ \\frac{\\mathbb E \\big[ D_{i, \\perp X} Y_i(0) \\big]}{\\mathbb E \\big[ D_{i, \\perp X}^2 \\big]} } _ {=0} + \\frac{\\mathbb E \\big[ D_{i, \\perp X} D_i \\tau_i \\big]}{\\mathbb E \\big[ D_{i, \\perp X}^2 \\big]} =\n",
    "\\frac{\\mathbb E \\big[ \\text{Var} (D_i | X_i) \\ \\tau(X_i) \\big]}{\\mathbb E \\big[ \\text{Var}(D_i | X_i) \\big]}\n",
    "$$\n",
    "\n",
    "The first term of the central expression disappears because the residual $D_{i, \\perp X}$ is by construction **mean independent** of the control variable $X_i$, i.e. \n",
    "\n",
    "$$\n",
    "\\mathbb E \\big[ D_{i, \\perp X} | X_i \\big] = 0\n",
    "$$\n",
    "\n",
    "This mean independence property is crucial to obtain an unbiased estimate and its failure in the multiple-treatment case is the source of the *contamination bias*."
   ]
  },
  {
   "cell_type": "markdown",
   "id": "d036d597",
   "metadata": {},
   "source": [
    "### Multiple Treatment Arms"
   ]
  },
  {
   "cell_type": "markdown",
   "id": "58d6eeac",
   "metadata": {},
   "source": [
    "Let's now consider the case of multiple treatment arms, $D \\in \\lbrace 0, 1, 2 \\rbrace$, where $1$ and $2$ indicate two mutually-exclusive treatments. We still assume **conditional ignorability**, i.e., treatment assignment is as good as random, conditional on $X$.\n",
    "\n",
    "$$\n",
    "\\left( Y_i^{(0)}, Y_i^{(1)}, Y_i^{(2)} \\right) \\ \\perp \\ D_i \\ | \\ X_i\n",
    "$$\n",
    "\n",
    "In this case, we have two different **individual treatment effects**, one per treatment.\n",
    "\n",
    "$$\n",
    "\\tau_{i1} = Y_i^{(1)} - Y_i^{(0)} \\qquad \\text{and} \\qquad \\tau_{i2} = Y_i^{(2)} - Y_i^{(0)}\n",
    "$$\n",
    "\n",
    "The **regression of interest** is\n",
    "\n",
    "$$\n",
    "Y_i = \\alpha + \\beta_1 D_{i1} + \\beta_2 D_{i2} + \\gamma X_i + u_i\n",
    "$$\n",
    "\n",
    "Does the OLS estimator of $\\beta_1$ and $\\beta_2$ **identify** an average treatment effect? \n",
    "\n",
    "It would be very tempting to say yes. In fact, it looks like not much has changed with respect to the previous setup. We just have one extra treatment, but the potential outcomes are still conditionally independent of it. Where is the **issue**?\n",
    "\n",
    "Let's concentrate on $\\beta_1$ (the same applies to $\\beta_2$). As before, can rewrite $\\beta_1$ using the [Frisch-Waugh-Lowell theorem](https://towardsdatascience.com/59f801eb3299) as the OLS coefficient of a univariate regression of $Y_i$ on $D_{i1, \\perp X, D_2}$, where $D_{i1, \\perp X, D_2}$ are the residuals from regressing $D_1$ on $D_2$ and $X$. \n",
    "\n",
    "$$\n",
    "\\beta_1 = \\frac{ \\mathbb E \\big[D_{i1, \\perp X, D_2} Y_i \\big] }{ \\mathbb E \\big[ D_{i1, \\perp X, D_2}^2 \\big]} = \\underbrace{ \\frac{ \\mathbb E \\big[ D_{i1, \\perp X, D_2} Y_i(0) \\big] }{\\mathbb E \\big[ D_{i1, \\perp X, D_2}^2 \\big]} } _ {=0} + \\frac{ \\mathbb E \\big[ D_{i1, \\perp X, D_2} D_{i1} \\tau_{i1} \\big] }{ \\mathbb E \\big[ D_{i1, \\perp X, D_2}^2 \\big]} + \\color{red}{ \\underbrace{ \\color{black}{ \\frac{ \\mathbb E \\big[ D_{i1, \\perp X, D_2} D_{i2} \\tau_{i2} \\big] }{ \\mathbb E \\big[ D_{i1, \\perp X, D_2}^2 \\big]}} } _ { \\neq 0} }\n",
    "$$\n",
    "\n",
    "The **problem** is the last term. Without the last term, we could still write $\\beta_1$ as a convex combination of the individual treatment effects. However, the last term biases the estimator by adding a component that depends on **the treatment effect of $D_2$**, $\\tau_2$. Why does this term not disappear?\n",
    "\n",
    "The problem is that $D_{i1, \\perp X, D_2}$ is not mean independent of $D_{i2}$, i.e. \n",
    "\n",
    "$$\n",
    "\\mathbb E \\big[ D_{i1, \\perp X, D_2} D_{i2} \\ \\big| \\ X_i \\big] \\neq 0\n",
    "$$\n",
    "\n",
    "The reason lies in the fact that the treatments are **mutually exclusive**. This implies that when $D_{i1}=1$, $D_{i2}$ must be zero, regardless of the value of $X_i$. Therefore, the last term does not cancel out and it introduces a **contamination bias**."
   ]
  },
  {
   "cell_type": "markdown",
   "id": "c5df503e",
   "metadata": {},
   "source": [
    "### Solution"
   ]
  },
  {
   "cell_type": "markdown",
   "id": "7536f792",
   "metadata": {},
   "source": [
    "[Goldsmith-Pinkham, Hull, Kolesár (2022)](https://www.nber.org/papers/w30108) show that a **simple estimator**, first proposed by [Imbens and Wooldridge (2009)](https://www.aeaweb.org/articles?id=10.1257/jel.47.1.5), is able to remove the bias. The procedure is the following.\n",
    "\n",
    "1. De-mean the control variable: $\\tilde X = X - \\bar X$\n",
    "2. Regress $Y$ on the interaction between the treatment indicators $D$ and the demeaned control variable $\\tilde X$\n",
    "\n",
    "The OLS estimators of $\\beta_1$ and $\\beta_2$ are **unbiased** estimators of the average treatment effects. It also just requires a linear regression. Moreover, this estimator is unbiased also for continuous control variables $X$, not only for a binary one as we have considered so far. "
   ]
  },
  {
   "cell_type": "markdown",
   "id": "ad7f4210",
   "metadata": {},
   "source": [
    "**Why** was this estimator initially proposed by [Imbens and Wooldridge (2009)](https://www.aeaweb.org/articles?id=10.1257/jel.47.1.5)? Let's analyze two parts separately: the interaction term between $D$ and $X$ and the fact that $X$ is de-meaned in the interaction term.\n",
    "\n",
    "First, the **interaction term** $D X$ allows us to control for different effects and/or distributions of $X$ across treatment and control group. \n",
    "\n",
    "Second, **de-meaning** $X$ in the interaction term allows us to **interpret** the estimated coefficient $\\hat \\beta$ as the average treatment effect. In fact, assume we were estimating the following linear model, where $X$ is *not* de-meaned in the interaction term.\n",
    "\n",
    "$$\n",
    "Y_i = \\alpha + \\beta D_i + \\gamma X_i + \\delta D_i X_i + u_i\n",
    "$$\n",
    "\n",
    "In this case, the marginal effect of $D$ on $Y$ is $\\beta + \\delta X_i$ so that the *average* marginal effect is $\\beta + \\delta \\bar X$ which is different from $\\beta$.\n",
    "\n",
    "If instead we use the de-meaned value of $X$ in the interaction term, the marginal effect of $D$ on $Y$ is $\\beta + \\delta (X_i - \\bar X)$ so that the *average* marginal effect is $\\beta + \\delta (\\bar X - \\bar X) = \\beta$. Now we can interpret $\\beta$ as the average marginal effect of $D$ on $Y$."
   ]
  },
  {
   "cell_type": "markdown",
   "id": "4db076be",
   "metadata": {},
   "source": [
    "## Simulations"
   ]
  },
  {
   "cell_type": "markdown",
   "id": "8a2c97bd",
   "metadata": {},
   "source": [
    "In order to better understand both the problem and the solution, let's run some **simulations**.\n",
    "\n",
    "We run an estimator over different draws from the data generating process `dgp_buttons()`. This is only possible with synthetic data and we do not have this luxury in reality. For each sample, we record the estimated coefficient and the corresponding [p-value](https://en.wikipedia.org/wiki/P-value)."
   ]
  },
  {
   "cell_type": "code",
   "execution_count": 6,
   "id": "640e38d2",
   "metadata": {
    "ExecuteTime": {
     "end_time": "2022-06-15T08:12:07.543208Z",
     "start_time": "2022-06-15T08:12:07.539986Z"
    }
   },
   "outputs": [],
   "source": [
    "def simulate(dgp, estimator, K=1000):\n",
    "    \n",
    "    # Initialize coefficients\n",
    "    results = pd.DataFrame({'Coefficient': np.zeros(K), 'pvalue': np.zeros(K)})\n",
    "    \n",
    "    # Compute coefficients\n",
    "    for k in range(K):\n",
    "        df = dgp.generate_data(seed=k)\n",
    "        results.Coefficient[k] = estimator(df).params[1]\n",
    "        results.pvalue[k] = estimator(df).pvalues[1]\n",
    "    \n",
    "    results['Significant'] = results['pvalue'] < 0.05\n",
    "    return results"
   ]
  },
  {
   "cell_type": "markdown",
   "id": "49c92ca8",
   "metadata": {},
   "source": [
    "First, let's try it with the old estimator that regresses `revenue` on both `group` and `mobile` dummy variables."
   ]
  },
  {
   "cell_type": "code",
   "execution_count": 7,
   "id": "0b8282e2",
   "metadata": {
    "ExecuteTime": {
     "end_time": "2022-06-15T08:12:16.262893Z",
     "start_time": "2022-06-15T08:12:07.543959Z"
    }
   },
   "outputs": [],
   "source": [
    "ols_estimator = lambda x: smf.ols('revenue ~ group + mobile', data=x).fit()\n",
    "results = simulate(dgp, ols_estimator)"
   ]
  },
  {
   "cell_type": "markdown",
   "id": "52a7df60",
   "metadata": {},
   "source": [
    "I **plot** the distribution of the coefficient estimates of `button1` over 1000 simulations, highlighting the statistically significant ones at the 5% level. I also highlight the true value of the coefficient, zero, with a vertical dotted bar."
   ]
  },
  {
   "cell_type": "code",
   "execution_count": 8,
   "id": "ce0b875c",
   "metadata": {
    "ExecuteTime": {
     "end_time": "2022-06-15T08:12:16.265757Z",
     "start_time": "2022-06-15T08:12:16.263722Z"
    }
   },
   "outputs": [],
   "source": [
    "def plot_results(results):\n",
    "    p_sig = sum(results['Significant']) / len(results) * 100\n",
    "    sns.histplot(data=results, x=\"Coefficient\", hue=\"Significant\", multiple=\"stack\", \n",
    "                 palette = ['tab:red', 'tab:green']);\n",
    "    plt.axvline(x=0, c='k', ls='--', label='truth')\n",
    "    plt.title(rf\"Estimated $\\beta_1$ ({p_sig:.0f}% significant)\");"
   ]
  },
  {
   "cell_type": "code",
   "execution_count": 9,
   "id": "5583f857",
   "metadata": {
    "ExecuteTime": {
     "end_time": "2022-06-15T08:12:16.552780Z",
     "start_time": "2022-06-15T08:12:16.266369Z"
    }
   },
   "outputs": [
    {
     "data": {
      "image/png": "[encoded data removed]",
      "text/plain": [
       "<Figure size 720x432 with 1 Axes>"
      ]
     },
     "metadata": {
      "image/png": {
       "height": 419,
       "width": 622
      }
     },
     "output_type": "display_data"
    }
   ],
   "source": [
    "plot_results(results)"
   ]
  },
  {
   "cell_type": "markdown",
   "id": "786997ba",
   "metadata": {},
   "source": [
    "As we can see, we reject the null hypothesis of no effect of `button1` in 45% of the simulations. Since we set a confidence level of 5%, we would have expected at most around 5% of rejections. Our estimator is **biased**.\n",
    "\n",
    "As we have seen above, the problem is that the estimator is not just a convex combination of the effect of `button1` across mobile and desktop users (it's zero for both), but it is **contaminated** by the effect of `button2`.\n",
    "\n",
    "Let's now try the estimator proposed from [Imbens and Wooldridge (2009)](https://www.aeaweb.org/articles?id=10.1257/jel.47.1.5). First, we need do de-mean our control variable, `mobile`. Then, we regress `revenue` on the interaction between `group` and the de-meaned control variable, `mobile_res`."
   ]
  },
  {
   "cell_type": "code",
   "execution_count": 18,
   "id": "c2f33ceb",
   "metadata": {
    "ExecuteTime": {
     "end_time": "2022-06-15T08:13:47.824574Z",
     "start_time": "2022-06-15T08:13:47.799224Z"
    }
   },
   "outputs": [
    {
     "data": {
      "text/html": [
       "<table class=\"simpletable\">\n",
       "<tr>\n",
       "               <td></td>                  <th>coef</th>     <th>std err</th>      <th>t</th>      <th>P>|t|</th>  <th>[0.025</th>    <th>0.975]</th>  \n",
       "</tr>\n",
       "<tr>\n",
       "  <th>Intercept</th>                   <td>   11.5773</td> <td>    0.067</td> <td>  172.864</td> <td> 0.000</td> <td>   11.446</td> <td>   11.709</td>\n",
       "</tr>\n",
       "<tr>\n",
       "  <th>group[T.button1]</th>            <td>    0.0281</td> <td>    0.106</td> <td>    0.266</td> <td> 0.790</td> <td>   -0.180</td> <td>    0.236</td>\n",
       "</tr>\n",
       "<tr>\n",
       "  <th>group[T.button2]</th>            <td>   -1.5071</td> <td>    0.100</td> <td>  -15.112</td> <td> 0.000</td> <td>   -1.703</td> <td>   -1.311</td>\n",
       "</tr>\n",
       "<tr>\n",
       "  <th>mobile_res</th>                  <td>    2.9107</td> <td>    0.134</td> <td>   21.715</td> <td> 0.000</td> <td>    2.648</td> <td>    3.174</td>\n",
       "</tr>\n",
       "<tr>\n",
       "  <th>group[T.button1]:mobile_res</th> <td>    0.1605</td> <td>    0.211</td> <td>    0.760</td> <td> 0.448</td> <td>   -0.254</td> <td>    0.575</td>\n",
       "</tr>\n",
       "<tr>\n",
       "  <th>group[T.button2]:mobile_res</th> <td>    5.3771</td> <td>    0.200</td> <td>   26.905</td> <td> 0.000</td> <td>    4.985</td> <td>    5.769</td>\n",
       "</tr>\n",
       "</table>"
      ],
      "text/plain": [
       "<class 'statsmodels.iolib.table.SimpleTable'>"
      ]
     },
     "execution_count": 18,
     "metadata": {},
     "output_type": "execute_result"
    }
   ],
   "source": [
    "df['mobile_res'] = df['mobile'] - np.mean(df['mobile'])\n",
    "smf.ols('revenue ~ group * mobile_res', data=df).fit().summary().tables[1]"
   ]
  },
  {
   "cell_type": "markdown",
   "id": "24980fec",
   "metadata": {},
   "source": [
    "The estimated coefficients are now **close to their true values**. The estimated coefficient for `button1` is not significant, while the estimated coefficient for `button2` is negative and significant.\n",
    "\n",
    "Let's check whether this results holds **across samples** by running a simulation. We repeat the estimation procedure 1000 times and we plot the distribution of estimated coefficients for `button1`."
   ]
  },
  {
   "cell_type": "code",
   "execution_count": 11,
   "id": "86e07e07",
   "metadata": {
    "ExecuteTime": {
     "end_time": "2022-06-15T08:12:25.500885Z",
     "start_time": "2022-06-15T08:12:16.566072Z"
    }
   },
   "outputs": [],
   "source": [
    "new_estimator = lambda x: smf.ols('revenue ~ group * mobile', data=x).fit()\n",
    "new_results = simulate(dgp, new_estimator)"
   ]
  },
  {
   "cell_type": "code",
   "execution_count": 12,
   "id": "3d0da273",
   "metadata": {
    "ExecuteTime": {
     "end_time": "2022-06-15T08:12:25.639172Z",
     "start_time": "2022-06-15T08:12:25.501567Z"
    }
   },
   "outputs": [
    {
     "data": {
      "image/png": "[encoded data removed]",
      "text/plain": [
       "<Figure size 720x432 with 1 Axes>"
      ]
     },
     "metadata": {
      "image/png": {
       "height": 419,
       "width": 622
      }
     },
     "output_type": "display_data"
    }
   ],
   "source": [
    "plot_results(new_results)"
   ]
  },
  {
   "cell_type": "markdown",
   "id": "e78dcca8",
   "metadata": {},
   "source": [
    "Now the distribution of the estimated coefficient for `button1` is centered around the true value of zero. Moreover, we reject the null hypothesis of no effect only in 1% of the simulations, consistently with the chosen confidence level of 95%."
   ]
  },
  {
   "cell_type": "markdown",
   "id": "a48cd345",
   "metadata": {},
   "source": [
    "## Conclusion"
   ]
  },
  {
   "cell_type": "markdown",
   "id": "9270f832",
   "metadata": {},
   "source": [
    "In this post, we have seen the dangers of running a factor regression model with multiple *mutually exclusive* treatment arms and treatment effect heterogeneity across a control variable. In this case, because the treatments are not independent, the regression coefficients are not a convex combination of the within-group average treatment effects, but also capture the treatment effects of the other treatments introducing **contamination bias**. The solution to the problem is both simple and elegant, requiring just a linear regression.\n",
    "\n",
    "However, **the problem is more general** than this setting and generally concerns every setting in which (all of the following)\n",
    "\n",
    "1. We have multiple treatments that depend on each other\n",
    "2. We need to condition the analysis on a control variable\n",
    "3. The treatment effects are heterogeneous in the control variable\n",
    "\n",
    "Another popular example is the case of the [Two-Way Fixed Effects (TWFE) estimator with staggered treatments](https://arxiv.org/abs/2201.01194)."
   ]
  },
  {
   "cell_type": "markdown",
   "id": "399d1bec",
   "metadata": {},
   "source": [
    "### References"
   ]
  },
  {
   "cell_type": "markdown",
   "id": "d3dc5325",
   "metadata": {},
   "source": [
    "[1] J. Angrist, [Estimating the Labor Market Impact of Voluntary Military Service Using Social Security Data on Military Applicants](https://www.jstor.org/stable/2998558) (1998), *Econometrica*.\n",
    "\n",
    "[2] D. Rubin, [Causal Inference Using Potential Outcomes](https://www.tandfonline.com/doi/abs/10.1198/016214504000001880) (2005), *Journal of the American Statistical Association*.\n",
    "\n",
    "[3] G. Imbens, J. Wooldridge, [Recent Developments in the Econometrics of Program Evaluation](https://www.aeaweb.org/articles?id=10.1257/jel.47.1.5) (2009), *Journal of Economic Literature*.\n",
    "\n",
    "[4] P. Goldsmith-Pinkham, P. Hull, M. Kolesár, [Contamination Bias in Linear Regressions](https://www.nber.org/papers/w30108) (2022), *working paper*."
   ]
  },
  {
   "cell_type": "markdown",
   "id": "763698ce",
   "metadata": {},
   "source": [
    "### Related Articles"
   ]
  },
  {
   "cell_type": "markdown",
   "id": "c02cecae",
   "metadata": {},
   "source": [
    "- [Understanding Omitted Variable Bias](https://towardsdatascience.com/344ac1477699)\n",
    "- [Understanding The Frisch-Waugh-Lovell Theorem](https://towardsdatascience.com/59f801eb3299)\n",
    "- [DAGs and Control Variables](https://towardsdatascience.com/b63dc69e3d8c)"
   ]
  },
  {
   "cell_type": "markdown",
   "id": "f6666a96",
   "metadata": {},
   "source": [
    "### Code"
   ]
  },
  {
   "cell_type": "markdown",
   "id": "c9e271b8",
   "metadata": {},
   "source": [
    "You can find the original Jupyter Notebook here:\n",
    "\n",
    "https://github.com/matteocourthoud/Blog-Posts/blob/main/notebooks/cbias.ipynb"
   ]
  }
 ],
 "metadata": {
  "@webio": {
   "lastCommId": null,
   "lastKernelId": null
  },
  "kernelspec": {
   "display_name": "Python (conda)",
   "language": "python",
   "name": "base"
  },
  "language_info": {
   "codemirror_mode": {
    "name": "ipython",
    "version": 3
   },
   "file_extension": ".py",
   "mimetype": "text/x-python",
   "name": "python",
   "nbconvert_exporter": "python",
   "pygments_lexer": "ipython3",
   "version": "3.9.7"
  },
  "toc": {
   "base_numbering": 1,
   "nav_menu": {},
   "number_sections": false,
   "sideBar": true,
   "skip_h1_title": true,
   "title_cell": "Table of Contents",
   "title_sidebar": "Contents",
   "toc_cell": false,
   "toc_position": {
    "height": "calc(100% - 180px)",
    "left": "10px",
    "top": "150px",
    "width": "243.011px"
   },
   "toc_section_display": true,
   "toc_window_display": true
  },
  "varInspector": {
   "cols": {
    "lenName": 16,
    "lenType": 16,
    "lenVar": 40
   },
   "kernels_config": {
    "python": {
     "delete_cmd_postfix": "",
     "delete_cmd_prefix": "del ",
     "library": "var_list.py",
     "varRefreshCmd": "print(var_dic_list())"
    },
    "r": {
     "delete_cmd_postfix": ") ",
     "delete_cmd_prefix": "rm(",
     "library": "var_list.r",
     "varRefreshCmd": "cat(var_dic_list()) "
    }
   },
   "types_to_exclude": [
    "module",
    "function",
    "builtin_function_or_method",
    "instance",
    "_Feature"
   ],
   "window_display": false
  }
 },
 "nbformat": 4,
 "nbformat_minor": 5
}

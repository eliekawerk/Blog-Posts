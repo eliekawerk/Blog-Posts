{
 "cells": [
  {
   "cell_type": "markdown",
   "id": "fda35625",
   "metadata": {},
   "source": [
    "# A/B Tests, Privacy and Online Regression"
   ]
  },
  {
   "cell_type": "markdown",
   "id": "0d6b45a9",
   "metadata": {},
   "source": [
    "*How to run experiments without storing individual data*"
   ]
  },
  {
   "cell_type": "markdown",
   "id": "e6f3e496",
   "metadata": {},
   "source": [
    "AB tests, a.k.a. randomized controlled trials, are widely recognized as the gold standard technique to compute the causal effect of a treatment (a drug, ad, product, ...) on an outcome of interest (a disease, firm revenue, customer satisfaction, ...). We randomly split a set of subjects (patients, users, customers, ...) into a treatment and a control group and give the treatment to the treatment group. This procedure ensures that ex-ante, the only expected difference between the two groups is caused by the treatment.\n",
    "\n",
    "One potential **privacy concern** is that one needs to store data about many users for the whole duration of the experiment in order to estimate the effect of the treatment. This is not a problem if we can run the experiment instantaneusly, but can become an issue when the experiment duration is long. In this post, we are going to explore one solution to this problem: **online regression**. We will see how to estimate (conditional) average treatment effects and how to do inference, using both asymptotic approximations and bootstrapping.\n",
    "\n",
    "⚠️ Some parts are algebra-intense, but you can skip them if you are only interested in the intuition."
   ]
  },
  {
   "cell_type": "markdown",
   "id": "ade5abd5",
   "metadata": {},
   "source": [
    "## Credit Cards and Donations"
   ]
  },
  {
   "cell_type": "markdown",
   "id": "2b700bf7",
   "metadata": {},
   "source": [
    "Suppose, for example, that we were a fin-tech company. We have designed a new user interface (UI) for our mobile application and we would like to understand whether it slows down our transaction. In order to estimate the causal effect of the new UI on transaction speed, we plan to run an A/B test or randomized controlled trial. \n",
    "\n",
    "We have one major problem: we should not store user-level information for privacy reasons. \n",
    "\n",
    "First, let's have a look at the data. I import the data generating process `dgp_credit()` from [`src.dgp`](https://github.com/matteocourthoud/Blog-Posts/blob/main/notebooks/src/dgp.py) and some plotting functions and libraries from [`src.utils`](https://github.com/matteocourthoud/Blog-Posts/blob/main/notebooks/src/utils.py). I include code snippets from [Deepnote](https://deepnote.com), a Jupyter-like web-based collaborative notebook environment. For our purpose, Deepnote is very handy because it allows me not only to include code but also output, like data and tables."
   ]
  },
  {
   "cell_type": "code",
   "execution_count": 1,
   "id": "35aeba8e",
   "metadata": {
    "ExecuteTime": {
     "end_time": "2022-09-04T13:56:42.818878Z",
     "start_time": "2022-09-04T13:56:42.405156Z"
    }
   },
   "outputs": [],
   "source": [
    "%matplotlib inline\n",
    "%config InlineBackend.figure_format = 'retina'"
   ]
  },
  {
   "cell_type": "code",
   "execution_count": 2,
   "id": "deafcf17",
   "metadata": {
    "ExecuteTime": {
     "end_time": "2022-09-04T13:56:43.241243Z",
     "start_time": "2022-09-04T13:56:42.819859Z"
    }
   },
   "outputs": [],
   "source": [
    "from src.utils import *\n",
    "from src.dgp import dgp_credit"
   ]
  },
  {
   "cell_type": "markdown",
   "id": "2cc4aa6f",
   "metadata": {},
   "source": [
    "I first generate the whole dataset in one-shot. We will then investigate how to perform the experimental analysis in case the data was arriving dynamically."
   ]
  },
  {
   "cell_type": "code",
   "execution_count": 3,
   "id": "de4b27a8",
   "metadata": {
    "ExecuteTime": {
     "end_time": "2022-09-04T13:56:43.244707Z",
     "start_time": "2022-09-04T13:56:43.241944Z"
    }
   },
   "outputs": [],
   "source": [
    "def generate_data(self, N=100, seed=0):\n",
    "        np.random.seed(seed)\n",
    "        \n",
    "        # Connection speed\n",
    "        connection = np.random.lognormal(3, 1, N)\n",
    "        \n",
    "        # Treatment assignment\n",
    "        treated = np.random.binomial(1, 0.5, N)\n",
    "        \n",
    "        # Transfer speed\n",
    "        #spend = np.minimum(np.random.lognormal(1 + treated + 0.1*np.sqrt(balance), 2, N), balance)\n",
    "        speed = np.minimum(np.random.exponential(10 + 4*treated - 0.5*np.sqrt(connection), N), connection)\n",
    "        \n",
    "        # Generate the dataframe\n",
    "        df = pd.DataFrame({'c': [1]*N, 'treated': treated,  \n",
    "                           'connection': np.round(connection,2), \n",
    "                           'speed': np.round(speed,2)})\n",
    "\n",
    "        return df"
   ]
  },
  {
   "cell_type": "code",
   "execution_count": 4,
   "id": "1254e2ab",
   "metadata": {
    "ExecuteTime": {
     "end_time": "2022-09-04T13:56:43.250833Z",
     "start_time": "2022-09-04T13:56:43.245835Z"
    }
   },
   "outputs": [
    {
     "data": {
      "text/html": [
       "<div>\n",
       "<style scoped>\n",
       "    .dataframe tbody tr th:only-of-type {\n",
       "        vertical-align: middle;\n",
       "    }\n",
       "\n",
       "    .dataframe tbody tr th {\n",
       "        vertical-align: top;\n",
       "    }\n",
       "\n",
       "    .dataframe thead th {\n",
       "        text-align: right;\n",
       "    }\n",
       "</style>\n",
       "<table border=\"1\" class=\"dataframe\">\n",
       "  <thead>\n",
       "    <tr style=\"text-align: right;\">\n",
       "      <th></th>\n",
       "      <th>c</th>\n",
       "      <th>treated</th>\n",
       "      <th>connection</th>\n",
       "      <th>speed</th>\n",
       "    </tr>\n",
       "  </thead>\n",
       "  <tbody>\n",
       "    <tr>\n",
       "      <th>0</th>\n",
       "      <td>1</td>\n",
       "      <td>0</td>\n",
       "      <td>117.22</td>\n",
       "      <td>0.94</td>\n",
       "    </tr>\n",
       "    <tr>\n",
       "      <th>1</th>\n",
       "      <td>1</td>\n",
       "      <td>1</td>\n",
       "      <td>29.97</td>\n",
       "      <td>29.97</td>\n",
       "    </tr>\n",
       "    <tr>\n",
       "      <th>2</th>\n",
       "      <td>1</td>\n",
       "      <td>0</td>\n",
       "      <td>53.45</td>\n",
       "      <td>7.38</td>\n",
       "    </tr>\n",
       "    <tr>\n",
       "      <th>3</th>\n",
       "      <td>1</td>\n",
       "      <td>0</td>\n",
       "      <td>188.84</td>\n",
       "      <td>0.76</td>\n",
       "    </tr>\n",
       "    <tr>\n",
       "      <th>4</th>\n",
       "      <td>1</td>\n",
       "      <td>1</td>\n",
       "      <td>130.00</td>\n",
       "      <td>24.44</td>\n",
       "    </tr>\n",
       "  </tbody>\n",
       "</table>\n",
       "</div>"
      ],
      "text/plain": [
       "   c  treated  connection  speed\n",
       "0  1        0      117.22   0.94\n",
       "1  1        1       29.97  29.97\n",
       "2  1        0       53.45   7.38\n",
       "3  1        0      188.84   0.76\n",
       "4  1        1      130.00  24.44"
      ]
     },
     "execution_count": 4,
     "metadata": {},
     "output_type": "execute_result"
    }
   ],
   "source": [
    "N = 100\n",
    "df = generate_data(N)\n",
    "df.head()"
   ]
  },
  {
   "cell_type": "markdown",
   "id": "6f0ba3d2",
   "metadata": {},
   "source": [
    "We have information on 100 users, for whom we observe...\n",
    "\n",
    "First, let's have a look "
   ]
  },
  {
   "cell_type": "code",
   "execution_count": 5,
   "id": "c8d66c6b",
   "metadata": {
    "ExecuteTime": {
     "end_time": "2022-09-04T13:56:43.258390Z",
     "start_time": "2022-09-04T13:56:43.251554Z"
    },
    "scrolled": false
   },
   "outputs": [
    {
     "data": {
      "text/html": [
       "<table class=\"simpletable\">\n",
       "<tr>\n",
       "       <td></td>         <th>coef</th>     <th>std err</th>      <th>t</th>      <th>P>|t|</th>  <th>[0.025</th>    <th>0.975]</th>  \n",
       "</tr>\n",
       "<tr>\n",
       "  <th>Intercept</th>  <td>    6.0740</td> <td>    1.079</td> <td>    5.630</td> <td> 0.000</td> <td>    3.933</td> <td>    8.215</td>\n",
       "</tr>\n",
       "<tr>\n",
       "  <th>treated</th>    <td>    1.3939</td> <td>    1.297</td> <td>    1.075</td> <td> 0.285</td> <td>   -1.180</td> <td>    3.968</td>\n",
       "</tr>\n",
       "<tr>\n",
       "  <th>connection</th> <td>   -0.0033</td> <td>    0.017</td> <td>   -0.197</td> <td> 0.844</td> <td>   -0.037</td> <td>    0.030</td>\n",
       "</tr>\n",
       "</table>"
      ],
      "text/plain": [
       "<class 'statsmodels.iolib.table.SimpleTable'>"
      ]
     },
     "execution_count": 5,
     "metadata": {},
     "output_type": "execute_result"
    }
   ],
   "source": [
    "model = smf.ols('speed ~ treated + connection', data=df).fit()\n",
    "model.summary().tables[1]"
   ]
  },
  {
   "cell_type": "markdown",
   "id": "2243f596",
   "metadata": {},
   "source": [
    "In order to understand how we can make linear regression one data point at the time, we first need a brief linear algebra recap.\n",
    "\n",
    "First of all, let's define $y$ the dependent variable, `spend` in our case, and $X$ the explanatory variable, the `treated` indicator, the account `balance` and a constant."
   ]
  },
  {
   "cell_type": "code",
   "execution_count": 6,
   "id": "77eae165",
   "metadata": {
    "ExecuteTime": {
     "end_time": "2022-09-04T13:56:43.260843Z",
     "start_time": "2022-09-04T13:56:43.259083Z"
    }
   },
   "outputs": [],
   "source": [
    "def xy_from_df(df, r0, r1):\n",
    "    return df.iloc[r0:r1,:3].to_numpy(), df.iloc[r0:r1,3].to_numpy()"
   ]
  },
  {
   "cell_type": "markdown",
   "id": "1ec82993",
   "metadata": {},
   "source": [
    "The  estimator is given by\n",
    "$$\n",
    "\\hat{\\beta}_{OLS} = (X'X)^{-1}X'y\n",
    "$$"
   ]
  },
  {
   "cell_type": "code",
   "execution_count": 7,
   "id": "5215799f",
   "metadata": {
    "ExecuteTime": {
     "end_time": "2022-09-04T13:56:43.264687Z",
     "start_time": "2022-09-04T13:56:43.261522Z"
    }
   },
   "outputs": [
    {
     "data": {
      "text/plain": [
       "array([ 6.07404291e+00,  1.39385101e+00, -3.33599131e-03])"
      ]
     },
     "execution_count": 7,
     "metadata": {},
     "output_type": "execute_result"
    }
   ],
   "source": [
    "from numpy.linalg import inv\n",
    "\n",
    "X, Y = xy_from_df(df, 0, 100)\n",
    "inv(X.T @ X) @ X.T @ Y"
   ]
  },
  {
   "cell_type": "markdown",
   "id": "2c2a13a3",
   "metadata": {},
   "source": [
    "We get indeed the same exact number as with the `smf.ols` command!\n",
    "\n",
    "Can we compute $\\beta$ one observation at the time?\n",
    "\n",
    "The answer is yes! Assume we had $n$ observations and we just received the $n+1$th observation: the pair $(x_{n+1}, y_{n+1})$. In order to compute $\\hat{\\beta}_{n+1}$ we need to have stored only two objects in memory\n",
    "\n",
    "- $\\hat{\\beta}_{n}$, the previous estimate of $\\beta$\n",
    "- $(X_n' X_n)^{-1}$, the previous value of $(X' X)^{-1}$\n",
    "\n",
    "First of all, how do we update $(X' X)^{-1}$? \n",
    "$$\n",
    "\\begin{align*}\n",
    "(X_{n+1}' X_{n+1})^{-1} = (X_n' X_n)^{-1} - \\frac{(X_n' X_n)^{-1} x_{n+1} x_{n+1}' (X_n' X_n)^{-1}}{1 + x_{n+1}' (X_n' X_n)^{-1} x_{n+1}}\n",
    "\\end{align*}\n",
    "$$\n",
    "\n",
    "After having updated $(X' X)^{-1}$, we can update $\\hat{\\beta}$.\n",
    "$$\n",
    "\\hat{\\beta}_{n+1} = \\hat{\\beta}_{n} + (X_n' X_n)^{-1} x_{n} (y_n - x_n' \\hat{\\beta}_{n})\n",
    "$$\n",
    "\n",
    "Note that this procedure is not only privacy friendly but also **memory-friendly**. Our dataset is a $100 \\times 4$ matrix while $(X' X)^{-1}$ is $3 \\times 3$ matrix and $\\beta$ is a $3 \\times 1$ matrix. We are storing only 12 numbers instead of up to 400!"
   ]
  },
  {
   "cell_type": "code",
   "execution_count": 8,
   "id": "6ad3d830",
   "metadata": {
    "ExecuteTime": {
     "end_time": "2022-09-04T13:56:43.267445Z",
     "start_time": "2022-09-04T13:56:43.265473Z"
    }
   },
   "outputs": [],
   "source": [
    "def update_xb(XiX, beta, x, y):\n",
    "    XiX -= (XiX @ x.T @ x @ XiX) / (1 + x @ XiX @ x.T )\n",
    "    beta += XiX @ x.T @ (y - x @ beta)\n",
    "    return XiX, beta"
   ]
  },
  {
   "cell_type": "markdown",
   "id": "6e29e91c",
   "metadata": {},
   "source": [
    "We are now ready to estimate our OLS coefficient, one data point at the time. However, we cannot really start from the first observation, because we would be unable to invert the matrix $X'X$. We need at least $k+1$ observations, where $k$ is the number of variables in $X$. \n",
    "\n",
    "Let's use a warm start of 10 observations to be safe."
   ]
  },
  {
   "cell_type": "code",
   "execution_count": 9,
   "id": "ff750921",
   "metadata": {
    "ExecuteTime": {
     "end_time": "2022-09-04T13:56:43.283840Z",
     "start_time": "2022-09-04T13:56:43.268244Z"
    }
   },
   "outputs": [
    {
     "name": "stdout",
     "output_type": "stream",
     "text": [
      "[ 6.07404291e+00  1.39385101e+00 -3.33599131e-03]\n"
     ]
    }
   ],
   "source": [
    "# Initialize XiX and beta from first 10 observations\n",
    "x, y = xy_from_df(df, 0, 10)\n",
    "XiX = inv(x.T @ x)\n",
    "beta = XiX @ x.T @ y\n",
    "\n",
    "# Update estimate live\n",
    "for n in range(10, N):\n",
    "    x, y = xy_from_df(df, n, n+1)\n",
    "    XiX, beta = update_xb(XiX, beta, x, y)\n",
    "    \n",
    "# Print result\n",
    "print(beta)"
   ]
  },
  {
   "cell_type": "markdown",
   "id": "a6256868",
   "metadata": {
    "ExecuteTime": {
     "end_time": "2022-09-03T13:09:05.201821Z",
     "start_time": "2022-09-03T13:09:05.199352Z"
    }
   },
   "source": [
    "We got exactly the same coefficient! Nice!\n",
    "\n",
    "How did we get there? We can plot the evolution of out estimate $\\hat{\\beta}$ as we accumulate data. The dynamic plotting function is a bit more cumbersome, but you can find it in [`src.figures`](https://github.com/matteocourthoud/Blog-Posts/blob/main/notebooks/src/figures.py)."
   ]
  },
  {
   "cell_type": "code",
   "execution_count": 10,
   "id": "2b056d5b",
   "metadata": {
    "ExecuteTime": {
     "end_time": "2022-09-04T13:56:49.580886Z",
     "start_time": "2022-09-04T13:56:43.286048Z"
    }
   },
   "outputs": [],
   "source": [
    "from src.figures import online_regression\n",
    "\n",
    "online_regression(df, \"fig/online_reg1.gif\")"
   ]
  },
  {
   "cell_type": "markdown",
   "id": "9e821d28",
   "metadata": {
    "ExecuteTime": {
     "end_time": "2022-09-04T09:34:16.968704Z",
     "start_time": "2022-09-04T09:34:16.798231Z"
    }
   },
   "source": [
    "![](fig/online_reg1.gif)"
   ]
  },
  {
   "cell_type": "markdown",
   "id": "77534efa",
   "metadata": {},
   "source": [
    "As we can see, as the number of data points increases, the estimate seems to less and less volatile.\n",
    "\n",
    "But is it really the case? As usual, we are not just interested in the point estimate of the effect of the `coupon` on spending, we would also like to understand how precise this estimate is."
   ]
  },
  {
   "cell_type": "markdown",
   "id": "1d56017e",
   "metadata": {},
   "source": [
    "## Inference"
   ]
  },
  {
   "cell_type": "markdown",
   "id": "c4f36c19",
   "metadata": {},
   "source": [
    "We have seen how to estimate the treatment effect \"online\": one observation at the time. Can we also compute the variance of the estimator in the same manner? \n",
    "\n",
    "First of all, let's review what the variance of the OLS estimator looks like. Under baseline assumptions, the variance of the OLS estimator is given by:\n",
    "$$\n",
    "\\text{Var}(\\hat{\\beta}_{OLS}) = (X'X)^{-1} \\hat{\\sigma}^2\n",
    "$$\n",
    "\n",
    "where $\\hat{\\sigma}^2$ is the variance of the residuals $e = (y - X'\\hat{\\beta})$.\n",
    "\n",
    "The regression table reports the standard errors of the coefficients, which are the squared elements on the diagonal of $\\text{Var}(\\hat{\\beta})$."
   ]
  },
  {
   "cell_type": "code",
   "execution_count": 11,
   "id": "c428c3c2",
   "metadata": {
    "ExecuteTime": {
     "end_time": "2022-09-04T13:56:49.585160Z",
     "start_time": "2022-09-04T13:56:49.581653Z"
    }
   },
   "outputs": [
    {
     "data": {
      "text/html": [
       "<table class=\"simpletable\">\n",
       "<tr>\n",
       "       <td></td>         <th>coef</th>     <th>std err</th>      <th>t</th>      <th>P>|t|</th>  <th>[0.025</th>    <th>0.975]</th>  \n",
       "</tr>\n",
       "<tr>\n",
       "  <th>Intercept</th>  <td>    6.0740</td> <td>    1.079</td> <td>    5.630</td> <td> 0.000</td> <td>    3.933</td> <td>    8.215</td>\n",
       "</tr>\n",
       "<tr>\n",
       "  <th>treated</th>    <td>    1.3939</td> <td>    1.297</td> <td>    1.075</td> <td> 0.285</td> <td>   -1.180</td> <td>    3.968</td>\n",
       "</tr>\n",
       "<tr>\n",
       "  <th>connection</th> <td>   -0.0033</td> <td>    0.017</td> <td>   -0.197</td> <td> 0.844</td> <td>   -0.037</td> <td>    0.030</td>\n",
       "</tr>\n",
       "</table>"
      ],
      "text/plain": [
       "<class 'statsmodels.iolib.table.SimpleTable'>"
      ]
     },
     "execution_count": 11,
     "metadata": {},
     "output_type": "execute_result"
    }
   ],
   "source": [
    "model.summary().tables[1]"
   ]
  },
  {
   "cell_type": "markdown",
   "id": "4f0b8857",
   "metadata": {},
   "source": [
    "Let's check that we would obtain the same numbers using matrix algebra."
   ]
  },
  {
   "cell_type": "code",
   "execution_count": 12,
   "id": "513a9081",
   "metadata": {
    "ExecuteTime": {
     "end_time": "2022-09-04T13:56:49.590942Z",
     "start_time": "2022-09-04T13:56:49.585866Z"
    }
   },
   "outputs": [
    {
     "data": {
      "text/plain": [
       "array([1.06261376, 1.27718352, 0.01669716])"
      ]
     },
     "execution_count": 12,
     "metadata": {},
     "output_type": "execute_result"
    }
   ],
   "source": [
    "beta = inv(X.T @ X) @ X.T @ Y\n",
    "np.sqrt(np.diag(inv(X.T @ X) * np.var(Y - X @ beta)))"
   ]
  },
  {
   "cell_type": "markdown",
   "id": "9506ff44",
   "metadata": {},
   "source": [
    "Indeed, we get exactly the same numbers! \n",
    "\n",
    "We already have a method to part of $\\text{Var}(\\hat{\\beta}_{OLS})$ online: $(X'X)^{-1}$ update the matrix $(X'X)^{-1}$ online. How do we update $\\hat{\\sigma}^2$? This is the formula to update the sum of squared residuals $S$.\n",
    "$$\n",
    "S_{n+1} = S_{n} + \\frac{(y_{n+1} - x_{n+1}\\hat{\\beta}_n)}{1 + x_{n+1}' (X_n' X_n)^{-1} x_{n+1}}\n",
    "$$"
   ]
  },
  {
   "cell_type": "code",
   "execution_count": 13,
   "id": "fcbb9ce7",
   "metadata": {
    "ExecuteTime": {
     "end_time": "2022-09-04T13:56:49.593776Z",
     "start_time": "2022-09-04T13:56:49.591738Z"
    }
   },
   "outputs": [],
   "source": [
    "def update_xbs(XiX, beta, S, x, y):\n",
    "    S += (y - x @ beta)**2 / (1 + x @ XiX @ x.T )\n",
    "    XiX -= (XiX @ x.T @ x @ XiX) / (1 + x @ XiX @ x.T )\n",
    "    beta += XiX @ x.T @ (y - x @ beta)\n",
    "    return XiX, beta, S[0,0]"
   ]
  },
  {
   "cell_type": "markdown",
   "id": "499e2ceb",
   "metadata": {},
   "source": [
    "Note, the order here is very important!"
   ]
  },
  {
   "cell_type": "code",
   "execution_count": 14,
   "id": "1fdae5db",
   "metadata": {
    "ExecuteTime": {
     "end_time": "2022-09-04T13:56:49.611098Z",
     "start_time": "2022-09-04T13:56:49.594526Z"
    }
   },
   "outputs": [
    {
     "name": "stdout",
     "output_type": "stream",
     "text": [
      "[1.0789208  1.29678338 0.0169534 ]\n"
     ]
    }
   ],
   "source": [
    "# Inizialize XiX, beta, and sigma from the first 10 observations\n",
    "x, y = xy_from_df(df, 0, 10)\n",
    "XiX = inv(x.T @ x)\n",
    "beta = XiX @ x.T @ y\n",
    "S = np.sum((y - x @ beta)**2)\n",
    "\n",
    "# Update XiX, beta, and sigma online\n",
    "for n in range(10, N):\n",
    "    x, y = xy_from_df(df, n, n+1)\n",
    "    XiX, beta, S = update_xbs(XiX, beta, S, x, y)\n",
    "    \n",
    "# Print result\n",
    "print(np.sqrt(np.diag(XiX * S / (N - 3))))"
   ]
  },
  {
   "cell_type": "markdown",
   "id": "bce996a4",
   "metadata": {},
   "source": [
    "We indeed got the same result! Note that to get from the sum of squared residuals $S$ to the residuals variance $\\hat{\\sigma}^2$ we need to divide by the degrees of freedom: $n - k = 100 - 3$.\n",
    "\n",
    "As before we have plotted the evolution of the estimate of the OLS coefficient over time, we can now augment that plot with a confidence band of +- one standard deviation."
   ]
  },
  {
   "cell_type": "code",
   "execution_count": 15,
   "id": "13b3bfdc",
   "metadata": {
    "ExecuteTime": {
     "end_time": "2022-09-04T13:56:56.368836Z",
     "start_time": "2022-09-04T13:56:49.612071Z"
    }
   },
   "outputs": [],
   "source": [
    "online_regression(df, \"fig/online_reg2.gif\", ci=True)"
   ]
  },
  {
   "cell_type": "markdown",
   "id": "79cf64ed",
   "metadata": {},
   "source": [
    "![](fig/online_reg2.gif)"
   ]
  },
  {
   "cell_type": "markdown",
   "id": "a90b8eb5",
   "metadata": {},
   "source": [
    "As we can see, the estimated variance of the OLS estimator indeed decreases as the sample size increases."
   ]
  },
  {
   "cell_type": "markdown",
   "id": "35eadab6",
   "metadata": {},
   "source": [
    "## Bootstrap"
   ]
  },
  {
   "cell_type": "markdown",
   "id": "a757482f",
   "metadata": {},
   "source": [
    "So far we have used the asymptotic assumptions behind the Central Limit Theorem to compute the standard errors of the estimator. However, we have a particularly small sample. We further check the empirical distribution of the model residuals."
   ]
  },
  {
   "cell_type": "code",
   "execution_count": 16,
   "id": "dcc488d8",
   "metadata": {
    "ExecuteTime": {
     "end_time": "2022-09-04T13:56:56.458056Z",
     "start_time": "2022-09-04T13:56:56.369766Z"
    }
   },
   "outputs": [
    {
     "data": {
      "image/png": "[encoded data removed]",
      "text/plain": [
       "<Figure size 720x432 with 1 Axes>"
      ]
     },
     "metadata": {
      "image/png": {
       "height": 363,
       "width": 616
      }
     },
     "output_type": "display_data"
    }
   ],
   "source": [
    "sns.histplot(model.resid, bins=30);"
   ]
  },
  {
   "cell_type": "markdown",
   "id": "79b782f6",
   "metadata": {},
   "source": [
    "The residuals seem to be particularly **skewed**! This might be a problem in such a small sample. \n",
    "\n",
    "One alternative is **the bootstrap**. Instead of relying on asymptotics, we approximate the distribution of our estimator by resampling our dataset with replacement. Can we bootstrap online?\n",
    "\n",
    "The answer is once again yes! They key is to weight each observation with an integer weight drawn from a Poisson distribution with mean (and variance) equal to 1. We repeat this process multiple times, in parallel and then we \n",
    "\n",
    "The updating rules for $(X'X)^{-1}$ and $\\hat{beta}$ become the following.\n",
    "$$\n",
    "\\begin{align*}\n",
    "(X_{n+1}' X_{n+1})^{-1} = (X_n' X_n)^{-1} - \\frac{w (X_n' X_n)^{-1} x_{n+1} x_{n+1}' (X_n' X_n)^{-1}}{1 + w x_{n+1}' (X_n' X_n)^{-1} x_{n+1}}\n",
    "\\end{align*}\n",
    "$$\n",
    "\n",
    "and\n",
    "$$\n",
    "\\hat{\\beta}_{n+1} = \\hat{\\beta}_{n} + w (X_n' X_n)^{-1} x_{n} (y_n - x_n' \\hat{\\beta}_{n})\n",
    "$$\n",
    "\n",
    "where $w$ are Poisson weights. First, let's update the updating function for $(X'X)^{-1}$ and $\\hat{beta}$."
   ]
  },
  {
   "cell_type": "code",
   "execution_count": 17,
   "id": "2927b166",
   "metadata": {
    "ExecuteTime": {
     "end_time": "2022-09-04T13:56:56.460807Z",
     "start_time": "2022-09-04T13:56:56.458898Z"
    }
   },
   "outputs": [],
   "source": [
    "def update_xbw(XiX, beta, w, x, y):\n",
    "    XiX -= (w * XiX @ x.T @ x @ XiX) / (1 + w * x @ XiX @ x.T )\n",
    "    beta += w * XiX @ x.T @ (y - x @ beta)\n",
    "    return XiX, beta"
   ]
  },
  {
   "cell_type": "markdown",
   "id": "19d24cc5",
   "metadata": {},
   "source": [
    "We can now run the online estimation. We bootstrap 1000 different estimates of $\\hat{\\beta}$."
   ]
  },
  {
   "cell_type": "code",
   "execution_count": 18,
   "id": "3261c21a",
   "metadata": {
    "ExecuteTime": {
     "end_time": "2022-09-04T13:56:57.483664Z",
     "start_time": "2022-09-04T13:56:56.461351Z"
    }
   },
   "outputs": [],
   "source": [
    "# Inizialize a vector of XiXs and betas \n",
    "np.random.seed(0)\n",
    "K = 1000\n",
    "x, y = xy_from_df(df, 0, 10)\n",
    "XiXs = [inv(x.T @ x) for k in range(K)]\n",
    "betas = [xix @ x.T @ y for xix in XiXs]\n",
    "\n",
    "# Update the vector of XiXs and betas online\n",
    "for n in range(10, N):\n",
    "    x, y = xy_from_df(df, n, n+1)\n",
    "    for k in range(K):\n",
    "        w = np.random.poisson(1)\n",
    "        XiXs[k], betas[k] = update_xbw(XiXs[k], betas[k], w, x, y)"
   ]
  },
  {
   "cell_type": "markdown",
   "id": "7371ae7b",
   "metadata": {
    "ExecuteTime": {
     "end_time": "2022-09-04T10:28:54.539126Z",
     "start_time": "2022-09-04T10:28:54.534046Z"
    }
   },
   "source": [
    "We can compute the estimated standard deviation of the treatment effect, simply by computing the standard deviation of the vector of bootstrapped coefficients."
   ]
  },
  {
   "cell_type": "code",
   "execution_count": 19,
   "id": "a322468f",
   "metadata": {
    "ExecuteTime": {
     "end_time": "2022-09-04T13:56:57.486779Z",
     "start_time": "2022-09-04T13:56:57.484322Z"
    }
   },
   "outputs": [
    {
     "data": {
      "text/plain": [
       "array([0.95301002, 1.14186364, 0.01207962])"
      ]
     },
     "execution_count": 19,
     "metadata": {},
     "output_type": "execute_result"
    }
   ],
   "source": [
    "np.std(betas, axis=0)"
   ]
  },
  {
   "cell_type": "markdown",
   "id": "b8a79821",
   "metadata": {},
   "source": [
    "The estimated standard errors are slightly different from the previous values of $[1.275, 1.532, 0.020]$, but not very far apart.\n",
    "\n",
    "Lastly, some of you might have wondered \"*why sampling discrete weights and not continuous ones?*\". Indeed, we can. This procedure is called the **Bayesian Bootstrap** and you can find a more detailed explanation [here](https://towardsdatascience.com/6ca4a1d45148)."
   ]
  },
  {
   "cell_type": "markdown",
   "id": "5e903ca3",
   "metadata": {},
   "source": [
    "## Conclusion"
   ]
  },
  {
   "cell_type": "markdown",
   "id": "c031500c",
   "metadata": {},
   "source": [
    "In this post, we have seen hot to run an experiment without storing individual-level data. How are we able to do it? In order to compute the average treatment effect, we do not need every single observation but it's sufficient to store just a more compact representation of it. "
   ]
  },
  {
   "cell_type": "markdown",
   "id": "a6962472",
   "metadata": {},
   "source": [
    "### References"
   ]
  },
  {
   "cell_type": "markdown",
   "id": "da70019e",
   "metadata": {},
   "source": [
    "[1] W. Chou, [Randomized Controlled Trials without Data Retention](https://arxiv.org/abs/2102.03316) (2021), *Working Paper*. "
   ]
  },
  {
   "cell_type": "markdown",
   "id": "b2bc46a4",
   "metadata": {},
   "source": [
    "### Related Articles"
   ]
  },
  {
   "cell_type": "markdown",
   "id": "9e676170",
   "metadata": {},
   "source": [
    "- [Experiments, Peeking, and Optimal Stopping](https://towardsdatascience.com/954506cec665)\n",
    "- [The Bayesian Bootstrap](https://towardsdatascience.com/6ca4a1d45148)"
   ]
  },
  {
   "cell_type": "markdown",
   "id": "73817033",
   "metadata": {},
   "source": [
    "### Code"
   ]
  },
  {
   "cell_type": "markdown",
   "id": "dd0bf83b",
   "metadata": {},
   "source": [
    "You can find the original Jupyter Notebook here:\n",
    "\n",
    "https://github.com/matteocourthoud/Blog-Posts/blob/main/notebooks/online_reg.ipynb"
   ]
  }
 ],
 "metadata": {
  "@webio": {
   "lastCommId": null,
   "lastKernelId": null
  },
  "kernelspec": {
   "display_name": "Python (conda)",
   "language": "python",
   "name": "base"
  },
  "language_info": {
   "codemirror_mode": {
    "name": "ipython",
    "version": 3
   },
   "file_extension": ".py",
   "mimetype": "text/x-python",
   "name": "python",
   "nbconvert_exporter": "python",
   "pygments_lexer": "ipython3",
   "version": "3.9.7"
  },
  "toc": {
   "base_numbering": 1,
   "nav_menu": {},
   "number_sections": false,
   "sideBar": true,
   "skip_h1_title": true,
   "title_cell": "Table of Contents",
   "title_sidebar": "Contents",
   "toc_cell": false,
   "toc_position": {},
   "toc_section_display": true,
   "toc_window_display": true
  },
  "varInspector": {
   "cols": {
    "lenName": 16,
    "lenType": 16,
    "lenVar": 40
   },
   "kernels_config": {
    "python": {
     "delete_cmd_postfix": "",
     "delete_cmd_prefix": "del ",
     "library": "var_list.py",
     "varRefreshCmd": "print(var_dic_list())"
    },
    "r": {
     "delete_cmd_postfix": ") ",
     "delete_cmd_prefix": "rm(",
     "library": "var_list.r",
     "varRefreshCmd": "cat(var_dic_list()) "
    }
   },
   "types_to_exclude": [
    "module",
    "function",
    "builtin_function_or_method",
    "instance",
    "_Feature"
   ],
   "window_display": false
  }
 },
 "nbformat": 4,
 "nbformat_minor": 5
}

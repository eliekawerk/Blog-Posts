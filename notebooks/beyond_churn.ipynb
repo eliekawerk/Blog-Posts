{
 "cells": [
  {
   "cell_type": "markdown",
   "id": "717fcc6a-d2c1-4f99-8b17-30aae3cc2330",
   "metadata": {},
   "source": [
    "# Beyond Churn Prediction and Churn Uplift"
   ]
  },
  {
   "cell_type": "markdown",
   "id": "988f963f-29f0-4491-8427-bd03462c95be",
   "metadata": {},
   "source": [
    "Why predicting churn is not enough. And not even estimating churn uplift!\n",
    "\n",
    "You need to estimate the impact on profits in order to get the best result"
   ]
  },
  {
   "cell_type": "code",
   "execution_count": 118,
   "id": "063d2a23-a853-489d-99bf-831fe412b545",
   "metadata": {},
   "outputs": [],
   "source": [
    "%matplotlib inline\n",
    "%config InlineBackend.figure_format = 'retina'"
   ]
  },
  {
   "cell_type": "code",
   "execution_count": 119,
   "id": "fdbf020e-dd01-4723-9337-c011565c155e",
   "metadata": {
    "ExecuteTime": {
     "end_time": "2023-07-18T07:30:04.244606Z",
     "start_time": "2023-07-18T07:30:04.243088Z"
    },
    "tags": []
   },
   "outputs": [],
   "source": [
    "from src.utils import *\n",
    "from src.dgp import DGP"
   ]
  },
  {
   "cell_type": "markdown",
   "id": "740e6b37-c5a5-414a-96e3-882352c16f17",
   "metadata": {},
   "source": [
    "Suppose we "
   ]
  },
  {
   "cell_type": "code",
   "execution_count": 211,
   "id": "6e0e2bbf-8984-41f6-b082-eaec5c7b08a0",
   "metadata": {
    "ExecuteTime": {
     "end_time": "2023-07-18T07:30:04.249099Z",
     "start_time": "2023-07-18T07:30:04.245171Z"
    }
   },
   "outputs": [],
   "source": [
    "class dgp_subscription_program(DGP):\n",
    "    \"\"\"DGP: promotional email\"\"\"\n",
    "    X: list[str] = ['age', 'rev_old', 'rev_change']\n",
    "    D: str = 'gift'\n",
    "    Y: list[str] = ['churn', 'revenue']\n",
    "\n",
    "    def generate_baseline(self, seed:int = 0):\n",
    "        np.random.seed(seed)\n",
    "        months = np.random.exponential(5, self.n)\n",
    "        rev_old = np.maximum(0, np.random.exponential(7, self.n) - 2)\n",
    "        rev_change = np.random.normal(0, 2, self.n)\n",
    "        churn_c = np.random.beta(1 - rev_change*(rev_change<0), 2 + rev_old) > 0.4\n",
    "        rev_c = 0.8*rev_old + 0.2*np.maximum(0, np.random.exponential(7, self.n) - 2)\n",
    "        df = pd.DataFrame({'months': months, 'rev_old': rev_old, 'rev_change': rev_change,\n",
    "                           'churn_c': churn_c, 'revenue_c': rev_c})\n",
    "        return df\n",
    "\n",
    "    def add_treatment_effect(self, df, seed:int = 1):\n",
    "        np.random.seed(seed)\n",
    "        effect_c = - np.random.binomial(1, 0.3, self.n) * (df.months<7)\n",
    "        df['effect_on_churn'] = effect_c * (df.churn_c==1)\n",
    "        effect_r = np.random.normal(0.9, 0.5, self.n)* (df.months>3)\n",
    "        df['effect_on_revenue'] = np.maximum(-df.revenue_c, effect_r)\n",
    "        return df\n",
    "\n",
    "    def add_assignment(self, df: pd.DataFrame, seed: int = 2) -> pd.DataFrame:\n",
    "        np.random.seed(seed)\n",
    "        df[self.D] = np.random.binomial(1, 0.5, self.n)\n",
    "        return df\n",
    "\n",
    "    def add_post_treatment_variables(self, df : pd.DataFrame, seed: int = 0) -> pd.DataFrame:\n",
    "        df.revenue *= (1-df.churn)\n",
    "        return df"
   ]
  },
  {
   "cell_type": "code",
   "execution_count": 212,
   "id": "7a27bf05-53c4-40eb-84a7-818ee8ba8f4f",
   "metadata": {
    "ExecuteTime": {
     "end_time": "2023-07-18T07:30:04.260974Z",
     "start_time": "2023-07-18T07:30:04.249825Z"
    }
   },
   "outputs": [
    {
     "data": {
      "text/html": [
       "<div>\n",
       "<style scoped>\n",
       "    .dataframe tbody tr th:only-of-type {\n",
       "        vertical-align: middle;\n",
       "    }\n",
       "\n",
       "    .dataframe tbody tr th {\n",
       "        vertical-align: top;\n",
       "    }\n",
       "\n",
       "    .dataframe thead th {\n",
       "        text-align: right;\n",
       "    }\n",
       "</style>\n",
       "<table border=\"1\" class=\"dataframe\">\n",
       "  <thead>\n",
       "    <tr style=\"text-align: right;\">\n",
       "      <th></th>\n",
       "      <th>months</th>\n",
       "      <th>rev_old</th>\n",
       "      <th>rev_change</th>\n",
       "      <th>gift</th>\n",
       "      <th>churn</th>\n",
       "      <th>revenue</th>\n",
       "    </tr>\n",
       "  </thead>\n",
       "  <tbody>\n",
       "    <tr>\n",
       "      <th>0</th>\n",
       "      <td>3.98</td>\n",
       "      <td>3.36</td>\n",
       "      <td>0.86</td>\n",
       "      <td>0</td>\n",
       "      <td>0</td>\n",
       "      <td>7.28</td>\n",
       "    </tr>\n",
       "    <tr>\n",
       "      <th>1</th>\n",
       "      <td>6.28</td>\n",
       "      <td>14.41</td>\n",
       "      <td>-2.77</td>\n",
       "      <td>1</td>\n",
       "      <td>0</td>\n",
       "      <td>11.60</td>\n",
       "    </tr>\n",
       "    <tr>\n",
       "      <th>2</th>\n",
       "      <td>4.62</td>\n",
       "      <td>2.89</td>\n",
       "      <td>-2.21</td>\n",
       "      <td>0</td>\n",
       "      <td>0</td>\n",
       "      <td>3.59</td>\n",
       "    </tr>\n",
       "    <tr>\n",
       "      <th>3</th>\n",
       "      <td>3.94</td>\n",
       "      <td>0.00</td>\n",
       "      <td>-3.26</td>\n",
       "      <td>0</td>\n",
       "      <td>1</td>\n",
       "      <td>0.00</td>\n",
       "    </tr>\n",
       "    <tr>\n",
       "      <th>4</th>\n",
       "      <td>2.76</td>\n",
       "      <td>3.25</td>\n",
       "      <td>-3.43</td>\n",
       "      <td>0</td>\n",
       "      <td>0</td>\n",
       "      <td>5.33</td>\n",
       "    </tr>\n",
       "  </tbody>\n",
       "</table>\n",
       "</div>"
      ],
      "text/plain": [
       "   months  rev_old  rev_change  gift  churn  revenue\n",
       "0    3.98     3.36        0.86     0      0     7.28\n",
       "1    6.28    14.41       -2.77     1      0    11.60\n",
       "2    4.62     2.89       -2.21     0      0     3.59\n",
       "3    3.94     0.00       -3.26     0      1     0.00\n",
       "4    2.76     3.25       -3.43     0      0     5.33"
      ]
     },
     "execution_count": 212,
     "metadata": {},
     "output_type": "execute_result"
    }
   ],
   "source": [
    "dgp = dgp_subscription_program(n=100_000)\n",
    "df = dgp.generate_data()\n",
    "df.head()"
   ]
  },
  {
   "cell_type": "markdown",
   "id": "e4bd23fd-ed28-4d6b-94d3-adee300a0634",
   "metadata": {},
   "source": [
    "We have information on `100_000` customers for which we observe the number of `months` they have subscribed to the premium tier, the revenues in the last month (`rev_old`), the change of revenue between last month and the previous one (`rev_change`), the"
   ]
  },
  {
   "cell_type": "markdown",
   "id": "ef2577d2-20d3-4d67-bcfb-0112c2d4119b",
   "metadata": {},
   "source": [
    "```mermaid\n",
    "flowchart TD\n",
    "classDef included fill:#DCDCDC,stroke:#000000,stroke-width:3px;\n",
    "classDef empty width:-10px,height:-10px,fill:#000000,stroke-width:0px;\n",
    "\n",
    "W((1$ gift))\n",
    "D1(( ))\n",
    "D2(( ))\n",
    "Y1((churn))\n",
    "Y2((revenue))\n",
    "X1((months))\n",
    "X2((revenue change))\n",
    "X3((revenue old))\n",
    "\n",
    "W --- D1\n",
    "X1 --- D1\n",
    "D1 --> Y1\n",
    "W --- D2\n",
    "X1 --- D2\n",
    "D2 --> Y2\n",
    "Y1 --> Y2\n",
    "X2 --> Y1\n",
    "X3 --> Y1\n",
    "X3 --> Y2\n",
    "\n",
    "class W,Y1,Y2,X1,X2,X3 included;\n",
    "class D1,D2 empty;\n",
    "\n",
    "linkStyle 0,2,3,5 stroke:#2db88b,stroke-width:6px;\n",
    "linkStyle 1,4,6,7,8,9 stroke:#003f5c,stroke-width:6px;\n",
    "```"
   ]
  },
  {
   "cell_type": "code",
   "execution_count": 213,
   "id": "7b5f92d7-c65e-4a0d-bce3-b3745457f72a",
   "metadata": {
    "ExecuteTime": {
     "end_time": "2023-07-18T07:30:04.264898Z",
     "start_time": "2023-07-18T07:30:04.261788Z"
    }
   },
   "outputs": [
    {
     "data": {
      "text/plain": [
       "0.19767"
      ]
     },
     "execution_count": 213,
     "metadata": {},
     "output_type": "execute_result"
    }
   ],
   "source": [
    "df.churn.mean()"
   ]
  },
  {
   "cell_type": "code",
   "execution_count": 215,
   "id": "47790f20-db26-4e83-8d45-97ac00b1d35e",
   "metadata": {
    "ExecuteTime": {
     "end_time": "2023-07-18T07:30:04.737827Z",
     "start_time": "2023-07-18T07:30:04.586372Z"
    }
   },
   "outputs": [],
   "source": [
    "Y = ['churn', 'revenue']\n",
    "W = 'gift'\n",
    "X = ['months', 'rev_old', 'rev_change']"
   ]
  },
  {
   "cell_type": "code",
   "execution_count": 220,
   "id": "9d3fc3fa-5efd-41fa-a64d-ec0ffdad74e5",
   "metadata": {
    "ExecuteTime": {
     "end_time": "2023-07-18T07:30:04.287717Z",
     "start_time": "2023-07-18T07:30:04.266888Z"
    }
   },
   "outputs": [
    {
     "data": {
      "text/html": [
       "<table class=\"simpletable\">\n",
       "<tr>\n",
       "       <td></td>         <th>coef</th>     <th>std err</th>      <th>t</th>      <th>P>|t|</th>  <th>[0.025</th>    <th>0.975]</th>  \n",
       "</tr>\n",
       "<tr>\n",
       "  <th>Intercept</th>  <td>    0.3271</td> <td>    0.002</td> <td>  151.440</td> <td> 0.000</td> <td>    0.323</td> <td>    0.331</td>\n",
       "</tr>\n",
       "<tr>\n",
       "  <th>gift</th>       <td>   -0.1173</td> <td>    0.002</td> <td>  -51.521</td> <td> 0.000</td> <td>   -0.122</td> <td>   -0.113</td>\n",
       "</tr>\n",
       "<tr>\n",
       "  <th>months</th>     <td>    0.0050</td> <td>    0.000</td> <td>   21.832</td> <td> 0.000</td> <td>    0.005</td> <td>    0.005</td>\n",
       "</tr>\n",
       "<tr>\n",
       "  <th>rev_old</th>    <td>   -0.0181</td> <td>    0.000</td> <td> -108.061</td> <td> 0.000</td> <td>   -0.018</td> <td>   -0.018</td>\n",
       "</tr>\n",
       "<tr>\n",
       "  <th>rev_change</th> <td>   -0.0497</td> <td>    0.001</td> <td>  -87.412</td> <td> 0.000</td> <td>   -0.051</td> <td>   -0.049</td>\n",
       "</tr>\n",
       "</table>"
      ],
      "text/latex": [
       "\\begin{center}\n",
       "\\begin{tabular}{lcccccc}\n",
       "\\toprule\n",
       "                     & \\textbf{coef} & \\textbf{std err} & \\textbf{t} & \\textbf{P$> |$t$|$} & \\textbf{[0.025} & \\textbf{0.975]}  \\\\\n",
       "\\midrule\n",
       "\\textbf{Intercept}   &       0.3271  &        0.002     &   151.440  &         0.000        &        0.323    &        0.331     \\\\\n",
       "\\textbf{gift}        &      -0.1173  &        0.002     &   -51.521  &         0.000        &       -0.122    &       -0.113     \\\\\n",
       "\\textbf{months}      &       0.0050  &        0.000     &    21.832  &         0.000        &        0.005    &        0.005     \\\\\n",
       "\\textbf{rev\\_old}    &      -0.0181  &        0.000     &  -108.061  &         0.000        &       -0.018    &       -0.018     \\\\\n",
       "\\textbf{rev\\_change} &      -0.0497  &        0.001     &   -87.412  &         0.000        &       -0.051    &       -0.049     \\\\\n",
       "\\bottomrule\n",
       "\\end{tabular}\n",
       "\\end{center}"
      ],
      "text/plain": [
       "<class 'statsmodels.iolib.table.SimpleTable'>"
      ]
     },
     "execution_count": 220,
     "metadata": {},
     "output_type": "execute_result"
    }
   ],
   "source": [
    "smf.ols(\"churn ~ \" + W + \" + \" + \" + \".join(X), data=df).fit().summary().tables[1]"
   ]
  },
  {
   "cell_type": "code",
   "execution_count": 222,
   "id": "b8d1070a-af00-4671-b0b8-bfbec2edd0ed",
   "metadata": {
    "ExecuteTime": {
     "end_time": "2023-07-18T07:30:04.491610Z",
     "start_time": "2023-07-18T07:30:04.289661Z"
    }
   },
   "outputs": [
    {
     "data": {
      "text/plain": [
       "<Axes: xlabel='revenue', ylabel='Count'>"
      ]
     },
     "execution_count": 222,
     "metadata": {},
     "output_type": "execute_result"
    },
    {
     "data": {
      "image/png": "[encoded data removed]",
      "text/plain": [
       "<Figure size 1000x600 with 1 Axes>"
      ]
     },
     "metadata": {
      "image/png": {
       "height": 540,
       "width": 883
      }
     },
     "output_type": "display_data"
    }
   ],
   "source": [
    "sns.histplot(data=df, x='revenue', hue=W, bins=30)"
   ]
  },
  {
   "cell_type": "code",
   "execution_count": 223,
   "id": "4a16fa34-bac0-4ebc-81de-95b54cb04b2e",
   "metadata": {
    "ExecuteTime": {
     "end_time": "2023-07-18T07:30:04.537714Z",
     "start_time": "2023-07-18T07:30:04.508590Z"
    }
   },
   "outputs": [
    {
     "data": {
      "text/html": [
       "<table class=\"simpletable\">\n",
       "<tr>\n",
       "       <td></td>         <th>coef</th>     <th>std err</th>      <th>t</th>      <th>P>|t|</th>  <th>[0.025</th>    <th>0.975]</th>  \n",
       "</tr>\n",
       "<tr>\n",
       "  <th>Intercept</th>  <td>    0.3691</td> <td>    0.010</td> <td>   37.910</td> <td> 0.000</td> <td>    0.350</td> <td>    0.388</td>\n",
       "</tr>\n",
       "<tr>\n",
       "  <th>gift</th>       <td>    0.6317</td> <td>    0.010</td> <td>   61.560</td> <td> 0.000</td> <td>    0.612</td> <td>    0.652</td>\n",
       "</tr>\n",
       "<tr>\n",
       "  <th>months</th>     <td>    0.0120</td> <td>    0.001</td> <td>   11.768</td> <td> 0.000</td> <td>    0.010</td> <td>    0.014</td>\n",
       "</tr>\n",
       "<tr>\n",
       "  <th>rev_old</th>    <td>    0.8251</td> <td>    0.001</td> <td> 1092.846</td> <td> 0.000</td> <td>    0.824</td> <td>    0.827</td>\n",
       "</tr>\n",
       "<tr>\n",
       "  <th>rev_change</th> <td>    0.1457</td> <td>    0.003</td> <td>   56.777</td> <td> 0.000</td> <td>    0.141</td> <td>    0.151</td>\n",
       "</tr>\n",
       "</table>"
      ],
      "text/latex": [
       "\\begin{center}\n",
       "\\begin{tabular}{lcccccc}\n",
       "\\toprule\n",
       "                     & \\textbf{coef} & \\textbf{std err} & \\textbf{t} & \\textbf{P$> |$t$|$} & \\textbf{[0.025} & \\textbf{0.975]}  \\\\\n",
       "\\midrule\n",
       "\\textbf{Intercept}   &       0.3691  &        0.010     &    37.910  &         0.000        &        0.350    &        0.388     \\\\\n",
       "\\textbf{gift}        &       0.6317  &        0.010     &    61.560  &         0.000        &        0.612    &        0.652     \\\\\n",
       "\\textbf{months}      &       0.0120  &        0.001     &    11.768  &         0.000        &        0.010    &        0.014     \\\\\n",
       "\\textbf{rev\\_old}    &       0.8251  &        0.001     &  1092.846  &         0.000        &        0.824    &        0.827     \\\\\n",
       "\\textbf{rev\\_change} &       0.1457  &        0.003     &    56.777  &         0.000        &        0.141    &        0.151     \\\\\n",
       "\\bottomrule\n",
       "\\end{tabular}\n",
       "\\end{center}"
      ],
      "text/plain": [
       "<class 'statsmodels.iolib.table.SimpleTable'>"
      ]
     },
     "execution_count": 223,
     "metadata": {},
     "output_type": "execute_result"
    }
   ],
   "source": [
    "smf.ols(\"revenue ~ \" + W + \" + \" + \" + \".join(X), data=df).fit().summary().tables[1]"
   ]
  },
  {
   "cell_type": "code",
   "execution_count": 224,
   "id": "cddc63bb-21bd-4d44-9d8e-d6fc29a6a391",
   "metadata": {
    "ExecuteTime": {
     "end_time": "2023-07-18T07:30:04.548114Z",
     "start_time": "2023-07-18T07:30:04.539298Z"
    }
   },
   "outputs": [],
   "source": [
    "from sklearn.ensemble import RandomForestRegressor, RandomForestClassifier\n",
    "from sklearn.linear_model import LinearRegression, LogisticRegression\n",
    "from flaml.default import LGBMClassifier, LGBMRegressor, RandomForestClassifier, RandomForestRegressor\n",
    "from lightgbm import LGBMClassifier, LGBMRegressor\n",
    "\n",
    "model_y = LGBMRegressor()\n",
    "model_w = LGBMClassifier()"
   ]
  },
  {
   "cell_type": "code",
   "execution_count": 225,
   "id": "d6df0d10-e64a-4e06-93b0-9b38feae40d3",
   "metadata": {
    "ExecuteTime": {
     "end_time": "2023-07-18T07:30:04.565946Z",
     "start_time": "2023-07-18T07:30:04.555689Z"
    }
   },
   "outputs": [],
   "source": [
    "from econml.dr import DRLearner"
   ]
  },
  {
   "cell_type": "code",
   "execution_count": 226,
   "id": "338a7049-bf50-4bd5-ae49-f4b25ea40204",
   "metadata": {
    "ExecuteTime": {
     "end_time": "2023-07-18T07:30:04.743514Z",
     "start_time": "2023-07-18T07:30:04.740237Z"
    }
   },
   "outputs": [],
   "source": [
    "cost = 1"
   ]
  },
  {
   "cell_type": "code",
   "execution_count": 227,
   "id": "b90254ed-ec69-436a-8707-08aa165e32ee",
   "metadata": {
    "ExecuteTime": {
     "end_time": "2023-07-18T07:30:04.761143Z",
     "start_time": "2023-07-18T07:30:04.745486Z"
    }
   },
   "outputs": [],
   "source": [
    "def evaluate_policy(policy):\n",
    "    data = dgp.generate_data(seed_data=11, seed_assignment=12, keep_po=True)\n",
    "    data['profits'] = (1 - data.churn) * data.revenue\n",
    "    ad = policy(data)\n",
    "    baseline = (1-data.churn_c) * data.revenue_c\n",
    "    effect = (ad) * (1-data.churn_t) * (data.revenue_t-cost) + (1-ad) * (1-data.churn_c) * data.revenue_c\n",
    "    return np.sum(effect - baseline)"
   ]
  },
  {
   "cell_type": "code",
   "execution_count": 228,
   "id": "199c383a-4f97-41c2-aefb-9b5580bde074",
   "metadata": {},
   "outputs": [
    {
     "data": {
      "text/plain": [
       "8048.5"
      ]
     },
     "execution_count": 228,
     "metadata": {},
     "output_type": "execute_result"
    }
   ],
   "source": [
    "optimal_policy_churn = lambda df : - df['effect_on_churn'] * df['revenue_c'] > cost\n",
    "evaluate_policy(optimal_policy_churn)"
   ]
  },
  {
   "cell_type": "code",
   "execution_count": 229,
   "id": "8ad04049-c50c-44f5-ab48-b89c109de27d",
   "metadata": {},
   "outputs": [
    {
     "data": {
      "text/plain": [
       "6301.899999999999"
      ]
     },
     "execution_count": 229,
     "metadata": {},
     "output_type": "execute_result"
    }
   ],
   "source": [
    "optimal_policy_revenue = lambda df : df['effect_on_revenue'] * (1 - df['churn_c']) > cost\n",
    "evaluate_policy(optimal_policy_revenue)"
   ]
  },
  {
   "cell_type": "code",
   "execution_count": 230,
   "id": "e171334c-463a-4d69-bfc1-254b5a4c75ac",
   "metadata": {},
   "outputs": [
    {
     "data": {
      "text/plain": [
       "2216.19"
      ]
     },
     "execution_count": 230,
     "metadata": {},
     "output_type": "execute_result"
    }
   ],
   "source": [
    "optimal_policy_interaction = lambda df : - df['effect_on_churn'] * df['effect_on_revenue'] > cost\n",
    "evaluate_policy(optimal_policy_interaction)"
   ]
  },
  {
   "cell_type": "code",
   "execution_count": 231,
   "id": "442b4701-9f56-489c-a3e8-21f8e6025d43",
   "metadata": {
    "ExecuteTime": {
     "end_time": "2023-07-18T07:30:04.804034Z",
     "start_time": "2023-07-18T07:30:04.762943Z"
    }
   },
   "outputs": [
    {
     "data": {
      "text/plain": [
       "14695.079999999998"
      ]
     },
     "execution_count": 231,
     "metadata": {},
     "output_type": "execute_result"
    }
   ],
   "source": [
    "def optimal_policy(df):\n",
    "    pi = - df['effect_on_churn'] * (df['revenue_c'] + df['effect_on_revenue'])  \n",
    "    pi += df['effect_on_revenue'] * (1 - df['churn_c'])\n",
    "    return pi > cost\n",
    "evaluate_policy(optimal_policy)"
   ]
  },
  {
   "cell_type": "markdown",
   "id": "affc188f-ee03-4268-9ab5-0d2f3fd81d34",
   "metadata": {},
   "source": [
    "Target churning customers"
   ]
  },
  {
   "cell_type": "code",
   "execution_count": 232,
   "id": "3e4c1803-8507-472e-9bb9-f06d2efe31e7",
   "metadata": {
    "ExecuteTime": {
     "end_time": "2023-07-18T07:30:05.601086Z",
     "start_time": "2023-07-18T07:30:04.804696Z"
    }
   },
   "outputs": [
    {
     "data": {
      "text/plain": [
       "-5453.03"
      ]
     },
     "execution_count": 232,
     "metadata": {},
     "output_type": "execute_result"
    }
   ],
   "source": [
    "model_churn = clone(model_w).fit(X=df[X], y=df['churn'])\n",
    "\n",
    "policy_churn = lambda df : (model_churn.predict_proba(df[X])[:,1] > 0.2)\n",
    "evaluate_policy(policy_churn)"
   ]
  },
  {
   "cell_type": "markdown",
   "id": "a3a38e64-8562-4928-9d4d-f9a2808cd3c3",
   "metadata": {},
   "source": [
    "Target revenue customers"
   ]
  },
  {
   "cell_type": "code",
   "execution_count": 233,
   "id": "c338fa00-5903-4b70-832e-e7006929de96",
   "metadata": {
    "ExecuteTime": {
     "end_time": "2023-07-18T07:30:06.808096Z",
     "start_time": "2023-07-18T07:30:05.601834Z"
    }
   },
   "outputs": [
    {
     "data": {
      "text/plain": [
       "-7337.449999999999"
      ]
     },
     "execution_count": 233,
     "metadata": {},
     "output_type": "execute_result"
    }
   ],
   "source": [
    "model_revenue = clone(model_y).fit(X=df[X], y=df['revenue'])\n",
    "\n",
    "policy_revenue = lambda df : (model_revenue.predict(df[X]) > 10*cost)\n",
    "evaluate_policy(policy_revenue)"
   ]
  },
  {
   "cell_type": "markdown",
   "id": "aaf2962b-06bc-4f16-991d-8f7ec3282dac",
   "metadata": {},
   "source": [
    "Target churn uplift customers"
   ]
  },
  {
   "cell_type": "code",
   "execution_count": 234,
   "id": "023b64bf-d338-4cee-a2e6-bab968103cf9",
   "metadata": {},
   "outputs": [
    {
     "data": {
      "text/plain": [
       "-28354.979999999996"
      ]
     },
     "execution_count": 234,
     "metadata": {},
     "output_type": "execute_result"
    }
   ],
   "source": [
    "DR_learner_churn = DRLearner(model_regression=model_y, model_propensity=model_w, model_final=model_y)\n",
    "DR_learner_churn.fit(df['churn'], df[W], X=df[X]);\n",
    "\n",
    "policy_churn_lift = lambda df : DR_learner_churn.effect(df[X]) < 0\n",
    "evaluate_policy(policy_churn_lift)"
   ]
  },
  {
   "cell_type": "code",
   "execution_count": 240,
   "id": "e334cd27-c1eb-4576-aa55-637060f0ec20",
   "metadata": {
    "ExecuteTime": {
     "end_time": "2023-07-18T07:30:08.018175Z",
     "start_time": "2023-07-18T07:30:06.808826Z"
    }
   },
   "outputs": [
    {
     "data": {
      "text/plain": [
       "384.78"
      ]
     },
     "execution_count": 240,
     "metadata": {},
     "output_type": "execute_result"
    }
   ],
   "source": [
    "DR_learner_churn = DRLearner(model_regression=model_y, model_propensity=model_w, model_final=model_y)\n",
    "DR_learner_churn.fit(df['churn'], df[W], X=df[X]);\n",
    "model_revenue_1 = clone(model_y).fit(X=df.loc[df[W] == 1, X], y=df.loc[df[W] == 1, 'revenue'])\n",
    "\n",
    "policy_churn_lift = lambda df : - DR_learner_churn.effect(df[X]) * model_revenue_1.predict(df[X]) > cost\n",
    "evaluate_policy(policy_churn_lift)"
   ]
  },
  {
   "cell_type": "markdown",
   "id": "acc11bdc-dc68-42ce-b3c1-00f17e4dd308",
   "metadata": {},
   "source": [
    "Combine \n",
    "\n",
    "$$\n",
    "\\tau_{\\pi} = \\hat{r}_1 * (1 - \\hat{c}_1) - \\hat{r}_0 * (1 - \\hat{c}_0)\n",
    "$$\n",
    "\n",
    "which we can rewrite as \n",
    "\n",
    "$$\n",
    "\\begin{aligned}\n",
    "\\tau_{\\pi} &= \\hat{r}_1 * (1 - \\hat{c}_1) - \\hat{r}_0 * (1 - \\hat{c}_0) = \\newline\n",
    "&= \\hat{r}_1 * (1 - \\hat{c}_1) - \\underbrace{\\hat{r}_1 * (1 - \\hat{c}_0) + \\hat{r}_1 * (1 - \\hat{c}_0)}_{\\text{add and subtract}} - \\hat{r}_0 * (1 - \\hat{c}_0) = \\newline\n",
    "&= - \\hat{r}_1 * \\tau_c + \\hat{r}_1 * (1 - \\hat{c}_0) - \\hat{r}_0 * (1 - \\hat{c}_0) = \\newline\n",
    "&= - \\hat{r}_1 * \\tau_c + \\tau_r * (1 - \\hat{c}_0)\n",
    "\\end{aligned}\n",
    "$$"
   ]
  },
  {
   "cell_type": "code",
   "execution_count": 243,
   "id": "4ea019a4-4898-4d68-b4bb-762fdfc3dec2",
   "metadata": {},
   "outputs": [
    {
     "data": {
      "text/plain": [
       "772.8700000000001"
      ]
     },
     "execution_count": 243,
     "metadata": {},
     "output_type": "execute_result"
    }
   ],
   "source": [
    "model_churn_0 = clone(model_w).fit(X=df.loc[df[W] == 0, X], y=df.loc[df[W] == 0, 'churn'])\n",
    "\n",
    "df_surv = df[df.churn == 0]\n",
    "DR_learner_survrev = DRLearner(model_regression=model_y, model_propensity=model_w, model_final=model_y)\n",
    "DR_learner_survrev.fit(df_surv['revenue'], df_surv[W], X=df_surv[X]);\n",
    "\n",
    "def policy_comb_lift(df): \n",
    "    pi = - DR_learner_churn.effect(df[X]) * model_revenue_1.predict(df[X])\n",
    "    pi += DR_learner_survrev.effect(df[X]) * (1 - model_churn_0.predict(df[X]))\n",
    "    return pi > cost\n",
    "evaluate_policy(policy_comb_lift)"
   ]
  },
  {
   "cell_type": "markdown",
   "id": "adaee429-2967-4edb-8b36-f6d96dfcbb59",
   "metadata": {},
   "source": [
    "Target revenue uplift customers"
   ]
  },
  {
   "cell_type": "code",
   "execution_count": 244,
   "id": "ed9a5dec-81b8-4766-9cd2-c6ad800d5b6e",
   "metadata": {
    "ExecuteTime": {
     "end_time": "2023-07-18T07:30:09.249283Z",
     "start_time": "2023-07-18T07:30:08.019015Z"
    }
   },
   "outputs": [
    {
     "data": {
      "text/plain": [
       "2018.8600000000001"
      ]
     },
     "execution_count": 244,
     "metadata": {},
     "output_type": "execute_result"
    }
   ],
   "source": [
    "DR_learner_revenue = DRLearner(model_regression=model_y, model_propensity=model_w, model_final=model_y)\n",
    "DR_learner_revenue.fit(df['revenue'], df[W], X=df[X]);\n",
    "\n",
    "policy_revenue_lift = lambda df : (DR_learner_revenue.effect(df[X]) > cost)\n",
    "evaluate_policy(policy_revenue_lift)"
   ]
  },
  {
   "cell_type": "markdown",
   "id": "7af35eb3-918e-495a-a7ae-8b5b38d02878",
   "metadata": {},
   "source": [
    "Plot"
   ]
  },
  {
   "cell_type": "code",
   "execution_count": 245,
   "id": "fc2050bb-3b66-4564-80bd-0cf282f446ee",
   "metadata": {},
   "outputs": [],
   "source": [
    "def plot_avg_by_age(df, var, ax, **kwargs):\n",
    "    temp = df.copy()\n",
    "    temp['months'] = temp['months'].round(0)\n",
    "    temp = temp.groupby('months', as_index=False)[[var]].mean()\n",
    "    sns.lineplot(data=temp, x='months', y=var, ax=ax).set(ylabel='', ylim=(-0.1, 1.1), xlim=(0, 13), **kwargs)"
   ]
  },
  {
   "cell_type": "code",
   "execution_count": 246,
   "id": "08ee22f9-c6ab-44a9-9501-cde8a4ba5085",
   "metadata": {},
   "outputs": [
    {
     "data": {
      "image/png": "[encoded data removed]",
      "text/plain": [
       "<Figure size 1000x300 with 2 Axes>"
      ]
     },
     "metadata": {
      "image/png": {
       "height": 358,
       "width": 834
      }
     },
     "output_type": "display_data"
    }
   ],
   "source": [
    "df['effect_churn_hat'] = np.mean(model_revenue.predict(df[X])) * -DR_learner_churn.effect(df[X])\n",
    "df['effect_revenue_hat'] = DR_learner_survrev.effect(df[X])\n",
    "\n",
    "fig, (ax1, ax2) = plt.subplots(1, 2, figsize=(10, 3))\n",
    "plot_avg_by_age(df, 'effect_churn_hat', ax1, title=\"Effect on Churn\")\n",
    "plot_avg_by_age(df, 'effect_revenue_hat', ax2, title=\"Effect on Revenue\")"
   ]
  },
  {
   "cell_type": "code",
   "execution_count": 247,
   "id": "eeb5ca77-1b39-4c75-875d-9b9d1d79babf",
   "metadata": {
    "ExecuteTime": {
     "end_time": "2023-07-18T07:30:10.304733Z",
     "start_time": "2023-07-18T07:30:09.999841Z"
    }
   },
   "outputs": [],
   "source": [
    "policies = [policy_churn, policy_revenue, policy_churn_lift, policy_comb_lift, policy_revenue_lift] \n",
    "df_results = pd.DataFrame()\n",
    "df_results['policy'] = ['churn', 'revenue', 'churn_L', 'comb_L', 'revenue_L']\n",
    "df_results['value'] = [evaluate_policy(policy) for policy in policies]"
   ]
  },
  {
   "cell_type": "code",
   "execution_count": 248,
   "id": "d9b76fb6-ccc2-45e1-9ebb-4dbf848e4f1c",
   "metadata": {
    "ExecuteTime": {
     "end_time": "2023-07-18T07:30:12.235500Z",
     "start_time": "2023-07-18T07:30:12.128960Z"
    }
   },
   "outputs": [
    {
     "data": {
      "text/plain": [
       "<matplotlib.lines.Line2D at 0x2aa733a10>"
      ]
     },
     "execution_count": 248,
     "metadata": {},
     "output_type": "execute_result"
    },
    {
     "data": {
      "image/png": "[encoded data removed]",
      "text/plain": [
       "<Figure size 1000x600 with 1 Axes>"
      ]
     },
     "metadata": {
      "image/png": {
       "height": 540,
       "width": 881
      }
     },
     "output_type": "display_data"
    }
   ],
   "source": [
    "fig, ax = plt.subplots()\n",
    "sns.barplot(df_results, x='policy', y='value')\n",
    "plt.axhline(0, c='k')\n",
    "plt.axhline(evaluate_policy(optimal_policy), c='k', ls='--', lw=3)"
   ]
  },
  {
   "cell_type": "markdown",
   "id": "65296f3f-af24-4d6a-89d4-147d86a8150c",
   "metadata": {},
   "source": [
    "### Bonus: weighting"
   ]
  },
  {
   "cell_type": "code",
   "execution_count": 249,
   "id": "3ce8ba90-8be3-4514-a758-859451116022",
   "metadata": {},
   "outputs": [
    {
     "data": {
      "text/plain": [
       "1429.86"
      ]
     },
     "execution_count": 249,
     "metadata": {},
     "output_type": "execute_result"
    }
   ],
   "source": [
    "DR_learner_revenue_w = DRLearner(model_regression=model_y, model_propensity=model_w, model_final=model_y)\n",
    "w = np.exp(1 - np.abs(DR_learner_revenue.effect(df[X]) - cost))\n",
    "DR_learner_revenue_w.fit(df['revenue'], df[W], X=df[X], sample_weight=w);\n",
    "\n",
    "policy_revenue_lift_w = lambda df : (DR_learner_revenue_w.effect(df[X]) > cost)\n",
    "evaluate_policy(policy_revenue_lift_w)"
   ]
  },
  {
   "cell_type": "markdown",
   "id": "96bd0bb2-1c72-43de-988b-8010f278f344",
   "metadata": {},
   "source": [
    "## Conclusion"
   ]
  },
  {
   "cell_type": "markdown",
   "id": "f616758c-bf48-470f-8ee1-ba6b4ac8b672",
   "metadata": {},
   "source": [
    "### References"
   ]
  },
  {
   "cell_type": "markdown",
   "id": "60e147fc-9353-4ede-848c-8778d88e8cbd",
   "metadata": {},
   "source": [
    "- Lemmens, Gupta (2020), [\"Managing Churn to Maximize Profits\"](https://www.hbs.edu/ris/Publication%20Files/14-020_2d6c9da0-94d3-4dd5-9952-d81feb432f61.pdf)\n",
    "\n",
    "- Bonvini, Kennedy, Keele (2021), [\"Minimax optimal subgroup identification\"](https://arxiv.org/abs/2306.17464)"
   ]
  },
  {
   "cell_type": "markdown",
   "id": "3006a54b-1c0f-4f4d-92bd-240e38fe11a1",
   "metadata": {},
   "source": [
    "### Code"
   ]
  },
  {
   "cell_type": "markdown",
   "id": "e7e43afa-c0dd-45b8-8f1b-3236b86e7321",
   "metadata": {},
   "source": [
    "You can find the original Jupyter Notebook here:\n",
    "\n",
    "https://github.com/matteocourthoud/Blog-Posts/blob/main/notebooks/beyond_churn.ipynb"
   ]
  }
 ],
 "metadata": {
  "kernelspec": {
   "display_name": "Python 3 (ipykernel)",
   "language": "python",
   "name": "python3"
  },
  "language_info": {
   "codemirror_mode": {
    "name": "ipython",
    "version": 3
   },
   "file_extension": ".py",
   "mimetype": "text/x-python",
   "name": "python",
   "nbconvert_exporter": "python",
   "pygments_lexer": "ipython3",
   "version": "3.11.4"
  },
  "varInspector": {
   "cols": {
    "lenName": 16,
    "lenType": 16,
    "lenVar": 40
   },
   "kernels_config": {
    "python": {
     "delete_cmd_postfix": "",
     "delete_cmd_prefix": "del ",
     "library": "var_list.py",
     "varRefreshCmd": "print(var_dic_list())"
    },
    "r": {
     "delete_cmd_postfix": ") ",
     "delete_cmd_prefix": "rm(",
     "library": "var_list.r",
     "varRefreshCmd": "cat(var_dic_list()) "
    }
   },
   "types_to_exclude": [
    "module",
    "function",
    "builtin_function_or_method",
    "instance",
    "_Feature"
   ],
   "window_display": false
  }
 },
 "nbformat": 4,
 "nbformat_minor": 5
}

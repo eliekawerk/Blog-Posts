{
 "cells": [
  {
   "cell_type": "markdown",
   "id": "717fcc6a-d2c1-4f99-8b17-30aae3cc2330",
   "metadata": {},
   "source": [
    "# Beyond Churn Prediction and Churn Uplift"
   ]
  },
  {
   "cell_type": "markdown",
   "id": "988f963f-29f0-4491-8427-bd03462c95be",
   "metadata": {},
   "source": [
    "A very common task in data science is *churn prediction*. However, predicting churn is often just an intermediate step and rarely the final objective. Usually, what we actually care about is **reducing churn**, which is a separate objective, not necessarily related. In fact, for example, knowing that long-term customers are less likely to churn than new customers is not an actionable insight since we cannot increase customers' tenure. What we would like to know instead is how one (or more) treatment impacts churn. This is often referred to as **churn uplift**.\n",
    "\n",
    "In this article, we will be going **beyond** both churn prediction and churn uplift and consider instead the ultimate goal of churn-prevention campaigns: **increasing revenue**. First of all, a policy that reduces churn might also have an impact on revenue, which should be taken into account. However, and more importantly, increasing revenue is relevant only if the customer does not churn. Vice-versa, decreasing churn is more relevant for high-revenue customers. This **interaction** between churn and revenue is critical in understanding the profitability of any treatment campaign and should not be overlooked."
   ]
  },
  {
   "cell_type": "markdown",
   "id": "0f047b38-3bd4-4189-af78-eadc76937914",
   "metadata": {},
   "source": [
    "## Gifts and Subscriptions"
   ]
  },
  {
   "cell_type": "markdown",
   "id": "e72d6fc1-1ee2-4771-be77-92d9f680d42d",
   "metadata": {},
   "source": [
    "For the rest of the article, we are going to use a **toy example** to illustrate the main idea. Suppose we were a company interested in reducing our customer's churn and ultimately increasing our revenue. Suppose we have decided to test a new idea: sending a **gift** of *1\\\\$* to our users. In order to test whether the treatment works, we have randomly sent it only to a subsample of our customer base. "
   ]
  },
  {
   "cell_type": "code",
   "execution_count": 1,
   "id": "68c34c2b-02d2-492e-bdd1-62aa1e8f1b30",
   "metadata": {},
   "outputs": [],
   "source": [
    "cost = 1"
   ]
  },
  {
   "cell_type": "markdown",
   "id": "53ef900a-98f8-46ce-9052-105e971f24f5",
   "metadata": {},
   "source": [
    "Let’s have a look at the data we have at our disposal. I import the data-generating process `dgp_gift()` from `src.dgp`. I also import some plotting functions and libraries from `src.utils`. "
   ]
  },
  {
   "cell_type": "code",
   "execution_count": 2,
   "id": "063d2a23-a853-489d-99bf-831fe412b545",
   "metadata": {},
   "outputs": [],
   "source": [
    "%matplotlib inline\n",
    "%config InlineBackend.figure_format = 'retina'"
   ]
  },
  {
   "cell_type": "code",
   "execution_count": 3,
   "id": "fdbf020e-dd01-4723-9337-c011565c155e",
   "metadata": {
    "ExecuteTime": {
     "end_time": "2023-07-18T07:30:04.244606Z",
     "start_time": "2023-07-18T07:30:04.243088Z"
    },
    "tags": []
   },
   "outputs": [],
   "source": [
    "from src.utils import *\n",
    "from src.dgp import DGP"
   ]
  },
  {
   "cell_type": "code",
   "execution_count": 4,
   "id": "6e0e2bbf-8984-41f6-b082-eaec5c7b08a0",
   "metadata": {
    "ExecuteTime": {
     "end_time": "2023-07-18T07:30:04.249099Z",
     "start_time": "2023-07-18T07:30:04.245171Z"
    }
   },
   "outputs": [],
   "source": [
    "class dgp_gift(DGP):\n",
    "    \"\"\"DGP: gift\"\"\"\n",
    "    X: list[str] = ['age', 'rev_old', 'rev_change']\n",
    "    D: str = 'gift'\n",
    "    Y: list[str] = ['churn', 'revenue']\n",
    "\n",
    "    def generate_baseline(self, seed:int = 0):\n",
    "        np.random.seed(seed)\n",
    "        months = np.random.exponential(5, self.n)\n",
    "        rev_old = np.maximum(0, np.random.exponential(7, self.n) - 2)\n",
    "        rev_change = np.random.normal(0, 2, self.n)\n",
    "        churn_c = np.random.beta(1 - rev_change*(rev_change<0), 2 + rev_old) > 0.4\n",
    "        rev_c = 0.8*rev_old + 0.2*np.maximum(0, np.random.exponential(7, self.n) - 2)\n",
    "        df = pd.DataFrame({'months': months, 'rev_old': rev_old, 'rev_change': rev_change,\n",
    "                           'churn_c': churn_c, 'revenue_c': rev_c})\n",
    "        return df\n",
    "\n",
    "    def add_treatment_effect(self, df, seed:int = 1):\n",
    "        np.random.seed(seed)\n",
    "        effect_c = - np.random.binomial(1, 0.3, self.n) * (df.months<7)\n",
    "        df['effect_on_churn'] = effect_c * (df.churn_c==1)\n",
    "        effect_r = np.random.normal(0.9, 0.5, self.n)* (df.months>3)\n",
    "        df['effect_on_revenue'] = np.maximum(-df.revenue_c, effect_r)\n",
    "        return df\n",
    "\n",
    "    def add_assignment(self, df: pd.DataFrame, seed: int = 2) -> pd.DataFrame:\n",
    "        np.random.seed(seed)\n",
    "        df[self.D] = np.random.binomial(1, 0.5, self.n)\n",
    "        return df\n",
    "\n",
    "    def add_post_treatment_variables(self, df : pd.DataFrame, seed: int = 0) -> pd.DataFrame:\n",
    "        df.revenue *= (1-df.churn)\n",
    "        return df"
   ]
  },
  {
   "cell_type": "code",
   "execution_count": 5,
   "id": "7a27bf05-53c4-40eb-84a7-818ee8ba8f4f",
   "metadata": {
    "ExecuteTime": {
     "end_time": "2023-07-18T07:30:04.260974Z",
     "start_time": "2023-07-18T07:30:04.249825Z"
    }
   },
   "outputs": [
    {
     "data": {
      "text/html": [
       "<div>\n",
       "<style scoped>\n",
       "    .dataframe tbody tr th:only-of-type {\n",
       "        vertical-align: middle;\n",
       "    }\n",
       "\n",
       "    .dataframe tbody tr th {\n",
       "        vertical-align: top;\n",
       "    }\n",
       "\n",
       "    .dataframe thead th {\n",
       "        text-align: right;\n",
       "    }\n",
       "</style>\n",
       "<table border=\"1\" class=\"dataframe\">\n",
       "  <thead>\n",
       "    <tr style=\"text-align: right;\">\n",
       "      <th></th>\n",
       "      <th>months</th>\n",
       "      <th>rev_old</th>\n",
       "      <th>rev_change</th>\n",
       "      <th>gift</th>\n",
       "      <th>churn</th>\n",
       "      <th>revenue</th>\n",
       "    </tr>\n",
       "  </thead>\n",
       "  <tbody>\n",
       "    <tr>\n",
       "      <th>0</th>\n",
       "      <td>3.98</td>\n",
       "      <td>3.36</td>\n",
       "      <td>0.86</td>\n",
       "      <td>0</td>\n",
       "      <td>0</td>\n",
       "      <td>7.28</td>\n",
       "    </tr>\n",
       "    <tr>\n",
       "      <th>1</th>\n",
       "      <td>6.28</td>\n",
       "      <td>14.41</td>\n",
       "      <td>-2.77</td>\n",
       "      <td>1</td>\n",
       "      <td>0</td>\n",
       "      <td>11.60</td>\n",
       "    </tr>\n",
       "    <tr>\n",
       "      <th>2</th>\n",
       "      <td>4.62</td>\n",
       "      <td>2.89</td>\n",
       "      <td>-2.21</td>\n",
       "      <td>0</td>\n",
       "      <td>0</td>\n",
       "      <td>3.59</td>\n",
       "    </tr>\n",
       "    <tr>\n",
       "      <th>3</th>\n",
       "      <td>3.94</td>\n",
       "      <td>0.00</td>\n",
       "      <td>-3.26</td>\n",
       "      <td>0</td>\n",
       "      <td>1</td>\n",
       "      <td>0.00</td>\n",
       "    </tr>\n",
       "    <tr>\n",
       "      <th>4</th>\n",
       "      <td>2.76</td>\n",
       "      <td>3.25</td>\n",
       "      <td>-3.43</td>\n",
       "      <td>0</td>\n",
       "      <td>0</td>\n",
       "      <td>5.33</td>\n",
       "    </tr>\n",
       "  </tbody>\n",
       "</table>\n",
       "</div>"
      ],
      "text/plain": [
       "   months  rev_old  rev_change  gift  churn  revenue\n",
       "0    3.98     3.36        0.86     0      0     7.28\n",
       "1    6.28    14.41       -2.77     1      0    11.60\n",
       "2    4.62     2.89       -2.21     0      0     3.59\n",
       "3    3.94     0.00       -3.26     0      1     0.00\n",
       "4    2.76     3.25       -3.43     0      0     5.33"
      ]
     },
     "execution_count": 5,
     "metadata": {},
     "output_type": "execute_result"
    }
   ],
   "source": [
    "dgp = dgp_gift(n=100_000)\n",
    "df = dgp.generate_data()\n",
    "df.head()"
   ]
  },
  {
   "cell_type": "markdown",
   "id": "e4bd23fd-ed28-4d6b-94d3-adee300a0634",
   "metadata": {},
   "source": [
    "We have information on `100_000` customers for which we observe the number of `months` they have been active customers, the revenue they generated in the last month (`rev_old`), the change in revenue between the last month and the previous one (`rev_change`), whether they were randomly sent a `gift` and the two outcomes of interest: `churn`, i.e. whether they are not active customers anymore and the `revenue` they have generated in the current month. We denote the outcomes with the letter *Y*, the treatment with the letter *W* and the other variables with the letter *X*."
   ]
  },
  {
   "cell_type": "code",
   "execution_count": 6,
   "id": "49353148-56a6-464f-bd52-0ee9866bf401",
   "metadata": {},
   "outputs": [],
   "source": [
    "Y = ['churn', 'revenue']\n",
    "W = 'gift'\n",
    "X = ['months', 'rev_old', 'rev_change']"
   ]
  },
  {
   "cell_type": "markdown",
   "id": "8081c1bc-d4fa-41f7-a9f3-fed79cad0cfc",
   "metadata": {},
   "source": [
    "**Note** that, for simplicity, we are considering a single-period snapshot of the data and summarizing the panel structure of the data in just a couple of variables. Usually we would have a longer time series but also a longer time horizon for what concerns the outcome (e.g. [customer lifetime value](https://en.wikipedia.org/wiki/Customer_lifetime_value)).\n",
    "\n",
    "We can represent the underlying data generating process with the following **Directed Acyclic Graph (DAG)**. Nodes represent variables and arrows represent potential causal relationships. I have highlighted in green the two relationships of interest: the effect of the `gift` on `churn` and `revenue`. Note that `churn` is related to revenue since churned customers by definition generate zero revenue."
   ]
  },
  {
   "cell_type": "markdown",
   "id": "13f63150-46ee-4b91-a1a3-683d8c5a02b4",
   "metadata": {},
   "source": [
    "```mermaid\n",
    "flowchart TD\n",
    "classDef included fill:#DCDCDC,stroke:#000000,stroke-width:3px;\n",
    "classDef empty width:-10px,height:-10px,fill:#000000,stroke-width:0px;\n",
    "\n",
    "W((1$ gift))\n",
    "D1(( ))\n",
    "D2(( ))\n",
    "Y1((churn))\n",
    "Y2((revenue))\n",
    "X1((months))\n",
    "X2((revenue change))\n",
    "X3((revenue old))\n",
    "\n",
    "W --- D1\n",
    "X1 --- D1\n",
    "D1 --> Y1\n",
    "W --- D2\n",
    "X1 --- D2\n",
    "D2 --> Y2\n",
    "Y1 --> Y2\n",
    "X2 --> Y1\n",
    "X3 --> Y1\n",
    "X3 --> Y2\n",
    "\n",
    "class W,Y1,Y2,X1,X2,X3 included;\n",
    "class D1,D2 empty;\n",
    "\n",
    "linkStyle 0,2,3,5 stroke:#2db88b,stroke-width:6px;\n",
    "linkStyle 1,4,6,7,8,9 stroke:#003f5c,stroke-width:6px;\n",
    "```"
   ]
  },
  {
   "cell_type": "markdown",
   "id": "1db1446d-6d59-4298-bdb9-3a6082438760",
   "metadata": {},
   "source": [
    "Importantly, past revenue and the revenue change are predictors of `churn` and `revenue` but are not related to our intervention. On the contrary, the intervention affects `churn` and `revenue` differentially depending on the customers total active `months`.\n",
    "\n",
    "While simplistic, this data generating process aims at captiring an important **insight**: variables that are good predictors of `churn` or `revenue`, are not necessarily variables that predict `churn` or `revenue` **lift**. We will see later how this impacts our analysis. \n",
    "\n",
    "Let's start first by exploring the data."
   ]
  },
  {
   "cell_type": "markdown",
   "id": "e83b03fd-59c0-4e12-b888-018a3cdb2424",
   "metadata": {},
   "source": [
    "## Exploratory Data Analysis"
   ]
  },
  {
   "cell_type": "markdown",
   "id": "8d27c0e8-22a9-41df-a411-20c22927aaa8",
   "metadata": {},
   "source": [
    "Let's start with `churn`. How many customers did the company lose last month?"
   ]
  },
  {
   "cell_type": "code",
   "execution_count": 7,
   "id": "7b5f92d7-c65e-4a0d-bce3-b3745457f72a",
   "metadata": {
    "ExecuteTime": {
     "end_time": "2023-07-18T07:30:04.264898Z",
     "start_time": "2023-07-18T07:30:04.261788Z"
    }
   },
   "outputs": [
    {
     "data": {
      "text/plain": [
       "0.19767"
      ]
     },
     "execution_count": 7,
     "metadata": {},
     "output_type": "execute_result"
    }
   ],
   "source": [
    "df.churn.mean()"
   ]
  },
  {
   "cell_type": "markdown",
   "id": "a4d2f0d0-6593-4a04-90f2-8390423bf27f",
   "metadata": {},
   "source": [
    "The company lost almost *20\\%* of customers last month! Did the `gift` help in preventing churn?\n",
    "\n",
    "We want to compare the churn frequency of customers that received the gift with the churn frequency of customers that did not receive the gift. Since the gift was randomized, the difference-in-means estimator is an unbiased estimator for the [average treatment effect (ATE)](https://en.wikipedia.org/wiki/Average_treatment_effect) of the `gift` on `churn`.\n",
    "\n",
    "$$\n",
    "ATE = \\mathbb{E} \\Big[ Y \\ \\Big| \\ W = 1 \\Big] - \\mathbb{E} \\Big[ Y \\ \\Big| \\ W = 0 \\Big]\n",
    "$$\n",
    "\n",
    "We compute the difference-in-means estimate by linear regression. We also include other covariates to improve the efficiency of the estimator."
   ]
  },
  {
   "cell_type": "code",
   "execution_count": 8,
   "id": "9d3fc3fa-5efd-41fa-a64d-ec0ffdad74e5",
   "metadata": {
    "ExecuteTime": {
     "end_time": "2023-07-18T07:30:04.287717Z",
     "start_time": "2023-07-18T07:30:04.266888Z"
    }
   },
   "outputs": [
    {
     "data": {
      "text/html": [
       "<table class=\"simpletable\">\n",
       "<tr>\n",
       "       <td></td>         <th>coef</th>     <th>std err</th>      <th>t</th>      <th>P>|t|</th>  <th>[0.025</th>    <th>0.975]</th>  \n",
       "</tr>\n",
       "<tr>\n",
       "  <th>Intercept</th>  <td>    0.3271</td> <td>    0.002</td> <td>  151.440</td> <td> 0.000</td> <td>    0.323</td> <td>    0.331</td>\n",
       "</tr>\n",
       "<tr>\n",
       "  <th>gift</th>       <td>   -0.1173</td> <td>    0.002</td> <td>  -51.521</td> <td> 0.000</td> <td>   -0.122</td> <td>   -0.113</td>\n",
       "</tr>\n",
       "<tr>\n",
       "  <th>months</th>     <td>    0.0050</td> <td>    0.000</td> <td>   21.832</td> <td> 0.000</td> <td>    0.005</td> <td>    0.005</td>\n",
       "</tr>\n",
       "<tr>\n",
       "  <th>rev_old</th>    <td>   -0.0181</td> <td>    0.000</td> <td> -108.061</td> <td> 0.000</td> <td>   -0.018</td> <td>   -0.018</td>\n",
       "</tr>\n",
       "<tr>\n",
       "  <th>rev_change</th> <td>   -0.0497</td> <td>    0.001</td> <td>  -87.412</td> <td> 0.000</td> <td>   -0.051</td> <td>   -0.049</td>\n",
       "</tr>\n",
       "</table>"
      ],
      "text/latex": [
       "\\begin{center}\n",
       "\\begin{tabular}{lcccccc}\n",
       "\\toprule\n",
       "                     & \\textbf{coef} & \\textbf{std err} & \\textbf{t} & \\textbf{P$> |$t$|$} & \\textbf{[0.025} & \\textbf{0.975]}  \\\\\n",
       "\\midrule\n",
       "\\textbf{Intercept}   &       0.3271  &        0.002     &   151.440  &         0.000        &        0.323    &        0.331     \\\\\n",
       "\\textbf{gift}        &      -0.1173  &        0.002     &   -51.521  &         0.000        &       -0.122    &       -0.113     \\\\\n",
       "\\textbf{months}      &       0.0050  &        0.000     &    21.832  &         0.000        &        0.005    &        0.005     \\\\\n",
       "\\textbf{rev\\_old}    &      -0.0181  &        0.000     &  -108.061  &         0.000        &       -0.018    &       -0.018     \\\\\n",
       "\\textbf{rev\\_change} &      -0.0497  &        0.001     &   -87.412  &         0.000        &       -0.051    &       -0.049     \\\\\n",
       "\\bottomrule\n",
       "\\end{tabular}\n",
       "\\end{center}"
      ],
      "text/plain": [
       "<class 'statsmodels.iolib.table.SimpleTable'>"
      ]
     },
     "execution_count": 8,
     "metadata": {},
     "output_type": "execute_result"
    }
   ],
   "source": [
    "smf.ols(\"churn ~ \" + W + \" + \" + \" + \".join(X), data=df).fit().summary().tables[1]"
   ]
  },
  {
   "cell_type": "markdown",
   "id": "2499ed1e-61d0-4e97-9297-78fe2ec6da4b",
   "metadata": {},
   "source": [
    "It looks like the `gift` decreased churn by around *11* percentage points, i.e. almost one-third of the baseline level of *32%*! Did it also have an impact on `revenue`?\n",
    "\n",
    "As for churn, we regress `revenue` on `gift`, our treatment variable, to estimate the average treatment effect."
   ]
  },
  {
   "cell_type": "code",
   "execution_count": 9,
   "id": "4a16fa34-bac0-4ebc-81de-95b54cb04b2e",
   "metadata": {
    "ExecuteTime": {
     "end_time": "2023-07-18T07:30:04.537714Z",
     "start_time": "2023-07-18T07:30:04.508590Z"
    }
   },
   "outputs": [
    {
     "data": {
      "text/html": [
       "<table class=\"simpletable\">\n",
       "<tr>\n",
       "       <td></td>         <th>coef</th>     <th>std err</th>      <th>t</th>      <th>P>|t|</th>  <th>[0.025</th>    <th>0.975]</th>  \n",
       "</tr>\n",
       "<tr>\n",
       "  <th>Intercept</th>  <td>    0.3691</td> <td>    0.010</td> <td>   37.910</td> <td> 0.000</td> <td>    0.350</td> <td>    0.388</td>\n",
       "</tr>\n",
       "<tr>\n",
       "  <th>gift</th>       <td>    0.6317</td> <td>    0.010</td> <td>   61.560</td> <td> 0.000</td> <td>    0.612</td> <td>    0.652</td>\n",
       "</tr>\n",
       "<tr>\n",
       "  <th>months</th>     <td>    0.0120</td> <td>    0.001</td> <td>   11.768</td> <td> 0.000</td> <td>    0.010</td> <td>    0.014</td>\n",
       "</tr>\n",
       "<tr>\n",
       "  <th>rev_old</th>    <td>    0.8251</td> <td>    0.001</td> <td> 1092.846</td> <td> 0.000</td> <td>    0.824</td> <td>    0.827</td>\n",
       "</tr>\n",
       "<tr>\n",
       "  <th>rev_change</th> <td>    0.1457</td> <td>    0.003</td> <td>   56.777</td> <td> 0.000</td> <td>    0.141</td> <td>    0.151</td>\n",
       "</tr>\n",
       "</table>"
      ],
      "text/latex": [
       "\\begin{center}\n",
       "\\begin{tabular}{lcccccc}\n",
       "\\toprule\n",
       "                     & \\textbf{coef} & \\textbf{std err} & \\textbf{t} & \\textbf{P$> |$t$|$} & \\textbf{[0.025} & \\textbf{0.975]}  \\\\\n",
       "\\midrule\n",
       "\\textbf{Intercept}   &       0.3691  &        0.010     &    37.910  &         0.000        &        0.350    &        0.388     \\\\\n",
       "\\textbf{gift}        &       0.6317  &        0.010     &    61.560  &         0.000        &        0.612    &        0.652     \\\\\n",
       "\\textbf{months}      &       0.0120  &        0.001     &    11.768  &         0.000        &        0.010    &        0.014     \\\\\n",
       "\\textbf{rev\\_old}    &       0.8251  &        0.001     &  1092.846  &         0.000        &        0.824    &        0.827     \\\\\n",
       "\\textbf{rev\\_change} &       0.1457  &        0.003     &    56.777  &         0.000        &        0.141    &        0.151     \\\\\n",
       "\\bottomrule\n",
       "\\end{tabular}\n",
       "\\end{center}"
      ],
      "text/plain": [
       "<class 'statsmodels.iolib.table.SimpleTable'>"
      ]
     },
     "execution_count": 9,
     "metadata": {},
     "output_type": "execute_result"
    }
   ],
   "source": [
    "smf.ols(\"revenue ~ \" + W + \" + \" + \" + \".join(X), data=df).fit().summary().tables[1]"
   ]
  },
  {
   "cell_type": "markdown",
   "id": "2cb46672-c2d8-4211-88b4-3676d419c04f",
   "metadata": {},
   "source": [
    "It looks like the `gift` on average increased revenue by *0.63\\\\$*, which means that it was **not profitable**. Does it mean that we should stop sending gifts to our customers? It depends. In fact, the gift might be effective for certain customer segments. We just need to identify them."
   ]
  },
  {
   "cell_type": "markdown",
   "id": "28936f99-8357-475f-b419-7224b149416a",
   "metadata": {},
   "source": [
    "## Targeting Policies"
   ]
  },
  {
   "cell_type": "markdown",
   "id": "0e127f26-f56e-4164-be47-2d0a6cc354ec",
   "metadata": {},
   "source": [
    "In this section, we will try to understand if there is a data-informed way to send the `gift` to customers that is profitable. In particular, we will c**compare** different data-informed targeting **policies** with the objective of increasing revenue. \n",
    "\n",
    "Throughout this section, we will need some algorithms to either predict `revenue`, or `churn`, or the probability of receiving the `gift`. We use gradient-boosted tree models from the [`lightgbm`](https://lightgbm.readthedocs.io/en/latest/index.html) library  We use the same models for all policies, so that we cannot attribute differences in performance to prediction accuracy."
   ]
  },
  {
   "cell_type": "code",
   "execution_count": 10,
   "id": "cddc63bb-21bd-4d44-9d8e-d6fc29a6a391",
   "metadata": {
    "ExecuteTime": {
     "end_time": "2023-07-18T07:30:04.548114Z",
     "start_time": "2023-07-18T07:30:04.539298Z"
    }
   },
   "outputs": [],
   "source": [
    "from lightgbm import LGBMClassifier, LGBMRegressor"
   ]
  },
  {
   "cell_type": "markdown",
   "id": "cdcaf344-d867-46c5-be2f-0846e0942010",
   "metadata": {},
   "source": [
    "To **evaluate** each policy denoted with *τ*, we compare its profits with the policy *Π⁽¹⁾*, with its profits without the policy *Π⁽⁰⁾*, over every single individual, in a separate validation dataset. Note that this is usually not possible, since, for each customer, we only observe one of the two **potential outcomes**, with or without the `gift`. However, this is synthetic data, so we can do oracle evaluation. If you want to know more about how to evaluate uplift models with real data, I wrote an article about it."
   ]
  },
  {
   "cell_type": "markdown",
   "id": "8e013294-1203-459e-a2b2-c4f38c766089",
   "metadata": {},
   "source": [
    "https://towardsdatascience.com/8a078996a113"
   ]
  },
  {
   "cell_type": "markdown",
   "id": "62311bde-e670-4601-80ec-14cdf7885375",
   "metadata": {},
   "source": [
    "First of all, let's define profits *Π* as the net revenue *R* when the customer does not churn *C*.\n",
    "$$\n",
    "\\Pi = R (1-C)\n",
    "$$\n",
    "\n",
    "Therefore, the overall effect on profits for treated individuals is given by the difference between the profits when treated *Π⁽¹⁾* minus the profits when not treated *Π⁽⁰⁾*.\n",
    "\n",
    "$$\n",
    "\\tau_{\\pi} = R_1 (1 - C_1) - R_0 (1 - C_0)\n",
    "$$\n",
    "\n",
    "The effect for untreated individuals is zero."
   ]
  },
  {
   "cell_type": "code",
   "execution_count": 11,
   "id": "b90254ed-ec69-436a-8707-08aa165e32ee",
   "metadata": {
    "ExecuteTime": {
     "end_time": "2023-07-18T07:30:04.761143Z",
     "start_time": "2023-07-18T07:30:04.745486Z"
    }
   },
   "outputs": [],
   "source": [
    "def evaluate_policy(policy):\n",
    "    data = dgp.generate_data(seed_data=4, seed_assignment=5, keep_po=True)\n",
    "    data['profits'] = (1 - data.churn) * data.revenue\n",
    "    baseline = (1-data.churn_c) * data.revenue_c\n",
    "    effect = policy(data) * (1-data.churn_t) * (data.revenue_t-cost) + (1-policy(data)) * (1-data.churn_c) * data.revenue_c\n",
    "    return np.sum(effect - baseline)"
   ]
  },
  {
   "cell_type": "markdown",
   "id": "affc188f-ee03-4268-9ab5-0d2f3fd81d34",
   "metadata": {},
   "source": [
    "### 1. Target Churning Customers"
   ]
  },
  {
   "cell_type": "markdown",
   "id": "9d4783e3-894c-4ccb-ac80-43861f332d20",
   "metadata": {},
   "source": [
    "A first policy could be to just target **churning customers**. Let's say, we send the `gift` only to customers with above-average redicted churn. "
   ]
  },
  {
   "cell_type": "code",
   "execution_count": 12,
   "id": "3e4c1803-8507-472e-9bb9-f06d2efe31e7",
   "metadata": {
    "ExecuteTime": {
     "end_time": "2023-07-18T07:30:05.601086Z",
     "start_time": "2023-07-18T07:30:04.804696Z"
    }
   },
   "outputs": [
    {
     "data": {
      "text/plain": [
       "-5497.46"
      ]
     },
     "execution_count": 12,
     "metadata": {},
     "output_type": "execute_result"
    }
   ],
   "source": [
    "model_churn = LGBMClassifier().fit(X=df[X], y=df['churn'])\n",
    "\n",
    "policy_churn = lambda df : (model_churn.predict_proba(df[X])[:,1] > df.churn.mean())\n",
    "evaluate_policy(policy_churn)"
   ]
  },
  {
   "cell_type": "markdown",
   "id": "f437ff7d-fd4d-4645-95f0-86e7ba715ba5",
   "metadata": {},
   "source": [
    "The policy is not profitable and would lead to an aggregate **loss** of more than *5000\\\\$*. \n",
    "\n",
    "You might think that the problem is the **arbitrary threshold**, but this is not the case. Below I plot the aggregate effect for all possible policy thresholds."
   ]
  },
  {
   "cell_type": "code",
   "execution_count": 13,
   "id": "300d25c6-432d-4922-b67d-cc57fc5110ba",
   "metadata": {},
   "outputs": [
    {
     "data": {
      "image/png": "[encoded data removed]",
      "text/plain": [
       "<Figure size 1000x300 with 1 Axes>"
      ]
     },
     "metadata": {
      "image/png": {
       "height": 359,
       "width": 864
      }
     },
     "output_type": "display_data"
    }
   ],
   "source": [
    "x = np.linspace(0, 1, 100)\n",
    "y = [evaluate_policy(lambda df : (model_churn.predict_proba(df[X])[:,1] > k)) for k in x]\n",
    "\n",
    "fig, ax = plt.subplots(figsize=(10, 3))\n",
    "sns.lineplot(x=x, y=y).set(xlabel='Churn Policy Threshold', title='Aggregate Effect');\n",
    "ax.axhline(y=0, c='k', lw=3, ls='--');"
   ]
  },
  {
   "cell_type": "markdown",
   "id": "e932a63a-3d39-4d5a-9c97-3d12eeee1501",
   "metadata": {},
   "source": [
    "As we can see, at best we can make zero losses when we decide not to give the gift to any customer.\n",
    "\n",
    "The problem is that the fact that a customer is likely to churn does not imply that the `gift` will have any impact on their churn probability. The two measures are not completely unrelated (e.g. we cannot decrease the churning probability of customers that have 0% probability of churning), but they are not the same thing."
   ]
  },
  {
   "cell_type": "markdown",
   "id": "a3a38e64-8562-4928-9d4d-f9a2808cd3c3",
   "metadata": {},
   "source": [
    "### 2. Target revenue customers"
   ]
  },
  {
   "cell_type": "markdown",
   "id": "fb9b032a-bf6b-4c47-895c-f173c990543e",
   "metadata": {},
   "source": [
    "Let's now try a different policy: we send the gift only to **high-revenue customers**. For example, we might send the gift only to the top-10% of customers by revenue. The idea is that, if the policy indeed decreases churn, these are the customers for whom decreasing churn is more profitable."
   ]
  },
  {
   "cell_type": "code",
   "execution_count": 14,
   "id": "c338fa00-5903-4b70-832e-e7006929de96",
   "metadata": {
    "ExecuteTime": {
     "end_time": "2023-07-18T07:30:06.808096Z",
     "start_time": "2023-07-18T07:30:05.601834Z"
    }
   },
   "outputs": [
    {
     "data": {
      "text/plain": [
       "-4730.8200000000015"
      ]
     },
     "execution_count": 14,
     "metadata": {},
     "output_type": "execute_result"
    }
   ],
   "source": [
    "model_revenue = LGBMRegressor().fit(X=df[X], y=df['revenue'])\n",
    "\n",
    "policy_revenue = lambda df : (model_revenue.predict(df[X]) > np.quantile(df.revenue, 0.9))\n",
    "evaluate_policy(policy_revenue)"
   ]
  },
  {
   "cell_type": "markdown",
   "id": "fcf44863-0558-4862-83a4-1b68ce6e8f14",
   "metadata": {},
   "source": [
    "The policy is again unprofitable, leading to substantial **losses**. As before, this is not a problem of selecting the threshold as we can see in the plot below. The best we can do is set a threshold so high that we do not treat anyone and we make zero profits."
   ]
  },
  {
   "cell_type": "code",
   "execution_count": 15,
   "id": "f25e359f-482a-484d-9c31-0b96336f676c",
   "metadata": {},
   "outputs": [
    {
     "data": {
      "image/png": "[encoded data removed]",
      "text/plain": [
       "<Figure size 1000x300 with 1 Axes>"
      ]
     },
     "metadata": {
      "image/png": {
       "height": 358,
       "width": 864
      }
     },
     "output_type": "display_data"
    }
   ],
   "source": [
    "x = np.linspace(0, 100, 100)\n",
    "y = [evaluate_policy(lambda df : (model_revenue.predict(df[X]) > k*cost)) for k in x]\n",
    "\n",
    "fig, ax = plt.subplots(figsize=(10, 3))\n",
    "sns.lineplot(x=x, y=y).set(xlabel='Revenue Policy Threshold', title='Aggregate Effect');\n",
    "ax.axhline(y=0, c='k', lw=3, ls='--');"
   ]
  },
  {
   "cell_type": "markdown",
   "id": "1cec8230-dac6-47c4-9c44-b50da2cb92cc",
   "metadata": {},
   "source": [
    "The problem is that, in our setting, the churn probability of high-revenue customers does not decrease enough to make the `gift` profitable. This is also partially due to the fact, often observed in reality, that high-revenue customers are also the least likely to churn, to begin with.\n",
    "\n",
    "Let's now consider a more relevant set of policies: policies based on **uplift**."
   ]
  },
  {
   "cell_type": "markdown",
   "id": "aaf2962b-06bc-4f16-991d-8f7ec3282dac",
   "metadata": {},
   "source": [
    "### 3. Target churn uplift customers"
   ]
  },
  {
   "cell_type": "markdown",
   "id": "1ac699e4-eccc-4a43-9f1b-5e61c372555b",
   "metadata": {},
   "source": [
    "A more sensible approach would be to target customers whose `churn` probability decreases the most when receiving the *1\\\\$* `gift`. We estimate churn uplift using the [double-robust estimator](https://arxiv.org/abs/2004.14497), one of the best performing uplift models. If you are unfamiliar with meta-learners, I recommend starting from my introductory article."
   ]
  },
  {
   "cell_type": "markdown",
   "id": "8492980d-f4a8-4463-b7d3-4d72de484b92",
   "metadata": {},
   "source": [
    "https://towardsdatascience.com/8a9c1e340832"
   ]
  },
  {
   "cell_type": "markdown",
   "id": "9d63e5a1-8ef9-45f6-9bc7-3c28e55fd9df",
   "metadata": {},
   "source": [
    "We import the doubly-robust learner from [econml](https://econml.azurewebsites.net/), a Microsoft library."
   ]
  },
  {
   "cell_type": "code",
   "execution_count": 16,
   "id": "820b6144-1501-4ef8-a924-8442beb3f3f0",
   "metadata": {},
   "outputs": [],
   "source": [
    "from econml.dr import DRLearner\n",
    "\n",
    "DR_learner_churn = DRLearner(model_regression=LGBMRegressor(), model_propensity=LGBMClassifier(), model_final=LGBMRegressor())\n",
    "DR_learner_churn.fit(df['churn'], df[W], X=df[X]);"
   ]
  },
  {
   "cell_type": "markdown",
   "id": "40f47b53-d61a-45a0-9c95-7f98cab609f5",
   "metadata": {},
   "source": [
    "Now that we have estimated churn uplift, we might be tempted to just target customers with a high negative uplift (negative, since we want to *decrease* churn). For example, we might send the `gift` to all customers with an estimated uplift larger than the average churn."
   ]
  },
  {
   "cell_type": "code",
   "execution_count": 17,
   "id": "2b33fe02-5070-4bd3-8044-3e578884f9c0",
   "metadata": {},
   "outputs": [
    {
     "data": {
      "text/plain": [
       "-3925.2400000000002"
      ]
     },
     "execution_count": 17,
     "metadata": {},
     "output_type": "execute_result"
    }
   ],
   "source": [
    "policy_churn_lift = lambda df : DR_learner_churn.effect(df[X]) < - np.mean(df.churn)\n",
    "evaluate_policy(policy_churn_lift)"
   ]
  },
  {
   "cell_type": "markdown",
   "id": "0e640804-13c9-4cc3-b18a-84a2c2ebd88c",
   "metadata": {},
   "source": [
    "The policy is still unprofitable, leading to almost *4000\\\\$* in losses.\n",
    "\n",
    "The problem is that we haven't considered the cost of the policy. In fact, decreasing the churn probability is **only profitable for high-revenue customers**. Take the extreme case: avoiding churn of a customer that does not generate any revenue is not worth any intervention.\n",
    "\n",
    "Therefore, let's only send the `gift` to customers whose churn probability weighted by revenue decreases more than the cost of the gift."
   ]
  },
  {
   "cell_type": "code",
   "execution_count": 18,
   "id": "e334cd27-c1eb-4576-aa55-637060f0ec20",
   "metadata": {
    "ExecuteTime": {
     "end_time": "2023-07-18T07:30:08.018175Z",
     "start_time": "2023-07-18T07:30:06.808826Z"
    }
   },
   "outputs": [
    {
     "data": {
      "text/plain": [
       "318.03000000000003"
      ]
     },
     "execution_count": 18,
     "metadata": {},
     "output_type": "execute_result"
    }
   ],
   "source": [
    "model_revenue_1 = LGBMRegressor().fit(X=df.loc[df[W] == 1, X], y=df.loc[df[W] == 1, 'revenue'])\n",
    "\n",
    "policy_churn_lift = lambda df : - DR_learner_churn.effect(df[X]) * model_revenue_1.predict(df[X]) > cost\n",
    "evaluate_policy(policy_churn_lift)"
   ]
  },
  {
   "cell_type": "markdown",
   "id": "54906e0e-b98b-41d9-b072-0fc679326bb8",
   "metadata": {},
   "source": [
    "This policy is finally profitable!\n",
    "\n",
    "However, we still have not considered one channel: the intervention might also affect the revenue of existing customers. "
   ]
  },
  {
   "cell_type": "markdown",
   "id": "19a700ce-db7d-4a02-af4c-27f2a47764a3",
   "metadata": {},
   "source": [
    "### 4. Target revenue uplift customers"
   ]
  },
  {
   "cell_type": "markdown",
   "id": "5e3fac81-54d5-4457-9a36-bbcea6b24bb8",
   "metadata": {},
   "source": [
    "A symmetric approach to the previous one would be to consider only the impact on `revenue`, ignoring the impact on churn. We could estimate the `revenue` uplift for non-churning customers and treat only customers whose incremental effect on revenue, net of churn, is greater than the cost of the `gift`."
   ]
  },
  {
   "cell_type": "code",
   "execution_count": 19,
   "id": "7ac89cef-08e6-442a-8eec-1285f398606c",
   "metadata": {},
   "outputs": [
    {
     "data": {
      "text/plain": [
       "50.800000000000004"
      ]
     },
     "execution_count": 19,
     "metadata": {},
     "output_type": "execute_result"
    }
   ],
   "source": [
    "DR_learner_netrevenue = DRLearner(model_regression=LGBMRegressor(), model_propensity=LGBMClassifier(), model_final=LGBMRegressor())\n",
    "DR_learner_netrevenue.fit(df.loc[df.churn==0, 'revenue'], df.loc[df.churn==0, W], X=df.loc[df.churn==0, X]);\n",
    "model_churn_1 = LGBMClassifier().fit(X=df.loc[df[W] == 1, X], y=df.loc[df[W] == 1, 'churn'])\n",
    "\n",
    "policy_netrevenue_lift = lambda df : DR_learner_netrevenue.effect(df[X]) * (1-model_churn_1.predict(df[X])) > cost\n",
    "evaluate_policy(policy_netrevenue_lift)"
   ]
  },
  {
   "cell_type": "markdown",
   "id": "dfd2ade1-41d0-46e1-84ea-0dbc5e1d35d3",
   "metadata": {},
   "source": [
    "This policy is profitable as well, but ignores the effect on churn. How do we combine this poilcy with the previous one?"
   ]
  },
  {
   "cell_type": "markdown",
   "id": "ee1cbf25-7f3b-4fd6-a769-57b340789102",
   "metadata": {},
   "source": [
    "### 5. Target revenue uplift customers"
   ]
  },
  {
   "cell_type": "markdown",
   "id": "adaee429-2967-4edb-8b36-f6d96dfcbb59",
   "metadata": {},
   "source": [
    "The best way to efficiently **combine** both the effect on churn and the effect on net revenue, is simply to estimate **total revenue uplift**. The implied optimal policy is to treat customers whose total revenue uplift is greater than the cost of the `gift`."
   ]
  },
  {
   "cell_type": "code",
   "execution_count": 20,
   "id": "ed9a5dec-81b8-4766-9cd2-c6ad800d5b6e",
   "metadata": {
    "ExecuteTime": {
     "end_time": "2023-07-18T07:30:09.249283Z",
     "start_time": "2023-07-18T07:30:08.019015Z"
    }
   },
   "outputs": [
    {
     "data": {
      "text/plain": [
       "2028.2100000000003"
      ]
     },
     "execution_count": 20,
     "metadata": {},
     "output_type": "execute_result"
    }
   ],
   "source": [
    "DR_learner_revenue = DRLearner(model_regression=LGBMRegressor(), model_propensity=LGBMClassifier(), model_final=LGBMRegressor())\n",
    "DR_learner_revenue.fit(df['revenue'], df[W], X=df[X]);\n",
    "\n",
    "policy_revenue_lift = lambda df : (DR_learner_revenue.effect(df[X]) > cost)\n",
    "evaluate_policy(policy_revenue_lift)"
   ]
  },
  {
   "cell_type": "markdown",
   "id": "7af35eb3-918e-495a-a7ae-8b5b38d02878",
   "metadata": {},
   "source": [
    "It looks like this is by far the best policy, generating an aggregate profit of more than *2000\\\\$*!\n",
    "\n",
    "The result is starking if we compare all the different policies."
   ]
  },
  {
   "cell_type": "code",
   "execution_count": 21,
   "id": "4300036f-a177-444b-a0c0-27e7ac2b57be",
   "metadata": {},
   "outputs": [
    {
     "data": {
      "image/png": "[encoded data removed]",
      "text/plain": [
       "<Figure size 1000x600 with 1 Axes>"
      ]
     },
     "metadata": {
      "image/png": {
       "height": 540,
       "width": 881
      }
     },
     "output_type": "display_data"
    }
   ],
   "source": [
    "policies = [policy_churn, policy_revenue, policy_churn_lift, policy_netrevenue_lift, policy_revenue_lift] \n",
    "df_results = pd.DataFrame()\n",
    "df_results['policy'] = ['churn', 'revenue', 'churn_L', 'netrevenue_L', 'revenue_L']\n",
    "df_results['value'] = [evaluate_policy(policy) for policy in policies]\n",
    "\n",
    "fig, ax = plt.subplots()\n",
    "sns.barplot(df_results, x='policy', y='value')\n",
    "plt.axhline(0, c='k');"
   ]
  },
  {
   "cell_type": "markdown",
   "id": "b9b82f2c-4c4c-4f07-8195-90914a4457b0",
   "metadata": {},
   "source": [
    "## Intuition and Decomposition"
   ]
  },
  {
   "cell_type": "markdown",
   "id": "8daf8802-edd2-4906-bee8-e56c8abb57c5",
   "metadata": {},
   "source": [
    "If we compare the different policies, it is clear that targeting high-revenue or high-churn probability customers directly were the **worst choices**. This is not necessarily always the case, but it happened in our simulated data because of two facts that are also common in many real scenarios:\n",
    "\n",
    "1. Revenue and churn probability are negatively correlated\n",
    "2. The effect of the `gift` on `churn` (or `revenue`) was not strongly negatively (or positively for `revenue`) correlated with the baseline values\n",
    "\n",
    "Either one of these two facts can be enough to make targeting revenue or churn a bad strategy. What one should target instead is customers with a high **incremental** effect. And it's best to directly use as outcome the variable of interest, `revenue` in this case, whenever available. "
   ]
  },
  {
   "cell_type": "markdown",
   "id": "74477f5a-6e00-4b78-9482-3a7d3e453ca0",
   "metadata": {},
   "source": [
    "To better understand the mechanism, we can **decompose** the aggregate effect of a policy on profits into three parts.\n",
    "\n",
    "$$\n",
    "\\begin{aligned}\n",
    "\\tau_{\\pi} &= R_1 * (1 - C_1) - R_0 * (1 - C_0) = \\newline\n",
    "&= R_1 * (1 - C_1) - \\underbrace{\\hat{r}_1 * (1 - \\hat{c}_0) + R_1 * (1 - C_0)}_{\\text{add and subtract}} - R_0 * (1 - C_0) = \\newline\n",
    "&= - R_1 * \\tau_c + R_1 * (1 - C_0) - R_0 * (1 - C_0) = \\newline\n",
    "&= - R_1 * \\tau_c + \\tau_r * (1 - C_0) = \\newline\n",
    "&= \\underbrace{- R_0 * \\tau_c}_{\\text{incremental effect on churn}} + \\underbrace{\\tau_r * (1 - C_0)}_{\\text{incremental effect on revenue}} + \\underbrace{\\tau_r * \\tau_c}_{\\text{interaction effect}}\n",
    "\\end{aligned}\n",
    "$$"
   ]
  },
  {
   "cell_type": "markdown",
   "id": "e8ce2d3b-51a9-4c37-9464-eb2f64571d13",
   "metadata": {},
   "source": [
    "This implies that there are **three channels** that make treating a customer profitable.\n",
    "\n",
    "1. If it's a *high-revenue* customer and the treatment *decreases* its churn probability\n",
    "2. If it's a *non-churning* customer and the treatment *increases* its revenue\n",
    "3. It the treatment has a strong impact on *both* its revenue and churn probability\n",
    "\n",
    "Targeting by churn uplift exploits only the first channel, targeting by net revenue uplift exploits only the second channel, and targeting by total revenue uplift exploits all three channels, making it the **most effective** method."
   ]
  },
  {
   "cell_type": "markdown",
   "id": "65296f3f-af24-4d6a-89d4-147d86a8150c",
   "metadata": {},
   "source": [
    "### Bonus: weighting"
   ]
  },
  {
   "cell_type": "markdown",
   "id": "7cdc65f4-c970-4475-80a7-49f54cec4e6e",
   "metadata": {},
   "source": [
    "As highlighted by [Lemmens, Gupta (2020)](https://www.hbs.edu/ris/Publication%20Files/14-020_2d6c9da0-94d3-4dd5-9952-d81feb432f61.pdf), sometimes it might be worth **weighting** observations when estimating model uplift. In particular, it might be worth giving more weight to observations close to the treatment policy threshold. \n",
    "\n",
    "The **idea** is that weighting generally decreases the efficiency of the estimator. However, we are not interested in having correct estimates for all the observations, but rather we are interested in estimating the **policy threshold** correctly. In fact, whether you estimate a net profit of *1\\\\$* or *1000\\\\$* it does not matter: the implied policy is the same: send the `gift`. However, estimating a net profit of *1\\\\$* rather than *-1\\\\$* reverses the policy implications. Therefore, a large loss in accuracy away from the threshold sometimes is worth a small gain in accuracy at the threshold.\n",
    "\n",
    "Let's try using negative exponential weights, decreasing in distance from the threshold."
   ]
  },
  {
   "cell_type": "code",
   "execution_count": 22,
   "id": "3ce8ba90-8be3-4514-a758-859451116022",
   "metadata": {},
   "outputs": [
    {
     "ename": "NameError",
     "evalue": "name 'model_y' is not defined",
     "output_type": "error",
     "traceback": [
      "\u001b[0;31m---------------------------------------------------------------------------\u001b[0m",
      "\u001b[0;31mNameError\u001b[0m                                 Traceback (most recent call last)",
      "Cell \u001b[0;32mIn[22], line 1\u001b[0m\n\u001b[0;32m----> 1\u001b[0m DR_learner_revenue_w \u001b[38;5;241m=\u001b[39m DRLearner(model_regression\u001b[38;5;241m=\u001b[39m\u001b[43mmodel_y\u001b[49m, model_propensity\u001b[38;5;241m=\u001b[39mmodel_w, model_final\u001b[38;5;241m=\u001b[39mmodel_y)\n\u001b[1;32m      2\u001b[0m w \u001b[38;5;241m=\u001b[39m np\u001b[38;5;241m.\u001b[39mexp(\u001b[38;5;241m1\u001b[39m \u001b[38;5;241m+\u001b[39m np\u001b[38;5;241m.\u001b[39mabs(DR_learner_revenue\u001b[38;5;241m.\u001b[39meffect(df[X]) \u001b[38;5;241m-\u001b[39m cost))\n\u001b[1;32m      3\u001b[0m DR_learner_revenue_w\u001b[38;5;241m.\u001b[39mfit(df[\u001b[38;5;124m'\u001b[39m\u001b[38;5;124mrevenue\u001b[39m\u001b[38;5;124m'\u001b[39m], df[W], X\u001b[38;5;241m=\u001b[39mdf[X], sample_weight\u001b[38;5;241m=\u001b[39mw);\n",
      "\u001b[0;31mNameError\u001b[0m: name 'model_y' is not defined"
     ]
    }
   ],
   "source": [
    "DR_learner_revenue_w = DRLearner(model_regression=model_y, model_propensity=model_w, model_final=model_y)\n",
    "w = np.exp(1 + np.abs(DR_learner_revenue.effect(df[X]) - cost))\n",
    "DR_learner_revenue_w.fit(df['revenue'], df[W], X=df[X], sample_weight=w);\n",
    "\n",
    "policy_revenue_lift_w = lambda df : (DR_learner_revenue_w.effect(df[X]) > cost)\n",
    "evaluate_policy(policy_revenue_lift_w)"
   ]
  },
  {
   "cell_type": "markdown",
   "id": "24a8ca1e-c580-46e5-85e7-9a7b0bde309b",
   "metadata": {},
   "source": [
    "In our case, weighting is not worth: the implied policy is still profitable, but less than the one obtained with the unweighted model, *2028\\\\$*."
   ]
  },
  {
   "cell_type": "markdown",
   "id": "96bd0bb2-1c72-43de-988b-8010f278f344",
   "metadata": {},
   "source": [
    "## Conclusion"
   ]
  },
  {
   "cell_type": "markdown",
   "id": "e8ee5f59-2011-40b4-aa32-4a4b81f77a18",
   "metadata": {},
   "source": [
    "In this article, we have why and how one should go **beyond** churn prediction and churn uplift modeling. In particular, one should concentrate on the final business objective of increasing profitability. This implies shifting the focus from *prediction* to *uplift* but also combining churn and revenue into a single outcome. \n",
    "\n",
    "An important caveat concerns the dimension of the data available. We have used a toy dataset that highly simplifies the problem in at least **two dimensions**. First of all, backwards, we normally have longer time series that can (and should) be used for both prediction and modeling purposes. Second, forward, one should combine churn with a longer-run estimate of customer profitability, usually referred to as *customer lifetime value*. "
   ]
  },
  {
   "cell_type": "markdown",
   "id": "f616758c-bf48-470f-8ee1-ba6b4ac8b672",
   "metadata": {},
   "source": [
    "### References"
   ]
  },
  {
   "cell_type": "markdown",
   "id": "60e147fc-9353-4ede-848c-8778d88e8cbd",
   "metadata": {},
   "source": [
    "- Lemmens, Gupta (2020), [\"Managing Churn to Maximize Profits\"](https://www.hbs.edu/ris/Publication%20Files/14-020_2d6c9da0-94d3-4dd5-9952-d81feb432f61.pdf)\n",
    "\n",
    "- Bonvini, Kennedy, Keele (2021), [\"Minimax Optimal Subgroup Identification\"](https://arxiv.org/abs/2306.17464)"
   ]
  },
  {
   "cell_type": "markdown",
   "id": "0083d3e3-f3b5-4e32-a1f5-15aacdd735aa",
   "metadata": {},
   "source": [
    "### Related Articles"
   ]
  },
  {
   "cell_type": "markdown",
   "id": "4e2a87e6-c555-41e3-855e-48d79eb7a0a2",
   "metadata": {},
   "source": [
    "- [Evaluating Uplift Models](https://towardsdatascience.com/8a078996a113)\n",
    "\n",
    "- [Understanding Meta Learners](https://towardsdatascience.com/8a9c1e340832)\n",
    "\n",
    "- [Understanding AIPW, the Doubly-Robust Estimator](https://towardsdatascience.com/ed4097dab27a)"
   ]
  },
  {
   "cell_type": "markdown",
   "id": "3006a54b-1c0f-4f4d-92bd-240e38fe11a1",
   "metadata": {},
   "source": [
    "### Code"
   ]
  },
  {
   "cell_type": "markdown",
   "id": "e7e43afa-c0dd-45b8-8f1b-3236b86e7321",
   "metadata": {},
   "source": [
    "You can find the original Jupyter Notebook here:\n",
    "\n",
    "https://github.com/matteocourthoud/Blog-Posts/blob/main/notebooks/beyond_churn.ipynb"
   ]
  }
 ],
 "metadata": {
  "kernelspec": {
   "display_name": "Python 3 (ipykernel)",
   "language": "python",
   "name": "python3"
  },
  "language_info": {
   "codemirror_mode": {
    "name": "ipython",
    "version": 3
   },
   "file_extension": ".py",
   "mimetype": "text/x-python",
   "name": "python",
   "nbconvert_exporter": "python",
   "pygments_lexer": "ipython3",
   "version": "3.11.4"
  },
  "varInspector": {
   "cols": {
    "lenName": 16,
    "lenType": 16,
    "lenVar": 40
   },
   "kernels_config": {
    "python": {
     "delete_cmd_postfix": "",
     "delete_cmd_prefix": "del ",
     "library": "var_list.py",
     "varRefreshCmd": "print(var_dic_list())"
    },
    "r": {
     "delete_cmd_postfix": ") ",
     "delete_cmd_prefix": "rm(",
     "library": "var_list.r",
     "varRefreshCmd": "cat(var_dic_list()) "
    }
   },
   "types_to_exclude": [
    "module",
    "function",
    "builtin_function_or_method",
    "instance",
    "_Feature"
   ],
   "window_display": false
  }
 },
 "nbformat": 4,
 "nbformat_minor": 5
}

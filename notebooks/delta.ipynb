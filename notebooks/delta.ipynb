{
 "cells": [
  {
   "cell_type": "markdown",
   "id": "9a370c1f",
   "metadata": {},
   "source": [
    "# Experiments on Returns on Investment"
   ]
  },
  {
   "cell_type": "markdown",
   "id": "4b457ab5",
   "metadata": {},
   "source": [
    "*An introduction to the delta method for inference on ratio metrics.*"
   ]
  },
  {
   "cell_type": "markdown",
   "id": "37787b5b",
   "metadata": {},
   "source": [
    "When we run an experiment, we are often not only interested in the effect of a treatment (new product, new feature, new interface, ...) on revenue, but in it's **cost-effectiveness**. In other words, is the investment worth the cost? Common examples include investments in computing resources, returns on advertisement, but also click-through rates and other ratio metrics.  \n",
    "\n",
    "When we investigate causal effects, the gold standard are randomized control trials, a.k.a. **AB tests**. Randomly assigning the treatment to a subset of the population (users, patients, customers, ...) we ensure that, on average, the difference in outcomes can be attributed to the treatment. However, when the object of interest is cost-effectiveness, AB tests present some additional problems since we are not just interested in one treatment effect, but in the **ratio of two treatment effects**, the outcome of the investment over its cost.\n",
    "\n",
    "In this post we are going to see how to do inference when the object of interest is the **return on investment (ROI)**. We are going to explore alternative metrics to measure whether an investment paid off. We will also introduce a very powerful tool for inference with complex metrics: the **delta method**. While the algebra can be intense, the result is simple: we can compute the confidence interval for our ratio estimator using a simple linear regression. "
   ]
  },
  {
   "cell_type": "markdown",
   "id": "517c4a6f",
   "metadata": {},
   "source": [
    "## Investing in Cloud Computing"
   ]
  },
  {
   "cell_type": "markdown",
   "id": "f93eb751",
   "metadata": {},
   "source": [
    "To better illustrate the concepts, we are going to use a toy example throughout the article: suppose we were an **online marketplace** and we wanted to **invest in cloud computing**: we want to increase the computing power behind our internal search engine, by switching to a higher tier server. The idea is that the faster search will improve the user experience, potentially leading to higher sales. Therefore, the question is: is the investment worth the cost? The object of interest is the **return on investment (ROI)**.\n",
    "\n",
    "Differently from usual AB tests or randomized experiments, we are not interested in a single causal effect, but in the **ratio** of two metrics: the effect on revenue and the effect on cost. We will still use a **randomized control trial** or **AB test** to estimate the ROI: we randomly assign groups of users to either the treatment or the control group. The treated users will benefit from the faster cloud machines, while the control users will use the old slower machines. Randomization ensures that we can estimate the impact of the new machines on either cost or revenue by comparing users in the treatment and control group: the difference in their average is an unbiased estimator of the average treatment effect. However, things are more complicated for their ratio.\n",
    "\n",
    "I import the data generating process `dgp_cloud()` from [`src.dgp`](https://github.com/matteocourthoud/Blog-Posts/blob/main/notebooks/src/dgp.py). With respect to previous articles, I generated a new DGP parent class that handles randomization and data generation, while its children classes contain the specific use-cases. I also import some plotting functions and libraries from [`src.utils`](https://github.com/matteocourthoud/Blog-Posts/blob/main/notebooks/src/utils.py).  To include not only code but also data and tables, I use [Deepnote](https://deepnote.com), a Jupyter-like web-based collaborative notebook environment. "
   ]
  },
  {
   "cell_type": "code",
   "execution_count": 1,
   "id": "38a4fd42",
   "metadata": {
    "ExecuteTime": {
     "end_time": "2022-12-27T12:15:46.756792Z",
     "start_time": "2022-12-27T12:15:45.835113Z"
    }
   },
   "outputs": [],
   "source": [
    "%matplotlib inline\n",
    "%config InlineBackend.figure_format = 'retina'\n",
    "\n",
    "from src.utils import *\n",
    "from src.dgp import dgp_cloud, DGP"
   ]
  },
  {
   "cell_type": "code",
   "execution_count": 27,
   "id": "3f589c94",
   "metadata": {
    "ExecuteTime": {
     "end_time": "2022-12-27T12:26:58.188866Z",
     "start_time": "2022-12-27T12:26:58.167491Z"
    },
    "scrolled": false
   },
   "outputs": [
    {
     "data": {
      "text/html": [
       "<div>\n",
       "<style scoped>\n",
       "    .dataframe tbody tr th:only-of-type {\n",
       "        vertical-align: middle;\n",
       "    }\n",
       "\n",
       "    .dataframe tbody tr th {\n",
       "        vertical-align: top;\n",
       "    }\n",
       "\n",
       "    .dataframe thead th {\n",
       "        text-align: right;\n",
       "    }\n",
       "</style>\n",
       "<table border=\"1\" class=\"dataframe\">\n",
       "  <thead>\n",
       "    <tr style=\"text-align: right;\">\n",
       "      <th></th>\n",
       "      <th>new_machine</th>\n",
       "      <th>cost</th>\n",
       "      <th>revenue</th>\n",
       "    </tr>\n",
       "  </thead>\n",
       "  <tbody>\n",
       "    <tr>\n",
       "      <th>0</th>\n",
       "      <td>1</td>\n",
       "      <td>3.14</td>\n",
       "      <td>20.90</td>\n",
       "    </tr>\n",
       "    <tr>\n",
       "      <th>1</th>\n",
       "      <td>0</td>\n",
       "      <td>3.77</td>\n",
       "      <td>33.57</td>\n",
       "    </tr>\n",
       "    <tr>\n",
       "      <th>2</th>\n",
       "      <td>1</td>\n",
       "      <td>3.16</td>\n",
       "      <td>24.31</td>\n",
       "    </tr>\n",
       "    <tr>\n",
       "      <th>3</th>\n",
       "      <td>0</td>\n",
       "      <td>2.36</td>\n",
       "      <td>20.35</td>\n",
       "    </tr>\n",
       "    <tr>\n",
       "      <th>4</th>\n",
       "      <td>0</td>\n",
       "      <td>1.65</td>\n",
       "      <td>12.60</td>\n",
       "    </tr>\n",
       "  </tbody>\n",
       "</table>\n",
       "</div>"
      ],
      "text/plain": [
       "   new_machine  cost  revenue\n",
       "0            1  3.14    20.90\n",
       "1            0  3.77    33.57\n",
       "2            1  3.16    24.31\n",
       "3            0  2.36    20.35\n",
       "4            0  1.65    12.60"
      ]
     },
     "execution_count": 27,
     "metadata": {},
     "output_type": "execute_result"
    }
   ],
   "source": [
    "dgp = dgp_cloud(n=10_000)\n",
    "df = dgp.generate_data(seed_assignment=6)\n",
    "df.head()"
   ]
  },
  {
   "cell_type": "markdown",
   "id": "b8755e71",
   "metadata": {},
   "source": [
    "The data contains information on the total `cost` and `revenue` for a set of $10.000$ users over a period of a month. We also have information on the treatment: whether the search engine was running on the old or `new machines`.  As it often happens with business metrics, both distributions of cost and revenues are very **skewed**. Moreover, most people do not buy anything and therefore generate zero revenue, even though they still use the platform, generating positive costs."
   ]
  },
  {
   "cell_type": "code",
   "execution_count": 28,
   "id": "24fef8e9",
   "metadata": {
    "ExecuteTime": {
     "end_time": "2022-12-27T12:26:59.090999Z",
     "start_time": "2022-12-27T12:26:58.796654Z"
    },
    "scrolled": false
   },
   "outputs": [
    {
     "data": {
      "image/png": "[encoded data removed]",
      "text/plain": [
       "<Figure size 1080x360 with 2 Axes>"
      ]
     },
     "metadata": {
      "image/png": {
       "height": 363,
       "width": 901
      }
     },
     "output_type": "display_data"
    }
   ],
   "source": [
    "fix, (ax1, ax2) = plt.subplots(1, 2, figsize=(15, 5))\n",
    "sns.histplot(df.cost, ax=ax1, color='C0').set(title='Distribution of Cost')\n",
    "sns.histplot(df.revenue, ax=ax2, color='C1').set(title='Distribution of Revenue');"
   ]
  },
  {
   "cell_type": "markdown",
   "id": "bde0034b",
   "metadata": {},
   "source": [
    "We can compute the **difference-in-means** estimate for `cost` and `revenue` by regressing the outcome on the treatment indicator."
   ]
  },
  {
   "cell_type": "code",
   "execution_count": 29,
   "id": "5dfab567",
   "metadata": {
    "ExecuteTime": {
     "end_time": "2022-12-27T12:26:59.181676Z",
     "start_time": "2022-12-27T12:26:59.172977Z"
    }
   },
   "outputs": [
    {
     "data": {
      "text/html": [
       "<table class=\"simpletable\">\n",
       "<tr>\n",
       "       <td></td>          <th>coef</th>     <th>std err</th>      <th>t</th>      <th>P>|t|</th>  <th>[0.025</th>    <th>0.975]</th>  \n",
       "</tr>\n",
       "<tr>\n",
       "  <th>Intercept</th>   <td>    2.9617</td> <td>    0.043</td> <td>   69.034</td> <td> 0.000</td> <td>    2.878</td> <td>    3.046</td>\n",
       "</tr>\n",
       "<tr>\n",
       "  <th>new_machine</th> <td>    0.5152</td> <td>    0.060</td> <td>    8.563</td> <td> 0.000</td> <td>    0.397</td> <td>    0.633</td>\n",
       "</tr>\n",
       "</table>"
      ],
      "text/plain": [
       "<class 'statsmodels.iolib.table.SimpleTable'>"
      ]
     },
     "execution_count": 29,
     "metadata": {},
     "output_type": "execute_result"
    }
   ],
   "source": [
    "smf.ols('cost ~ new_machine', data=df).fit().summary().tables[1]"
   ]
  },
  {
   "cell_type": "markdown",
   "id": "a57c79d1",
   "metadata": {},
   "source": [
    "The average `cost` has increased by $0.5152\\$$ per user. What about revenue?"
   ]
  },
  {
   "cell_type": "code",
   "execution_count": 30,
   "id": "6996255a",
   "metadata": {
    "ExecuteTime": {
     "end_time": "2022-12-27T12:27:00.144505Z",
     "start_time": "2022-12-27T12:27:00.120472Z"
    }
   },
   "outputs": [
    {
     "data": {
      "text/html": [
       "<table class=\"simpletable\">\n",
       "<tr>\n",
       "       <td></td>          <th>coef</th>     <th>std err</th>      <th>t</th>      <th>P>|t|</th>  <th>[0.025</th>    <th>0.975]</th>  \n",
       "</tr>\n",
       "<tr>\n",
       "  <th>Intercept</th>   <td>   25.9172</td> <td>    0.425</td> <td>   60.950</td> <td> 0.000</td> <td>   25.084</td> <td>   26.751</td>\n",
       "</tr>\n",
       "<tr>\n",
       "  <th>new_machine</th> <td>    1.0664</td> <td>    0.596</td> <td>    1.788</td> <td> 0.074</td> <td>   -0.103</td> <td>    2.235</td>\n",
       "</tr>\n",
       "</table>"
      ],
      "text/plain": [
       "<class 'statsmodels.iolib.table.SimpleTable'>"
      ]
     },
     "execution_count": 30,
     "metadata": {},
     "output_type": "execute_result"
    }
   ],
   "source": [
    "smf.ols('revenue ~ new_machine', data=df).fit().summary().tables[1]"
   ]
  },
  {
   "cell_type": "markdown",
   "id": "9f6f32a1",
   "metadata": {
    "ExecuteTime": {
     "end_time": "2022-12-20T14:49:56.459875Z",
     "start_time": "2022-12-20T14:49:56.454404Z"
    }
   },
   "source": [
    "The average `revenue` per user has also increased, by $1.0664\\$$. So, was the investment **profitable**? \n",
    "\n",
    "To answer this question, we first have to decide which metric to use as our **outcome metric**. In case of ratio metrics, this is not trivial."
   ]
  },
  {
   "cell_type": "markdown",
   "id": "a92775b3",
   "metadata": {},
   "source": [
    "## Average Return or Return of the Average?"
   ]
  },
  {
   "cell_type": "markdown",
   "id": "2643e0ec",
   "metadata": {},
   "source": [
    "It is very tempting to approach this problem saying: it is true that we have two variables, by we can just compute their ratio, and then analyze everything as usual, using a **single variable**: the individual level return.\n",
    "\n",
    "$$\n",
    "\\rho_i = \\frac{\\text{individual revenue}}{\\text{individual cost}} = \\frac{R_i}{C_i}\n",
    "$$\n",
    "\n",
    "What happens if we analyze the experiment using this single metric?"
   ]
  },
  {
   "cell_type": "code",
   "execution_count": 31,
   "id": "59f23e56",
   "metadata": {
    "ExecuteTime": {
     "end_time": "2022-12-27T12:27:02.376285Z",
     "start_time": "2022-12-27T12:27:02.355766Z"
    }
   },
   "outputs": [
    {
     "data": {
      "text/html": [
       "<table class=\"simpletable\">\n",
       "<tr>\n",
       "       <td></td>          <th>coef</th>     <th>std err</th>      <th>t</th>      <th>P>|t|</th>  <th>[0.025</th>    <th>0.975]</th>  \n",
       "</tr>\n",
       "<tr>\n",
       "  <th>Intercept</th>   <td>    6.6898</td> <td>    0.044</td> <td>  150.832</td> <td> 0.000</td> <td>    6.603</td> <td>    6.777</td>\n",
       "</tr>\n",
       "<tr>\n",
       "  <th>new_machine</th> <td>   -0.7392</td> <td>    0.062</td> <td>  -11.893</td> <td> 0.000</td> <td>   -0.861</td> <td>   -0.617</td>\n",
       "</tr>\n",
       "</table>"
      ],
      "text/plain": [
       "<class 'statsmodels.iolib.table.SimpleTable'>"
      ]
     },
     "execution_count": 31,
     "metadata": {},
     "output_type": "execute_result"
    }
   ],
   "source": [
    "df[\"rho\"] = df[\"revenue\"] / df[\"cost\"]\n",
    "smf.ols(\"rho ~ new_machine\", df).fit().summary().tables[1]"
   ]
  },
  {
   "cell_type": "markdown",
   "id": "09ec059a",
   "metadata": {},
   "source": [
    "The estimated effect is **negative and significant**, $-0.7392$! It seems like the the new machines were not a good investment, and the returns have decreased by $74\\%$.\n",
    "\n",
    "This result seems to contradict our previous estimates. We have seen before that the revenue has increased on average more than the cost ($0.9505$ vs $0.5076$). Why is it the case? The problem is that we are giving the same weight to heavy users and light users. Let's use a simple example with two users. The first one (blue) is a light user and before was costing $1\\$$ and returning $10\\$$, while now is costing $4\\$$ and returning $20\\$$. The other user (violet) is a heavy user and before was costing $10\\$$ and returning 100\\\\$ and now is costing $20\\$$ and returning $220\\$$. "
   ]
  },
  {
   "cell_type": "markdown",
   "id": "a6d7cf49",
   "metadata": {},
   "source": [
    "<img src=\"fig/return.png\" width=\"700px\"/>"
   ]
  },
  {
   "cell_type": "markdown",
   "id": "844ab8c3",
   "metadata": {},
   "source": [
    "The average return is -3x: on average the return per user has decreased by $300\\%$. However, the total return per user is $1000\\%$: the increase in cost of $13\\$$ has generated $130\\$$ in revenue! The results are wildly different and entirely driven by the weight of the two users: the effect of the heavy user is low in relative terms but high in absolute terms, while it's the opposite for the light user. The average relative effect is therefore mostly driven by the light user, while the relative average effect is mostly driven by the heavy user.\n",
    "\n",
    "**Which metric** is more relevant in our setting? We talking about return on investment, we are usually interested in understanding whether we got a return on the money we spend. Therefore, the **total return** is more interesting than the average return.\n",
    "\n",
    "From now on, the object of interest will be the **return on investment (ROI)**, given by the expected increase in revenue over the expected increase in cost, and we will denote it with the greek letter rho, $\\rho$.\n",
    "\n",
    "$$\n",
    "\\rho = \\frac{\\text{incremental revenue}}{\\text{incremental cost}} = \\frac{\\mathbb E [\\Delta R]}{\\mathbb E [\\Delta C]}\n",
    "$$\n",
    "\n",
    "We can estimate the ROI as the ratio of the two previous estimates: the average difference in revenue between the treatment and control group, over the average difference in cost between the treatment and control group.\n",
    "\n",
    "$$\n",
    "\\hat{\\rho} = \\frac{\\mathbb E_n [\\Delta R]}{\\mathbb E_n [\\Delta C]}\n",
    "$$\n",
    "\n",
    "Note a subtle but crucial difference with respect to the previous formula: we have replaced the [expected values](https://en.wikipedia.org/wiki/Expected_value) $\\mathbb E$ with the empirical expectation operators $\\mathbb E_n$, also known as the [sample average](https://en.wikipedia.org/wiki/Arithmetic_mean). The difference in notation is minimal, but the conceptual difference is huge. The first, $\\mathbb E$, is a **theoretical** concept, while the second, $\\mathbb E_n$, is **empirical**: it is a number that depends on the actual data. I personally like the notation since it highlights the close link between the two concepts (the second is the empirical counterpart of the first), while also making it clear that the second crucially depends on the sample size $n$."
   ]
  },
  {
   "cell_type": "code",
   "execution_count": 32,
   "id": "e238cf42",
   "metadata": {
    "ExecuteTime": {
     "end_time": "2022-12-27T12:27:05.631316Z",
     "start_time": "2022-12-27T12:27:05.619525Z"
    }
   },
   "outputs": [
    {
     "data": {
      "text/plain": [
       "2.0698235970047887"
      ]
     },
     "execution_count": 32,
     "metadata": {},
     "output_type": "execute_result"
    }
   ],
   "source": [
    "def estimate_roi(df):\n",
    "    Delta_C = df.loc[df.new_machine==1, \"cost\"].mean() - df.loc[df.new_machine==0, \"cost\"].mean()\n",
    "    Delta_R = df.loc[df.new_machine==1, \"revenue\"].mean() - df.loc[df.new_machine==0, \"revenue\"].mean()\n",
    "    return Delta_R / Delta_C\n",
    "\n",
    "estimate_roi(df)"
   ]
  },
  {
   "cell_type": "markdown",
   "id": "fa0ce9ad",
   "metadata": {},
   "source": [
    "The estimate is $2.0698$: each additional dollar spent in the new machines translated in $2.0698$ extra dollars in revenue. Sounds great!\n",
    "\n",
    "But how much should we trust this number? Is it significantly different form one, or it is just driven by noise?"
   ]
  },
  {
   "cell_type": "markdown",
   "id": "f3a6f6be",
   "metadata": {},
   "source": [
    "## Inference"
   ]
  },
  {
   "cell_type": "markdown",
   "id": "efee48f5",
   "metadata": {},
   "source": [
    "To answer this question, we would like to compute a [**confidence interval**](https://en.wikipedia.org/wiki/Confidence_interval) for our estimate. How do we compute a confidence interval for a ratio metric? The first step is to compute the standard deviation of the estimator. One method that is always available is the [**bootstrap**](https://en.wikipedia.org/wiki/Bootstrapping_(statistics)): resample the data with replacement multiple and times and use the distribution of the estimates over samples to compute the standard deviation of the estimator.\n",
    "\n",
    "Let's try it in our case. I compute the standard deviation over $10.000$ bootstrapped samples, using the function `pd.DataFrame().sample()` with the options `frac=1` to obtain a dataset of the same size and `replace=True` to sample with replacement."
   ]
  },
  {
   "cell_type": "code",
   "execution_count": 33,
   "id": "ab12b7d7",
   "metadata": {
    "ExecuteTime": {
     "end_time": "2022-12-27T12:27:17.527033Z",
     "start_time": "2022-12-27T12:27:07.566822Z"
    }
   },
   "outputs": [
    {
     "data": {
      "text/plain": [
       "0.9790730538161984"
      ]
     },
     "execution_count": 33,
     "metadata": {},
     "output_type": "execute_result"
    }
   ],
   "source": [
    "boot_estimates = [estimate_roi(df.sample(frac=1, replace=True, random_state=i)) for i in range(10_000)]\n",
    "np.std(boot_estimates)"
   ]
  },
  {
   "cell_type": "markdown",
   "id": "b3298528",
   "metadata": {},
   "source": [
    "The bootstrap estimate of the standard deviation is equal to $0.979$. How good is it?\n",
    "\n",
    "Since we fully control the data generating process, we can simulate the \"true\" distribution of the estimator. We do that for $10.000$ simulations and we compute the resulting standard deviation of the estimator."
   ]
  },
  {
   "cell_type": "code",
   "execution_count": 34,
   "id": "bb3b97e3",
   "metadata": {
    "ExecuteTime": {
     "end_time": "2022-12-27T12:27:26.700769Z",
     "start_time": "2022-12-27T12:27:17.589845Z"
    }
   },
   "outputs": [
    {
     "data": {
      "text/plain": [
       "1.0547776958025372"
      ]
     },
     "execution_count": 34,
     "metadata": {},
     "output_type": "execute_result"
    }
   ],
   "source": [
    "np.std(dgp.evaluate_f_redrawing_outcomes(estimate_roi, 10_000))"
   ]
  },
  {
   "cell_type": "markdown",
   "id": "a093d60d",
   "metadata": {},
   "source": [
    "The estimated variance of the estimator using the \"true\" data generating process is slightly higher but very similar, around $1.055$. \n",
    "\n",
    "The issue with the bootstrap is that it is very computational intense since it requires repeating the estimating procedure thousands of times. We are now going to explore another *extremely* powerful alternative that requires a single estimation step, the [**delta method**](https://en.wikipedia.org/wiki/Delta_method). The delta method generally allows us to do inference on functions of random variable, therefore it's applications are broader than ratios. \n",
    "\n",
    "⚠️ **Warning**: the next section is going to be algebra-intense. If you want, you can skip it and go straight to the last section."
   ]
  },
  {
   "cell_type": "markdown",
   "id": "e6694d09",
   "metadata": {},
   "source": [
    "## The Delta Method"
   ]
  },
  {
   "cell_type": "markdown",
   "id": "bfb0509a",
   "metadata": {},
   "source": [
    "What is the **delta method**? In short, it is an incredibly powerful **asymptotic inference** method for functions of random variables, that exploits Taylor expansions. In short, the Delta Method requires four ingredients\n",
    "\n",
    "- One or more [random variables](https://en.wikipedia.org/wiki/Random_variable)\n",
    "- A function\n",
    "- [The Central Limit Theorem](https://en.wikipedia.org/wiki/Central_limit_theorem)\n",
    "- [Taylor expansions](https://en.wikipedia.org/wiki/Taylor_series)\n",
    "\n",
    "I will assume some basic knowledge of all four concepts. Suppose we had a set of realizations $X_1$, ..., $X_n$ of a random variable that satisfy the requirements for the Central Limit Theorem (CLT): independence, identically distributions with expected value $\\mu$, and finite variance $\\sigma^2$. Under these conditions, the CLT tells us that the sample average $\\mathbb E_n[X]$ converges in distribution to a normal distribution, or more precisely\n",
    "\n",
    "$$\n",
    "\\sqrt{n} \\ \\frac{ \\mathbb E_n[X] - \\mu}{\\sigma} \\ \\overset{D}{\\to} \\ N(0, 1)\n",
    "$$\n",
    "\n",
    "What does the equation mean? It reads \"the normalized sample average, scaled by a factor $\\sqrt{n}$, converges in distribution to a standard normal distribution, i.e. it is approximately Gaussian for a sufficiently large sample.\n",
    "\n",
    "Now, suppose we were interested in a **function** of the sample average $f\\big(\\mathbb E_n[X]\\big)$. Note that this is different from the sample average of the function $\\mathbb E_n\\big[f(X)\\big]$. The delta method tells us what the function of the sample average converges to. \n",
    "\n",
    "$$\n",
    "\\sqrt{n} \\ \\frac{ f\\big(\\mathbb E_n[X]\\big) - f(\\mu)}{\\sigma} \\ \\overset{D}{\\to} \\ N \\big(0, f'(\\mu)^2 \\big)\n",
    "$$\n",
    "\n",
    ", where $f'(\\mu)^2$ is the derivative of the function $f$, evaluated at $\\mu$.\n",
    "\n",
    "What is the **intuition** behind this formula? We now have a new term inside the expression of the variance, the squared first derivative $f'(\\mu)^2$ ($\\neq$ second derivative). If the derivative of the function is low, the variance decreases since different inputs translate into similar outputs. On the contrary, if the derivative of the function is high, the variance of the distribution is amplified, since different inputs translate into even more different outputs."
   ]
  },
  {
   "cell_type": "markdown",
   "id": "83c7a474",
   "metadata": {},
   "source": [
    "<img src=\"fig/delta_intuition.png\" width=\"700px\"/>"
   ]
  },
  {
   "cell_type": "markdown",
   "id": "fb892d41",
   "metadata": {},
   "source": [
    "The result directly follows from the Taylor approximation of $f \\big(\\mathbb E_n[X]\\big)$\n",
    "\n",
    "$$\n",
    "f\\big(\\mathbb E_n[X]\\big) = f(\\mu) + f'(\\mu) (\\mathbb E_n[X] - \\mu) + \\text{residual}\n",
    "$$\n",
    "\n",
    "Importantly, asymptotically, the last term disappears and the linear approximation holds exactly!\n",
    "\n",
    "How is this connected to the ratio estimator? We need a bit more math and to switch from a single dimension to two dimensions in order to understand that. In our case, we have a bivariate function of two random variables, $\\Delta R$ and $\\Delta C$, which returns their ratio. In the case of a multivariate function $f$, the asymptotic variance of the estimator is given by\n",
    "\n",
    "$$\n",
    "\\text{AVar} \\big( \\hat{\\rho} \\big) = \\nabla \\hat{\\rho}' \\Sigma_n \\nabla \\hat{\\rho}\n",
    "$$\n",
    "\n",
    "where, $\\nabla$ indicates the [gradient](https://en.wikipedia.org/wiki/Gradient) of the function, i.e. the vector of directional derivatives, and $\\Sigma_n$ is the empirical variance-covariance matrix of $X$. In our case, they correspond to\n",
    "\n",
    "$$\n",
    "\\nabla \\hat{\\rho} = \n",
    "\\begin{bmatrix} \n",
    "\\frac{1}{\\mathbb E_n [\\Delta C]} \\newline - \\frac{\\mathbb E_n [\\Delta R]}{\\mathbb E_n [\\Delta C]^2}\n",
    "\\end{bmatrix}\n",
    "$$\n",
    "\n",
    "and\n",
    "\n",
    "$$\n",
    "\\Sigma_n = \n",
    "\\begin{bmatrix}\n",
    "\\text{Var}_n (\\Delta R) & \\text{Cov}_n (\\Delta R, \\Delta C) \\newline\n",
    "\\text{Cov}_n (\\Delta R, \\Delta C) & \\text{Var}_n (\\Delta C) \\newline\n",
    "\\end{bmatrix}\n",
    "$$\n",
    "\n",
    ", where the subscripts $n$ indicate the empirical counterparts, as for the expected value. \n",
    "\n",
    "Combining the previous three equations together with a little matrix algebra, we get the formula of the asymptotic variance of the return on investment estimator.\n",
    "\n",
    "$$\n",
    "\\begin{align*}\n",
    "\\text{AVar} \\big( \\hat{\\rho} \\big) &= \\frac{1}{\\mathbb E_n[\\Delta C]^2} \\text{Var}_n(\\Delta R) - 2 \\frac{\\mathbb E_n[\\Delta R]}{\\mathbb E_n[\\Delta C]^3} \\text{Cov}_n(\\Delta R, \\Delta C) + \\frac{\\mathbb E_n[\\Delta R]^2}{\\mathbb E_n[\\Delta C]^4} \\text{Var}_n(\\Delta C)\n",
    "\\end{align*}\n",
    "$$\n",
    "\n",
    "Since the estimator is given by $\\hat{\\rho} = \\frac{\\mathbb E_n[\\Delta R]}{\\mathbb E_n[\\Delta C]}$, we can rewrite the asymptotic variance as\n",
    "\n",
    "$$\n",
    "\\begin{align*}\n",
    "\\text{AVar} \\big( \\hat{\\rho} \\big) = \\frac{1}{\\mathbb E_n[\\Delta C]^2} \\text{Var}_n \\Big( \\Delta R - \\hat{\\rho} \\Delta C \\Big)\n",
    "\\end{align*}\n",
    "$$\n",
    "\n",
    "The last expression is very interesting because it suggests that we can rewrite the asymptotic variance of our estimator as the **variance of a difference-in-means estimator** for a new auxiliary variable. In fact, we can rewrite the above expression as\n",
    "\n",
    "$$\n",
    "\\begin{align*}\n",
    "\\text{AVar} \\big( \\hat{\\rho} \\big) = \\text{Var}_n \\Big( \\Delta \\tilde R \\Big) \\qquad \\text{where} \\quad \\tilde R = \\frac{R - \\hat{\\rho} \\ C}{| \\mathbb E [\\Delta C] |}\n",
    "\\end{align*}\n",
    "$$\n",
    "\n",
    "This expression is incredibly useful because it gives us intuition and allows us to estimate the standard deviation of our estimator by **linear regression**."
   ]
  },
  {
   "cell_type": "markdown",
   "id": "cfd8acb8",
   "metadata": {},
   "source": [
    "## Inference with Linear Regression"
   ]
  },
  {
   "cell_type": "markdown",
   "id": "97347ed4",
   "metadata": {},
   "source": [
    "Did you skip the previous section? No problem!\n",
    "\n",
    "After some algebra, we concluded that we can estimate the variance of a difference-in-means estimator for an **auxiliary variable** defined as \n",
    "\n",
    "$$\n",
    "\\tilde R = \\frac{R - \\hat{\\rho} \\ C}{| \\mathbb E_n [\\Delta C] |}\n",
    "$$\n",
    "\n",
    "This expression might seem obscure at first, but it is incredibly useful. In fact, it gives us (1) an intuitive **interpretation** of the variance of the estimator and (2) a **practical** way to estimate it.\n",
    "\n",
    "Interpretation first! How should we read the above expression? We can estimate the variance of the empirical estimator as the variance of a difference-in-means estimator, for a new variable $\\tilde R$ that we can easily compute from the data. We just need to take the revenue $R$, subtract the cost $C$ multiplied by the estimated ROI $\\rho$ and scale it down by the expected cost difference $|\\mathbb E_n[\\Delta C]|$. We can interpret this variable as the **baseline revenue**, i.e. the revenue not affected by the investment. The fact that it is scaled by the expected cost difference tells us that its variance will be **decreasing in the total investment**: the more we spend, the more precisely we can estimate the return on that expenditure.\n",
    "\n",
    "Now, let's estimate the variance of the ROI estimator, in **four steps**.\n",
    "\n",
    "1. We need to estimate the return on investment $\\hat \\rho$."
   ]
  },
  {
   "cell_type": "code",
   "execution_count": 35,
   "id": "aa13fd60",
   "metadata": {
    "ExecuteTime": {
     "end_time": "2022-12-27T12:27:26.766310Z",
     "start_time": "2022-12-27T12:27:26.763375Z"
    }
   },
   "outputs": [],
   "source": [
    "rho_hat = estimate_roi(df)"
   ]
  },
  {
   "cell_type": "markdown",
   "id": "ae78cb50",
   "metadata": {},
   "source": [
    "2. The term $| \\mathbb E_n[\\Delta C] |$ is the absolute difference in average cost between the treatment and control group."
   ]
  },
  {
   "cell_type": "code",
   "execution_count": 36,
   "id": "517e1d3c",
   "metadata": {
    "ExecuteTime": {
     "end_time": "2022-12-27T12:27:26.860477Z",
     "start_time": "2022-12-27T12:27:26.855331Z"
    }
   },
   "outputs": [],
   "source": [
    "abs_Delta_C = np.abs(df.loc[df.new_machine==1, \"cost\"].mean() - df.loc[df.new_machine==0, \"cost\"].mean())"
   ]
  },
  {
   "cell_type": "markdown",
   "id": "bbcf57df",
   "metadata": {},
   "source": [
    "3. We now have all the ingredients to generate the auxiliary variable $\\tilde R$."
   ]
  },
  {
   "cell_type": "code",
   "execution_count": 37,
   "id": "7d9bc244",
   "metadata": {
    "ExecuteTime": {
     "end_time": "2022-12-27T12:27:26.923046Z",
     "start_time": "2022-12-27T12:27:26.920473Z"
    }
   },
   "outputs": [],
   "source": [
    "df['revenue_tilde'] = (df['revenue'] - rho_hat * df['cost']) / abs_Delta_C"
   ]
  },
  {
   "cell_type": "markdown",
   "id": "8ced4127",
   "metadata": {},
   "source": [
    "4. The variance of the treatment-control difference $\\Delta \\tilde R$ can be directly computed by linear regression, as in randomized controlled trials for difference-in-means estimators (see Agrist and Pischke, 2008)."
   ]
  },
  {
   "cell_type": "code",
   "execution_count": 38,
   "id": "b269aeee",
   "metadata": {
    "ExecuteTime": {
     "end_time": "2022-12-27T12:27:26.992479Z",
     "start_time": "2022-12-27T12:27:26.985130Z"
    }
   },
   "outputs": [
    {
     "data": {
      "text/html": [
       "<table class=\"simpletable\">\n",
       "<tr>\n",
       "       <td></td>          <th>coef</th>     <th>std err</th>      <th>t</th>      <th>P>|t|</th>  <th>[0.025</th>    <th>0.975]</th>  \n",
       "</tr>\n",
       "<tr>\n",
       "  <th>Intercept</th>   <td>   38.4067</td> <td>    0.653</td> <td>   58.771</td> <td> 0.000</td> <td>   37.126</td> <td>   39.688</td>\n",
       "</tr>\n",
       "<tr>\n",
       "  <th>new_machine</th> <td> -2.01e-14</td> <td>    0.917</td> <td>-2.19e-14</td> <td> 1.000</td> <td>   -1.797</td> <td>    1.797</td>\n",
       "</tr>\n",
       "</table>"
      ],
      "text/plain": [
       "<class 'statsmodels.iolib.table.SimpleTable'>"
      ]
     },
     "execution_count": 38,
     "metadata": {},
     "output_type": "execute_result"
    }
   ],
   "source": [
    "smf.ols('revenue_tilde ~ new_machine', df).fit().summary().tables[1]"
   ]
  },
  {
   "cell_type": "markdown",
   "id": "7d46695f",
   "metadata": {},
   "source": [
    "The estimated standard error of the ROI is $0.917$, very close to the bootstrap estimate of $0.979$ and the simulated value of $1.055$. However, with respect to bootstrapping, the delta method allowed us to compute it in a single step, making it sensibly **faster** (around $1000$ times on my local machine).\n",
    "\n",
    "Note that this estimated standard deviation implies a 95\\% confidence interval of $2.0698 +- 1.96 \\times 0.917$, equal to $[-0.2735, 3.8671]$. This might seem like good news since the confidence interval does not cover zero. However, note that in this case, a more interesting **null hypothesis** is that the ROI is equal to 1: we are breaking even. A value larger than 1 implies profits, while a value lower than 1 implies losses. In our case, we cannot reject the null hypothesis that the investment in new machines was not profitable."
   ]
  },
  {
   "cell_type": "markdown",
   "id": "39f056c2",
   "metadata": {},
   "source": [
    "## Conclusion"
   ]
  },
  {
   "cell_type": "markdown",
   "id": "8d82d7c4",
   "metadata": {},
   "source": [
    "In this article, we have explored a very common causal inference problem: assessing the **return on investment**. Whether it's a physical investment in new hardware, a virtual cost, or advertisement expenditure, we are interested in understanding whether this incremental cost has paid off. The additional complications come from the fact that we are studying not one, but two causal quantities, intertwined.\n",
    "\n",
    "We have first explored and compared different outcome metrics to assess whether the investment paid off. Then, we have introduced an incredibly powerful method to do inference with complex random variables: the **delta method**. In the particular case of ratios, the delta method delivers a very insightful and practical functional form for the asymptotic variance of the estimator that can be estimated with a simple linear regression."
   ]
  },
  {
   "cell_type": "markdown",
   "id": "f0c8f0f6",
   "metadata": {},
   "source": [
    "### References"
   ]
  },
  {
   "cell_type": "markdown",
   "id": "458631c8",
   "metadata": {},
   "source": [
    "[1] A. Deng, U. Knoblich, J. Lu, [Applying the Delta Method in Metric Analytics: A Practical Guide with Novel Ideas](https://arxiv.org/pdf/1803.06336.pdf) (2018).  \n",
    "\n",
    "[2] R. Budylin, A. Drutsa, I. Katsev, V. Tsoy, [Consistent Transformation of Ratio Metrics for Efficient Online Controlled Experiments](https://dl.acm.org/doi/abs/10.1145/3159652.3159699) (2018). *ACM*.\n",
    "\n",
    "[3] J. Angrist, J. Pischke, [Mostly harmless econometrics: An empiricist's companion](https://www.mostlyharmlesseconometrics.com/) (2009). *Princeton university press*."
   ]
  },
  {
   "cell_type": "markdown",
   "id": "0d54eeb2",
   "metadata": {},
   "source": [
    "### Related Articles"
   ]
  },
  {
   "cell_type": "markdown",
   "id": "849877c7",
   "metadata": {},
   "source": [
    "- [The Bayesian Bootstrap](https://medium.com/towards-data-science/the-bayesian-bootstrap-6ca4a1d45148)\n",
    "\n",
    "- [Outliers, Leverage, Residuals, and Influential Observations](https://towardsdatascience.com/df3065a0388e)\n",
    "\n",
    "- [A/B Tests, Privacy, and Online Regression](https://towardsdatascience.com/b07ab46aa782)"
   ]
  },
  {
   "cell_type": "markdown",
   "id": "2b1f07d1",
   "metadata": {},
   "source": [
    "### Code"
   ]
  },
  {
   "cell_type": "markdown",
   "id": "29dc2b92",
   "metadata": {},
   "source": [
    "You can find the original Jupyter Notebook here:\n",
    "\n",
    "https://github.com/matteocourthoud/Blog-Posts/blob/main/notebooks/delta.ipynb"
   ]
  }
 ],
 "metadata": {
  "@webio": {
   "lastCommId": null,
   "lastKernelId": null
  },
  "kernelspec": {
   "display_name": "Python (conda)",
   "language": "python",
   "name": "base"
  },
  "language_info": {
   "codemirror_mode": {
    "name": "ipython",
    "version": 3
   },
   "file_extension": ".py",
   "mimetype": "text/x-python",
   "name": "python",
   "nbconvert_exporter": "python",
   "pygments_lexer": "ipython3",
   "version": "3.9.7"
  },
  "toc": {
   "base_numbering": 1,
   "nav_menu": {},
   "number_sections": false,
   "sideBar": true,
   "skip_h1_title": true,
   "title_cell": "Table of Contents",
   "title_sidebar": "Contents",
   "toc_cell": false,
   "toc_position": {
    "height": "calc(100% - 180px)",
    "left": "10px",
    "top": "150px",
    "width": "236px"
   },
   "toc_section_display": true,
   "toc_window_display": true
  },
  "varInspector": {
   "cols": {
    "lenName": 16,
    "lenType": 16,
    "lenVar": 40
   },
   "kernels_config": {
    "python": {
     "delete_cmd_postfix": "",
     "delete_cmd_prefix": "del ",
     "library": "var_list.py",
     "varRefreshCmd": "print(var_dic_list())"
    },
    "r": {
     "delete_cmd_postfix": ") ",
     "delete_cmd_prefix": "rm(",
     "library": "var_list.r",
     "varRefreshCmd": "cat(var_dic_list()) "
    }
   },
   "types_to_exclude": [
    "module",
    "function",
    "builtin_function_or_method",
    "instance",
    "_Feature"
   ],
   "window_display": false
  }
 },
 "nbformat": 4,
 "nbformat_minor": 5
}

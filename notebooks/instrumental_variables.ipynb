{
 "cells": [
  {
   "cell_type": "markdown",
   "id": "c1870da7b9d78102",
   "metadata": {
    "collapsed": false,
    "jupyter": {
     "outputs_hidden": false
    }
   },
   "source": [
    "# Instrumental Variables"
   ]
  },
  {
   "cell_type": "markdown",
   "id": "bbd8c758-6f81-414a-bc68-ccac97099e15",
   "metadata": {},
   "source": [
    "*How to estimate causal effects when you cannot randomize treatment.*"
   ]
  },
  {
   "cell_type": "markdown",
   "id": "7963ad8f-4844-4beb-b8fd-48b73a2d0505",
   "metadata": {},
   "source": [
    "A/B tests are the golden standard of causal inference because they allow us to make valid causal statements under minimal assumptions, thanks to **randomization**. In fact, by randomly assigning a **treatment** (a drug, ad, product, ...), we are able to compare the **outcome** of interest (a disease, firm revenue, customer satisfaction, ...) across **subjects** (patients, users, customers, ...) and attribute the average difference in outcomes to the causal effect of the treatment.\n",
    "\n",
    "However, in many settings, it is **not possible to randomize** the treatment, for either ethical, legal, or practical reasons. One common online setting is on-demand features, such as subscriptions or premium memberships. Other settings include features for which we cannot discriminate customers, like insurance contracts, or features that are so deeply hard-coded that an experiment might not be worth the effort. Can we still do valid causal inference in those settings?\n",
    "\n",
    "The answer is yes, thanks to **instrumental variables** and the corresponding experimental design called **encouragement design**. In many of the settings mentioned above, we cannot randomly *assign* treatment, but we can *encourage* customers to take it. For example, we can offer a subscription discount or we can change the order in which options are presented. While customers retain the ultimate word on taking the treatment, we are still able to estimate a causal treatment effect. Let's see how."
   ]
  },
  {
   "cell_type": "markdown",
   "id": "ae9e0548-39f6-41ff-a682-0fca168b4fae",
   "metadata": {},
   "source": [
    "## Evaluating Subscription Programs"
   ]
  },
  {
   "cell_type": "markdown",
   "id": "cc8daed1-fd1b-4a40-85d0-d4b92beb6c05",
   "metadata": {},
   "source": [
    "In the rest of the article, we are going to use a toy example. Suppose we were a product company starting a weekly **newsletter** to promote product and feature updates. We would like to understand whether the newsletter is worth the effort and whether it is ultimately successful in increasing **sales**. Unfortunately, we cannot run a standard A/B test since we cannot force customers to **subscribe** to the newsletter. Does it mean we cannot evaluate the newsletter? Not exactly. \n",
    "\n",
    "Let's assume we have also run an A/B test on a new **notification** on our mobile app that promotes the newsletter. A random sample of our customers has received the notification, while a random sample has not. Perhaps this A/B test was not related to the evaluation of the causal effect of the **newsletter** at all, as it sometimes happens in large companies. However, this is a great opportunity for a data scientist interested in understanding the impact of the newsletter on **sales**.\n",
    "\n",
    "Let's first have a look at the data. I import the data-generating process from [src.dgp](https://github.com/matteocourthoud/Blog-Posts/blob/main/notebooks/src/dgp.py) and some plotting utilities from [src.utils](https://github.com/matteocourthoud/Blog-Posts/blob/main/notebooks/src/utils.py)."
   ]
  },
  {
   "cell_type": "code",
   "execution_count": 1,
   "id": "670427b5b429efd2",
   "metadata": {
    "ExecuteTime": {
     "end_time": "2023-11-11T14:30:47.492684Z",
     "start_time": "2023-11-11T14:30:47.347430Z"
    },
    "collapsed": false,
    "jupyter": {
     "outputs_hidden": false
    }
   },
   "outputs": [],
   "source": [
    "%matplotlib inline\n",
    "%config InlineBackend.figure_format = 'retina'"
   ]
  },
  {
   "cell_type": "code",
   "execution_count": 2,
   "id": "a3c4e849dc48c604",
   "metadata": {
    "ExecuteTime": {
     "end_time": "2023-11-11T14:30:47.492836Z",
     "start_time": "2023-11-11T14:30:47.350539Z"
    },
    "collapsed": false,
    "jupyter": {
     "outputs_hidden": false
    }
   },
   "outputs": [],
   "source": [
    "from src.utils import *\n",
    "from src.dgp import dgp_notification_newsletter"
   ]
  },
  {
   "cell_type": "code",
   "execution_count": 3,
   "id": "5ce3edb1-3faf-4546-a3ac-3281a01da3dc",
   "metadata": {},
   "outputs": [
    {
     "data": {
      "text/html": [
       "<div>\n",
       "<style scoped>\n",
       "    .dataframe tbody tr th:only-of-type {\n",
       "        vertical-align: middle;\n",
       "    }\n",
       "\n",
       "    .dataframe tbody tr th {\n",
       "        vertical-align: top;\n",
       "    }\n",
       "\n",
       "    .dataframe thead th {\n",
       "        text-align: right;\n",
       "    }\n",
       "</style>\n",
       "<table border=\"1\" class=\"dataframe\">\n",
       "  <thead>\n",
       "    <tr style=\"text-align: right;\">\n",
       "      <th></th>\n",
       "      <th>spend_old</th>\n",
       "      <th>notification</th>\n",
       "      <th>subscription</th>\n",
       "      <th>spend</th>\n",
       "    </tr>\n",
       "  </thead>\n",
       "  <tbody>\n",
       "    <tr>\n",
       "      <th>0</th>\n",
       "      <td>9.47</td>\n",
       "      <td>0</td>\n",
       "      <td>0</td>\n",
       "      <td>10.04</td>\n",
       "    </tr>\n",
       "    <tr>\n",
       "      <th>1</th>\n",
       "      <td>11.18</td>\n",
       "      <td>1</td>\n",
       "      <td>1</td>\n",
       "      <td>16.49</td>\n",
       "    </tr>\n",
       "    <tr>\n",
       "      <th>2</th>\n",
       "      <td>11.52</td>\n",
       "      <td>0</td>\n",
       "      <td>0</td>\n",
       "      <td>9.50</td>\n",
       "    </tr>\n",
       "    <tr>\n",
       "      <th>3</th>\n",
       "      <td>9.03</td>\n",
       "      <td>1</td>\n",
       "      <td>0</td>\n",
       "      <td>10.12</td>\n",
       "    </tr>\n",
       "    <tr>\n",
       "      <th>4</th>\n",
       "      <td>7.02</td>\n",
       "      <td>0</td>\n",
       "      <td>0</td>\n",
       "      <td>7.18</td>\n",
       "    </tr>\n",
       "  </tbody>\n",
       "</table>\n",
       "</div>"
      ],
      "text/plain": [
       "   spend_old  notification  subscription  spend\n",
       "0       9.47             0             0  10.04\n",
       "1      11.18             1             1  16.49\n",
       "2      11.52             0             0   9.50\n",
       "3       9.03             1             0  10.12\n",
       "4       7.02             0             0   7.18"
      ]
     },
     "execution_count": 3,
     "metadata": {},
     "output_type": "execute_result"
    }
   ],
   "source": [
    "dgp = dgp_notification_newsletter(n=10_000)\n",
    "df = dgp.generate_data()\n",
    "df.head()"
   ]
  },
  {
   "cell_type": "markdown",
   "id": "0c80ead0-6bca-4037-8152-123488609e16",
   "metadata": {},
   "source": [
    "We have information on *10,000* customers, for whom we observe whether or not they received the `notification`, whether they `subscribed` to the newsletter, and how much they `spent`. Moreover, we also observe how much they spent before the introduction of the subscription program (`spent_old`). For the rest of the article, we will label these variables as follows:\n",
    "\n",
    "- `notification`, the **treatment assignment**, *Z*\n",
    "- `subscription`, the **treatment status**, *W*\n",
    "- `spend_old`, a **feature** or control variable, *X*\n",
    "- `spend`, the **outcome**, *Y*"
   ]
  },
  {
   "cell_type": "markdown",
   "id": "fed3ad34227785f7",
   "metadata": {
    "collapsed": false,
    "jupyter": {
     "outputs_hidden": false
    }
   },
   "source": [
    "A **naive approach** would be to compare the difference in `spend` between customers that `subscribed` and those who didn't. The corresponding causal object or *estimand* is \n",
    " \n",
    "$$\n",
    "\\tau_{W \\to Y} = \\mathbb{E} \\Big[ \\text{spend} \\ \\Big| \\ \\text{subscription} = 1 \\Big] - \\mathbb{E} \\Big[ \\text{spend} \\ \\Big| \\ \\text{subscription} = 0 \\Big]\n",
    "$$\n",
    "\n",
    "Let's visualize the average `spend` for the two groups."
   ]
  },
  {
   "cell_type": "code",
   "execution_count": 4,
   "id": "256b7e388c5f2044",
   "metadata": {
    "ExecuteTime": {
     "end_time": "2023-11-11T14:47:59.092009Z",
     "start_time": "2023-11-11T14:47:59.086298Z"
    },
    "collapsed": false,
    "jupyter": {
     "outputs_hidden": false
    }
   },
   "outputs": [],
   "source": [
    "def plot_group_comparison(df, x, y, title, xticks):\n",
    "    fig, ax = plt.subplots()\n",
    "    g = sns.barplot(data=df.sort_values([y, x]), x=x, y=y, ci=None, ax=ax)\n",
    "    g.set(ylabel=\"\", xlabel=\"\")\n",
    "    ax.tick_params(axis='x', which='major', labelsize=16)\n",
    "    ax.set_xticklabels(xticks)\n",
    "    diff = df.loc[df[x]==1, y].mean() - df.loc[df[x]==0, y].mean()\n",
    "    plt.suptitle(title)\n",
    "    plt.title(f\"Difference: {diff:.2f}\", fontsize=16, fontweight=None, y=0.95)"
   ]
  },
  {
   "cell_type": "code",
   "execution_count": 5,
   "id": "c945cc6ded84616d",
   "metadata": {
    "ExecuteTime": {
     "end_time": "2023-11-11T14:30:47.761830Z",
     "start_time": "2023-11-11T14:30:47.377446Z"
    },
    "collapsed": false,
    "jupyter": {
     "outputs_hidden": false
    }
   },
   "outputs": [
    {
     "data": {
      "image/png": "[encoded data removed]",
      "text/plain": [
       "<Figure size 1000x600 with 1 Axes>"
      ]
     },
     "metadata": {
      "image/png": {
       "height": 575,
       "width": 837
      }
     },
     "output_type": "display_data"
    }
   ],
   "source": [
    "plot_group_comparison(df, x=\"subscription\", y=\"spend\", title=\"Spend\", xticks=[\"Non-subscriber\", \"Subscriber\"])"
   ]
  },
  {
   "cell_type": "markdown",
   "id": "98d5d84d-a18d-4532-9693-ef44c4babaad",
   "metadata": {
    "collapsed": false,
    "jupyter": {
     "outputs_hidden": false
    }
   },
   "source": [
    "Subscribers spend on average *11.5$* more than non-subscribers. But is it a **causal** effect?\n",
    "\n",
    "We can imagine that customers who are more active and more interested in our product will also be more interested in hearing news about it. For example, we can imagine that customers who have more **budget** to spend will also want to spend it better and subscribe to the newsletter. \n",
    "\n",
    "We can represent the relationship between the variables in the following Directed Acyclic Graph (DAG). If you never heard of DAGs, I recommend reading my [introductory article](https://towardsdatascience.com/b63dc69e3d8c) first."
   ]
  },
  {
   "cell_type": "markdown",
   "id": "93bedcc8-d834-45e0-9035-bf4c808449c9",
   "metadata": {
    "collapsed": false,
    "jupyter": {
     "outputs_hidden": false
    }
   },
   "source": [
    "https://towardsdatascience.com/b63dc69e3d8c"
   ]
  },
  {
   "cell_type": "markdown",
   "id": "04268146-5f1b-474d-8ff7-6c887b2f47e0",
   "metadata": {
    "collapsed": false,
    "jupyter": {
     "outputs_hidden": false
    }
   },
   "source": [
    "In the plot, we represent variables with circles and causal relationships with arrows.\n",
    "\n",
    "```mermaid\n",
    "flowchart LR\r",
    "classDef included fill:#DCDCDC,stroke:#000000,stroke-width:2px;\r",
    "classDef excluded fill:#ffffff,stroke:#000000,stroke-width:2px;\r",
    "classDef unobserved fill:#ffffff,stroke:#000000,stroke-width:2px,stroke-dasharray: 5 5;\r",
    "\r",
    "U((U: budget))\r",
    "W((W: subscription))\r",
    "Y((Y: spend))\r",
    "\r",
    "U --> W\r",
    "U --> Y\r",
    "W --> Y\r",
    "\r",
    "class W,Y included;\r",
    "class U unobserved;\r",
    "\r",
    "linkStyle 0,1 stroke:#ff6e54,stroke-width:4px;\r",
    "linkStyle 2 stroke:#003f5c,stroke-width:4px;\n",
    "```"
   ]
  },
  {
   "cell_type": "markdown",
   "id": "2dd194b9-46b4-4f39-be9b-67e76bac21a4",
   "metadata": {},
   "source": [
    "Technically speaking, customer's **budget** is an unobservable confounder that opens a spurious path between our treatment, the `subscription`, and the outcome, customers' `spend`. Because of this, we cannot interpret the difference-in-means estimate of *11.5\\$* as causal.\n",
    "\n",
    "What can we do?"
   ]
  },
  {
   "cell_type": "markdown",
   "id": "112016a59549b3d3",
   "metadata": {
    "collapsed": false,
    "jupyter": {
     "outputs_hidden": false
    }
   },
   "source": [
    "## Encouragement Design"
   ]
  },
  {
   "cell_type": "markdown",
   "id": "da43cbe40cc9f353",
   "metadata": {
    "collapsed": false,
    "jupyter": {
     "outputs_hidden": false
    }
   },
   "source": [
    "Unfortunately, we cannot run an A/B test because we cannot force people to subscribe to the newsletter. However, we can *encourage* people to subscribe. For example, we can send them a mobile **notification** to advertise the newsletter. This setting is called an **encouragement design** since we do not randomize the treatment, but the encouragement. The encouragement, the `notification` in our setting, is also called **instrumental variable**.\n",
    "\n",
    "It's important to stress that, while being randomly assigned, the encouragement does *not* correspond with the treatment of interest. In fact, some people will *not* subscribe despite receiving the notification, and some people will subscribe despite  *not* receiving the notification."
   ]
  },
  {
   "cell_type": "markdown",
   "id": "e0a54b99-30b7-4a0a-a5b4-8c66faa3a491",
   "metadata": {},
   "source": [
    "![img](fig/instrumental_variables1.png)"
   ]
  },
  {
   "cell_type": "markdown",
   "id": "4a1a77b603c434f1",
   "metadata": {
    "collapsed": false,
    "jupyter": {
     "outputs_hidden": false
    }
   },
   "source": [
    "After adding the encouragement, the `notification`, the data-generating process can be represented with the following DAG.\n",
    "\n",
    "```mermaid\n",
    "flowchart LR\r",
    "classDef included fill:#DCDCDC,stroke:#000000,stroke-width:2px;\r",
    "classDef excluded fill:#ffffff,stroke:#000000,stroke-width:2px;\r",
    "classDef unobserved fill:#ffffff,stroke:#000000,stroke-width:2px,stroke-dasharray: 5 5;\r",
    "\r",
    "U((U: budget))\r",
    "Z((Z: notification))\r",
    "W((W: subscription))\r",
    "Y((Y: spend))\r",
    "\r",
    "U -.-> W\r",
    "U -.-> Y\r",
    "Z --> W\r",
    "W --> Y\r",
    "\r",
    "class Z,W,Y included;\r",
    "class U unobserved;\r",
    "\r",
    "linkStyle 0,1 stroke-width:4px;\r",
    "linkStyle 2 stroke:#003f5c,stroke-width:4px;\r",
    "linkStyle 3 stroke:#2db88b,stroke-width:4px;\n",
    "```"
   ]
  },
  {
   "cell_type": "markdown",
   "id": "ec5d0c235a5a9adc",
   "metadata": {
    "collapsed": false,
    "jupyter": {
     "outputs_hidden": false
    }
   },
   "source": [
    "Note that now we have closed the open path between `subscription` and `spend`. Therefore, we can estimate the causal effect of the subscription on the probability of making a sale. Let's see how."
   ]
  },
  {
   "cell_type": "markdown",
   "id": "500aa15e6095e8bf",
   "metadata": {
    "collapsed": false,
    "jupyter": {
     "outputs_hidden": false
    }
   },
   "source": [
    "First, we would like to understand whether the `notification` is effective or not. This is often referred to as **strength** of the instrument. Thanks to randomization, we can attribute the average difference in `spend` between people who received the `notification` and people who did not, to the treatment itself.\n",
    "\n",
    "$$\n",
    "\\tau_{Z \\to Y} = \\mathbb{E} \\Big[ \\text{spend} \\ | \\ \\text{notification} = 1 \\Big] - \\mathbb{E} \\Big[ \\text{spend} \\ | \\ \\text{notification} = 0 \\Big]\n",
    "$$\n",
    "\n",
    "Let's visualize the corresponding difference-in-means estimate."
   ]
  },
  {
   "cell_type": "code",
   "execution_count": 6,
   "id": "cce4454d48c211f",
   "metadata": {
    "ExecuteTime": {
     "end_time": "2023-11-11T14:31:00.394795Z",
     "start_time": "2023-11-11T14:31:00.191592Z"
    },
    "collapsed": false,
    "jupyter": {
     "outputs_hidden": false
    }
   },
   "outputs": [
    {
     "data": {
      "image/png": "[encoded data removed]",
      "text/plain": [
       "<Figure size 1000x600 with 1 Axes>"
      ]
     },
     "metadata": {
      "image/png": {
       "height": 575,
       "width": 825
      }
     },
     "output_type": "display_data"
    }
   ],
   "source": [
    "plot_group_comparison(df, x=\"notification\", y=\"spend\", title=\"Spend\", xticks=[\"No Notification\", \"Notification\"])"
   ]
  },
  {
   "cell_type": "markdown",
   "id": "7216dd79309855ac",
   "metadata": {
    "collapsed": false,
    "jupyter": {
     "outputs_hidden": false
    }
   },
   "source": [
    "It seems that customers who received the `notification` spend on average *1\\$* more than customers who didn't receive it. This is a sensibly lower number than the *11.5\\$* we estimated before.\n",
    "\n",
    "However, the effect of the `notification` on `spend` is not what we are interested in. We would rather know the effect of the `subscription` on `spend`. In fact, not all customers who receive the email subscribe to the newsletter. And vice-versa, some people subscribe to the newsletter even without the notification. \n",
    "\n",
    "This means that the effect that we have just computed is **diluted** by the fact that some people do not comply with our incentive, the `notification`. We have to attribute it *only* to the customers who changed their minds because of the newsletter. How many are these customers?\n",
    "\n",
    "Let's compute the probability of `subscription`, by treatment group. \n",
    "\n",
    "$$\n",
    "\\tau_{Z \\to W} = \\mathbb{E} \\Big[ \\text{subscription} \\ | \\ \\text{notification} = 1 \\Big] - \\mathbb{E} \\Big[ \\text{subscription} \\ | \\ \\text{notification} = 0 \\Big]\n",
    "$$"
   ]
  },
  {
   "cell_type": "code",
   "execution_count": 7,
   "id": "393cd523dd17dc2a",
   "metadata": {
    "ExecuteTime": {
     "end_time": "2023-11-11T14:31:00.933573Z",
     "start_time": "2023-11-11T14:31:00.679421Z"
    },
    "collapsed": false,
    "jupyter": {
     "outputs_hidden": false
    }
   },
   "outputs": [
    {
     "data": {
      "image/png": "[encoded data removed]",
      "text/plain": [
       "<Figure size 1000x600 with 1 Axes>"
      ]
     },
     "metadata": {
      "image/png": {
       "height": 575,
       "width": 829
      }
     },
     "output_type": "display_data"
    }
   ],
   "source": [
    "plot_group_comparison(df, x=\"notification\", y=\"subscription\", title=\"Subscription Probability\", xticks=[\"No Notification\", \"Notification\"])"
   ]
  },
  {
   "cell_type": "markdown",
   "id": "61ba11243656c9bc",
   "metadata": {
    "collapsed": false,
    "jupyter": {
     "outputs_hidden": false
    }
   },
   "source": [
    "Customers that received the `notification` have a *17%* higher `subscription` probability. In other words, it seems that the `notification` is able to make *17%* of our customers change their minds. From the control group, we learned that *28%* of them would have subscribed anyway, while we were unable to convince the remaining *55%*. \n",
    "\n",
    "We now have all the ingredients we need for our main analysis"
   ]
  },
  {
   "cell_type": "markdown",
   "id": "3ebfdda3d93b79fa",
   "metadata": {
    "collapsed": false,
    "jupyter": {
     "outputs_hidden": false
    }
   },
   "source": [
    "## Instrumental Variables (IV)"
   ]
  },
  {
   "cell_type": "markdown",
   "id": "8ebb176f0e114ee0",
   "metadata": {
    "collapsed": false,
    "jupyter": {
     "outputs_hidden": false
    }
   },
   "source": [
    "In this case, with a binary instrument, the `notification`, a binary treatment, the `subscription` decision, and a 50-50 treatment assignment probability, we can get a very simple **intuition** of how instrumental variables work.\n",
    "\n",
    "We have four groups of customers, depending on whether they received the notification or not, and wether they subscribed or not."
   ]
  },
  {
   "cell_type": "code",
   "execution_count": 8,
   "id": "69218f8b0ebfd0fc",
   "metadata": {
    "ExecuteTime": {
     "end_time": "2023-11-11T14:36:40.188996Z",
     "start_time": "2023-11-11T14:36:40.182894Z"
    },
    "collapsed": false,
    "jupyter": {
     "outputs_hidden": false
    }
   },
   "outputs": [
    {
     "data": {
      "text/html": [
       "<div>\n",
       "<style scoped>\n",
       "    .dataframe tbody tr th:only-of-type {\n",
       "        vertical-align: middle;\n",
       "    }\n",
       "\n",
       "    .dataframe tbody tr th {\n",
       "        vertical-align: top;\n",
       "    }\n",
       "\n",
       "    .dataframe thead tr th {\n",
       "        text-align: left;\n",
       "    }\n",
       "</style>\n",
       "<table border=\"1\" class=\"dataframe\">\n",
       "  <thead>\n",
       "    <tr>\n",
       "      <th>notification</th>\n",
       "      <th colspan=\"2\" halign=\"left\">1</th>\n",
       "      <th colspan=\"2\" halign=\"left\">0</th>\n",
       "    </tr>\n",
       "    <tr>\n",
       "      <th>subscription</th>\n",
       "      <th>1</th>\n",
       "      <th>0</th>\n",
       "      <th>1</th>\n",
       "      <th>0</th>\n",
       "    </tr>\n",
       "  </thead>\n",
       "  <tbody>\n",
       "    <tr>\n",
       "      <th>spend</th>\n",
       "      <td>42643.0</td>\n",
       "      <td>19958.0</td>\n",
       "      <td>27857.0</td>\n",
       "      <td>29566.0</td>\n",
       "    </tr>\n",
       "    <tr>\n",
       "      <th>customers</th>\n",
       "      <td>2253.0</td>\n",
       "      <td>2747.0</td>\n",
       "      <td>1400.0</td>\n",
       "      <td>3600.0</td>\n",
       "    </tr>\n",
       "  </tbody>\n",
       "</table>\n",
       "</div>"
      ],
      "text/plain": [
       "notification        1                 0         \n",
       "subscription        1        0        1        0\n",
       "spend         42643.0  19958.0  27857.0  29566.0\n",
       "customers      2253.0   2747.0   1400.0   3600.0"
      ]
     },
     "execution_count": 8,
     "metadata": {},
     "output_type": "execute_result"
    }
   ],
   "source": [
    "df.groupby([\"notification\", \"subscription\"]).agg(spend=(\"spend\", \"sum\"), customers=(\"spend\", \"count\")).iloc[::-1].T.round(0)"
   ]
  },
  {
   "cell_type": "markdown",
   "id": "f7a4a38a-748e-499e-a9d3-26122aa35496",
   "metadata": {},
   "source": [
    "Let's visualize the total spend and the total number of customers within each bucket."
   ]
  },
  {
   "cell_type": "markdown",
   "id": "7bebc8f3-1edd-4c54-8a6c-53101db2bdce",
   "metadata": {},
   "source": [
    "![img](fig/instrumental_variables2.png)"
   ]
  },
  {
   "cell_type": "markdown",
   "id": "e1eacbddc522cded",
   "metadata": {
    "collapsed": false,
    "jupyter": {
     "outputs_hidden": false
    }
   },
   "source": [
    "Comparing treatment (`notification`) and control group, we see that the notification has generated an increase in `spend` of *5k€* (*43 + 20 - 28 - 30*). In order to recover the causal effect of interest, we just need to attribute the *5k€* incremental `spend` to the *800* (*2200 - 1400*) customers that decided to `subscribe` because of the `notification`. The result is exactly *5k€ / 800 = 6€* per customer!"
   ]
  },
  {
   "cell_type": "markdown",
   "id": "51c15ecc-fac2-4c75-bf05-1c178c6978ca",
   "metadata": {},
   "source": [
    "![img](fig/instrumental_variables3.png)"
   ]
  },
  {
   "cell_type": "markdown",
   "id": "8832f857-7d30-4c92-a4df-b6256945cba7",
   "metadata": {},
   "source": [
    "More generally, the IV estimand is given by the **ratio of two causal effects**: the effect of the instrument (or encouragement, or assignment) *Z*, on the outcome *Y*, over the effect of the instrument *Z* on the treatment (or endogenous variable) *W*.\n",
    "\n",
    "$$\n",
    "\\tau_{IV} = \\frac{\\tau_{Z \\to Y}}{\\tau_{Z \\to W}} = \\frac{\\mathbb{E} \\Big[ \\text{spend} \\ | \\ \\text{notification} = 1 \\Big] - \\mathbb{E} \\Big[ \\text{spend} \\ | \\ \\text{notification} = 0 \\Big]}{\\mathbb{E} \\Big[ \\text{subscription} \\ | \\ \\text{notification} = 1 \\Big] - \\mathbb{E} \\Big[ \\text{subscription} \\ | \\ \\text{notification} = 0 \\Big]}\n",
    "$$\n",
    "\n",
    "To compute the IV estimate we replace the expected values with the empirical averages. In practice, in our case, we just divide the two difference-in-means estimates we computed in the plots in the previous section."
   ]
  },
  {
   "cell_type": "code",
   "execution_count": 12,
   "id": "33c769c8-90f8-4592-b50a-891fe01a836c",
   "metadata": {},
   "outputs": [
    {
     "data": {
      "text/plain": [
       "6.070222743259094"
      ]
     },
     "execution_count": 12,
     "metadata": {},
     "output_type": "execute_result"
    }
   ],
   "source": [
    "tau_ZY = df.loc[df.notification == 1, \"spend\"].mean() - df.loc[df.notification == 0, \"spend\"].mean()\n",
    "tau_ZW = df.loc[df.notification == 1, \"subscription\"].mean() - df.loc[df.notification == 0, \"subscription\"].mean()\n",
    "tau_ZY / tau_ZW"
   ]
  },
  {
   "cell_type": "markdown",
   "id": "e72b1d27-b1a1-4fbb-81ca-b5591e7377ce",
   "metadata": {},
   "source": [
    "Our instrumental variable estimate of the effect of the `subscription` program on `spend` is *6$*, as anticipated in the illustrations above! Note that the math in the illustration works *only* in the special case of an exact 50-50 assignment.\n",
    "\n",
    "More generally, it can be shown that the formula of the IV estimator is given by a ratio of covariances,\n",
    "\n",
    "$$\n",
    "\\tau_{IV} = \\frac{\\text{Cov} (Z, Y)}{\\text{Cov} (Z, W)}\n",
    "$$\n",
    "\n",
    "or, in matrix notation,\n",
    "\n",
    "$$\n",
    "\\tau_{IV} = \\mathbb{E} \\big[ ZW \\big]^{-1} \\mathbb{E} \\big[ ZY \\big]\n",
    "$$"
   ]
  },
  {
   "cell_type": "markdown",
   "id": "6fbcb32d-a9d8-43aa-a180-27b870eb77e6",
   "metadata": {},
   "source": [
    "## IV Extensions"
   ]
  },
  {
   "cell_type": "markdown",
   "id": "ab7a6487-7281-4543-bb57-41332849c075",
   "metadata": {},
   "source": [
    "What would happen if we had more instruments or other control variables? For example, we could have run other experiments to encourage customers to `subscribe`. Or, as in our case, we could have other variables that we can add to the model in order to increase prediction accuracy, such as previous spend levels, `spend_old`. How do we include them in the model?\n",
    "\n",
    "The long-story-short is that when we have multiple instruments, the instrumental variable formula can be rewritten as \n",
    "\n",
    "$$\n",
    "\\tau_{2SLS} = \\mathbb{E} \\big[ \\hat{W} \\hat{W} \\big]^{-1} \\mathbb{E} \\big[ \\hat{W} Y \\big]\n",
    "$$\n",
    "\n",
    "where $\\hat{W}$ is the projection of *W* onto *Z*, i.e. in practice the predicted treatment status, given the treatment assignment. This prediction step is called the **first stage**. This formula should remind you of the OLS estimator formula. Indeed, this is equivalent to a linear regression of our outcome *Y* on the predicted treatment *W*, given the assignment *Z*. This step is called the **second stage**. Overall, since the estimation procedure can be split into two separate stages, this is referred to as the **Two-Stage Least Squares (2SLS) Estimator**.\n",
    "\n",
    "The two-stage formulation particularly evident in the implementation of most IV packages, where we express the treatment as the result of a regression on the instrument. In the [`IV2SLS`](https://bashtage.github.io/linearmodels/iv/iv/linearmodels.iv.model.IV2SLS.html) package this is done by using square brackets. "
   ]
  },
  {
   "cell_type": "code",
   "execution_count": 10,
   "id": "653c9451-6dfe-481b-9b5b-e15a9cc0558f",
   "metadata": {},
   "outputs": [
    {
     "data": {
      "text/html": [
       "<table class=\"simpletable\">\n",
       "<caption>Parameter Estimates</caption>\n",
       "<tr>\n",
       "        <td></td>       <th>Parameter</th> <th>Std. Err.</th> <th>T-stat</th> <th>P-value</th> <th>Lower CI</th> <th>Upper CI</th>\n",
       "</tr>\n",
       "<tr>\n",
       "  <th>Intercept</th>     <td>9.7849</td>    <td>0.2083</td>   <td>46.973</td> <td>0.0000</td>   <td>9.3766</td>   <td>10.193</td> \n",
       "</tr>\n",
       "<tr>\n",
       "  <th>subscription</th>  <td>6.0702</td>    <td>0.5548</td>   <td>10.942</td> <td>0.0000</td>   <td>4.9829</td>   <td>7.1575</td> \n",
       "</tr>\n",
       "</table>"
      ],
      "text/latex": [
       "\\begin{center}\n",
       "\\begin{tabular}{lcccccc}\n",
       "\\toprule\n",
       "                      & \\textbf{Parameter} & \\textbf{Std. Err.} & \\textbf{T-stat} & \\textbf{P-value} & \\textbf{Lower CI} & \\textbf{Upper CI}  \\\\\n",
       "\\midrule\n",
       "\\textbf{Intercept}    &       9.7849       &       0.2083       &      46.973     &      0.0000      &       9.3766      &       10.193       \\\\\n",
       "\\textbf{subscription} &       6.0702       &       0.5548       &      10.942     &      0.0000      &       4.9829      &       7.1575       \\\\\n",
       "\\bottomrule\n",
       "\\end{tabular}\n",
       "%\\caption{Parameter Estimates}\n",
       "\\end{center}"
      ],
      "text/plain": [
       "<class 'statsmodels.iolib.table.SimpleTable'>"
      ]
     },
     "execution_count": 10,
     "metadata": {},
     "output_type": "execute_result"
    }
   ],
   "source": [
    "from linearmodels.iv.model import IV2SLS as iv\n",
    "model_iv = iv.from_formula(\"spend ~ 1 + [subscription ~ notification]\", data=df).fit()\n",
    "model_iv.summary.tables[1]"
   ]
  },
  {
   "cell_type": "markdown",
   "id": "27457e51-ef4e-442f-946d-5830bc8afe00",
   "metadata": {},
   "source": [
    "We can verify that this is algebraically equivalent to first regressing `subscription` on `notification` and then regressing `spend` on the predicted `subscription` probability. Below we run the two regressions and report the estimates from the second stage."
   ]
  },
  {
   "cell_type": "code",
   "execution_count": 27,
   "id": "72b9b5a5-8c00-4bdd-9813-03857a08708a",
   "metadata": {},
   "outputs": [
    {
     "data": {
      "text/html": [
       "<table class=\"simpletable\">\n",
       "<tr>\n",
       "          <td></td>            <th>coef</th>     <th>std err</th>      <th>t</th>      <th>P>|t|</th>  <th>[0.025</th>    <th>0.975]</th>  \n",
       "</tr>\n",
       "<tr>\n",
       "  <th>Intercept</th>        <td>    9.7849</td> <td>    0.298</td> <td>   32.823</td> <td> 0.000</td> <td>    9.201</td> <td>   10.369</td>\n",
       "</tr>\n",
       "<tr>\n",
       "  <th>subscription_hat</th> <td>    6.0702</td> <td>    0.795</td> <td>    7.639</td> <td> 0.000</td> <td>    4.512</td> <td>    7.628</td>\n",
       "</tr>\n",
       "</table>"
      ],
      "text/latex": [
       "\\begin{center}\n",
       "\\begin{tabular}{lcccccc}\n",
       "\\toprule\n",
       "                           & \\textbf{coef} & \\textbf{std err} & \\textbf{t} & \\textbf{P$> |$t$|$} & \\textbf{[0.025} & \\textbf{0.975]}  \\\\\n",
       "\\midrule\n",
       "\\textbf{Intercept}         &       9.7849  &        0.298     &    32.823  &         0.000        &        9.201    &       10.369     \\\\\n",
       "\\textbf{subscription\\_hat} &       6.0702  &        0.795     &     7.639  &         0.000        &        4.512    &        7.628     \\\\\n",
       "\\bottomrule\n",
       "\\end{tabular}\n",
       "\\end{center}"
      ],
      "text/plain": [
       "<class 'statsmodels.iolib.table.SimpleTable'>"
      ]
     },
     "execution_count": 27,
     "metadata": {},
     "output_type": "execute_result"
    }
   ],
   "source": [
    "model_1st_stage = smf.ols(\"subscription ~ 1 + notification\", data=df).fit()\n",
    "df[\"subscription_hat\"] = model_1st_stage.predict(df)\n",
    "model_2nd_stage = smf.ols(\"spend ~ 1 + subscription_hat\", data=df).fit()\n",
    "model_2nd_stage.summary().tables[1]"
   ]
  },
  {
   "cell_type": "markdown",
   "id": "436ddc75-9da4-4c43-af2a-339b1b9ea044",
   "metadata": {},
   "source": [
    "The coefficients are indeed identical!\n",
    "\n",
    "Lastly, the two-stage formulation above should also make the inclusion of additional **covariates** quite intuitive. We just add the covariates to both stages. "
   ]
  },
  {
   "cell_type": "code",
   "execution_count": 32,
   "id": "dbb3eac2-206a-4321-a35b-610f95287d20",
   "metadata": {},
   "outputs": [
    {
     "data": {
      "text/html": [
       "<table class=\"simpletable\">\n",
       "<tr>\n",
       "          <td></td>            <th>coef</th>     <th>std err</th>      <th>t</th>      <th>P>|t|</th>  <th>[0.025</th>    <th>0.975]</th>  \n",
       "</tr>\n",
       "<tr>\n",
       "  <th>Intercept</th>        <td>    0.3876</td> <td>    0.081</td> <td>    4.811</td> <td> 0.000</td> <td>    0.230</td> <td>    0.546</td>\n",
       "</tr>\n",
       "<tr>\n",
       "  <th>spend_old</th>        <td>    0.9619</td> <td>    0.018</td> <td>   53.210</td> <td> 0.000</td> <td>    0.926</td> <td>    0.997</td>\n",
       "</tr>\n",
       "<tr>\n",
       "  <th>subscription_hat</th> <td>    5.9972</td> <td>    0.317</td> <td>   18.946</td> <td> 0.000</td> <td>    5.377</td> <td>    6.618</td>\n",
       "</tr>\n",
       "</table>"
      ],
      "text/latex": [
       "\\begin{center}\n",
       "\\begin{tabular}{lcccccc}\n",
       "\\toprule\n",
       "                           & \\textbf{coef} & \\textbf{std err} & \\textbf{t} & \\textbf{P$> |$t$|$} & \\textbf{[0.025} & \\textbf{0.975]}  \\\\\n",
       "\\midrule\n",
       "\\textbf{Intercept}         &       0.3876  &        0.081     &     4.811  &         0.000        &        0.230    &        0.546     \\\\\n",
       "\\textbf{spend\\_old}        &       0.9619  &        0.018     &    53.210  &         0.000        &        0.926    &        0.997     \\\\\n",
       "\\textbf{subscription\\_hat} &       5.9972  &        0.317     &    18.946  &         0.000        &        5.377    &        6.618     \\\\\n",
       "\\bottomrule\n",
       "\\end{tabular}\n",
       "\\end{center}"
      ],
      "text/plain": [
       "<class 'statsmodels.iolib.table.SimpleTable'>"
      ]
     },
     "execution_count": 32,
     "metadata": {},
     "output_type": "execute_result"
    }
   ],
   "source": [
    "model_1st_stage = smf.ols(\"subscription ~ 1 + spend_old + notification\", data=df).fit()\n",
    "df[\"subscription_hat\"] = model_1st_stage.predict(df)\n",
    "model_2nd_stage_x = smf.ols(\"spend ~ 1 + spend_old + subscription_hat\", data=df).fit()\n",
    "model_2nd_stage_x.summary().tables[1]"
   ]
  },
  {
   "cell_type": "markdown",
   "id": "817d2be2-b979-4370-b612-edbc6a2f5a49",
   "metadata": {},
   "source": [
    "We can again verify that the estimated coefficients are identical."
   ]
  },
  {
   "cell_type": "code",
   "execution_count": 29,
   "id": "c42124a7-03d7-42bb-a8bb-82fcaa972ad3",
   "metadata": {},
   "outputs": [
    {
     "data": {
      "text/html": [
       "<table class=\"simpletable\">\n",
       "<caption>Parameter Estimates</caption>\n",
       "<tr>\n",
       "        <td></td>       <th>Parameter</th> <th>Std. Err.</th> <th>T-stat</th> <th>P-value</th> <th>Lower CI</th> <th>Upper CI</th>\n",
       "</tr>\n",
       "<tr>\n",
       "  <th>Intercept</th>     <td>0.3876</td>    <td>0.0294</td>   <td>13.177</td> <td>0.0000</td>   <td>0.3299</td>   <td>0.4452</td> \n",
       "</tr>\n",
       "<tr>\n",
       "  <th>spend_old</th>     <td>0.9619</td>    <td>0.0066</td>   <td>145.03</td> <td>0.0000</td>   <td>0.9489</td>   <td>0.9749</td> \n",
       "</tr>\n",
       "<tr>\n",
       "  <th>subscription</th>  <td>5.9972</td>    <td>0.1161</td>   <td>51.652</td> <td>0.0000</td>   <td>5.7696</td>   <td>6.2248</td> \n",
       "</tr>\n",
       "</table>"
      ],
      "text/latex": [
       "\\begin{center}\n",
       "\\begin{tabular}{lcccccc}\n",
       "\\toprule\n",
       "                      & \\textbf{Parameter} & \\textbf{Std. Err.} & \\textbf{T-stat} & \\textbf{P-value} & \\textbf{Lower CI} & \\textbf{Upper CI}  \\\\\n",
       "\\midrule\n",
       "\\textbf{Intercept}    &       0.3876       &       0.0294       &      13.177     &      0.0000      &       0.3299      &       0.4452       \\\\\n",
       "\\textbf{spend\\_old}   &       0.9619       &       0.0066       &      145.03     &      0.0000      &       0.9489      &       0.9749       \\\\\n",
       "\\textbf{subscription} &       5.9972       &       0.1161       &      51.652     &      0.0000      &       5.7696      &       6.2248       \\\\\n",
       "\\bottomrule\n",
       "\\end{tabular}\n",
       "%\\caption{Parameter Estimates}\n",
       "\\end{center}"
      ],
      "text/plain": [
       "<class 'statsmodels.iolib.table.SimpleTable'>"
      ]
     },
     "execution_count": 29,
     "metadata": {},
     "output_type": "execute_result"
    }
   ],
   "source": [
    "model_iv = iv.from_formula(\"spend ~ 1 + spend_old + [subscription ~ notification]\", data=df).fit()\n",
    "model_iv.summary.tables[1]"
   ]
  },
  {
   "cell_type": "markdown",
   "id": "a448133f-388e-4ed0-b66c-9679b19c88e7",
   "metadata": {},
   "source": [
    "Including previous spend levels in the regression has indeed decreased the standard errors from *0.5* to *0.1*."
   ]
  },
  {
   "cell_type": "markdown",
   "id": "92e4e552526d105d",
   "metadata": {
    "collapsed": false,
    "jupyter": {
     "outputs_hidden": false
    }
   },
   "source": [
    "## The Limits of IV"
   ]
  },
  {
   "cell_type": "markdown",
   "id": "2e256d29-cfb8-438e-8e97-2179c9ac464d",
   "metadata": {},
   "source": [
    "The main limit of instrumental variables in an experimental setting, as analyzed in this article, is that they estimate a very \"special\" causal effect. As we have seen in the previous section, we have to re-scale the total effect by the number of customers who decided to `subscribe` *because of* the `newsletter`. This means that we can estimate the effect only for those customers who *complied* with our intervention. This set of customers is usually called **compliers** and the corresponding causal effect is called the **Local Average Treatment Effect (LATE)** or **Compliers Average Causal Effect (CACE)**.\n",
    "\n",
    "We are unfortunately unable to say anything about customers who subscribed to the `newsletter` even without the `notification`, called the **always-takers**, and those that we couldn't convince with the `notification`, the **never-takers**.\n",
    "\n",
    "Another limit of IV concerns its **assumptions**. In the last paragraph, we talked about three groups of customers, the compliers (our favorite one), always-takers, and never-takers. You might have noticed that this characterization implies the existence of a fourth group: the **defiers**. Those are the customers that would have `subscribed` to the newsletter if we had not received the `notification`. However, because of the notification, they changed their mind, *defying* the intent of the instrument.\n",
    "\n",
    "![img](fig/instrumental_variables4.png)\n",
    "\n",
    "In order to be able to draw causal conclusions, we have to assume that there are **no defiers** in the experiment, otherwise our re-scaling would be wrong and our estimates biased.\n",
    "\n",
    "Another crucial assumption lurking in the background is what is usually called the **exclusion restriction**. In words, this assumption states that the instrument, the `notification`, only affects the outcome, `spend`, through the treatment, the `subscription`. A potential violation in our setting could be if the notification was *waking up* sleeping users. Imagine a customer who wanted to make a sale and already added items to the basket, but forgot to checkout. The subscription notification might remind the users to checkout and therefore directly impact `spend`. As you can imagine, the IV estimate would be biased because we are wrongly attributing some sales to the `subscription`, while they were a *direct* effect of the `notification` itself."
   ]
  },
  {
   "cell_type": "markdown",
   "id": "1066846f-3cc1-4aef-8d84-e68618505f51",
   "metadata": {},
   "source": [
    "## Conclusion"
   ]
  },
  {
   "cell_type": "markdown",
   "id": "fa02318e-352c-4a2a-9432-9f24e6585bae",
   "metadata": {},
   "source": [
    "In this article, we have introduced **instrumental variables** in an experimental setting. When we cannot randomize the treatment because of ethical, legal or technical constraints, we might still consider randomizing an **incentive** to take up the treatment. This allows us to make causal statements, but only for a subset of the overall population, the **compliers**, i.e. the customers that comply with our incentive and take up the treatment *because of* the incentive.\n",
    "\n",
    "It's important to note that instrumental variables can be also used in **observational settings**. However, in that case, the **exclusion restriction** assumption that we mentioned in the previous section becomes harder to justify. In fact, we need a setting in which our instrument does not affect the outcome through *any other* channel besides the treatment. Technically, the exclusion restriction assumption is\n",
    "\n",
    "$$\n",
    "Y_i(W_i = w, Z_i = 1) = Y_i(W_i = w, Z_i = 0) \\qquad \\forall w, i\n",
    "$$\n",
    "\n",
    "This assumption is harder to justify when we do not control the design of the encouragement assignment. However, if satisfied, it opens the door to causal inference in completely new settings."
   ]
  },
  {
   "cell_type": "markdown",
   "id": "35384353-bd7e-4c18-8c83-85537d1f1dca",
   "metadata": {
    "tags": []
   },
   "source": [
    "### References"
   ]
  },
  {
   "cell_type": "markdown",
   "id": "b29742b8-ebeb-4744-999d-9fcd0527ecee",
   "metadata": {},
   "source": [
    "- Spotify (2023), [Encouragement Designs and Instrumental Variables for A/B Testing](https://engineering.atspotify.com/2023/08/encouragement-designs-and-instrumental-variables-for-a-b-testing/)\n",
    "\n",
    "- Goldsmith-Pinkham (2021), [Instrumental Variables](https://www.youtube.com/watch?v=LEAx0He_KBI) video lecture\n",
    "\n",
    "- Ding (2023), [A First Course in Causal Inference](https://arxiv.org/abs/2305.18793) notes"
   ]
  },
  {
   "cell_type": "markdown",
   "id": "e2bac780-e7df-4122-a17e-61aa10b83ae5",
   "metadata": {},
   "source": [
    "### Related Articles"
   ]
  },
  {
   "cell_type": "markdown",
   "id": "b581d589-fc82-452f-9436-e154cca52ffa",
   "metadata": {},
   "source": [
    "- [DAGs and Control Variables](https://towardsdatascience.com/b63dc69e3d8c)\n",
    "\n",
    "- [Understanding Omitted Variable Bias](https://towardsdatascience.com/344ac1477699)\n",
    "\n",
    "- [Understanding The Frisch-Waugh-Lovell Theorem](https://towardsdatascience.com/59f801eb3299)"
   ]
  },
  {
   "cell_type": "markdown",
   "id": "03013e6d-64e8-48cb-9a0a-3b5ea4a20923",
   "metadata": {},
   "source": [
    "### Code"
   ]
  },
  {
   "cell_type": "markdown",
   "id": "906cdf86-52f1-4012-933a-cd609c9db6ab",
   "metadata": {},
   "source": [
    "You can find the original Jupyter Notebook here:\n",
    "\n",
    "https://github.com/matteocourthoud/Blog-Posts/blob/main/notebooks/instrumental_variables.ipynb"
   ]
  }
 ],
 "metadata": {
  "kernelspec": {
   "display_name": "Python3",
   "language": "python",
   "name": "python3"
  },
  "language_info": {
   "codemirror_mode": {
    "name": "ipython",
    "version": 3
   },
   "file_extension": ".py",
   "mimetype": "text/x-python",
   "name": "python",
   "nbconvert_exporter": "python",
   "pygments_lexer": "ipython3",
   "version": "3.11.6"
  }
 },
 "nbformat": 4,
 "nbformat_minor": 5
}
